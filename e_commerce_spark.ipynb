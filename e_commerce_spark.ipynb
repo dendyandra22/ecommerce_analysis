{
 "cells": [
  {
   "cell_type": "markdown",
   "metadata": {},
   "source": [
    "# E-commerce Machine Learning\n"
   ]
  },
  {
   "cell_type": "code",
   "execution_count": 2,
   "metadata": {},
   "outputs": [],
   "source": [
    "import pandas as pd\n",
    "from pyspark.sql import SparkSession\n",
    "import matplotlib.pyplot as plt\n",
    "import numpy as np\n",
    "import seaborn as sns"
   ]
  },
  {
   "cell_type": "markdown",
   "metadata": {},
   "source": [
    "## Spark Session Initiate"
   ]
  },
  {
   "cell_type": "code",
   "execution_count": 3,
   "metadata": {},
   "outputs": [
    {
     "data": {
      "text/html": [
       "\n",
       "            <div>\n",
       "                <p><b>SparkSession - in-memory</b></p>\n",
       "                \n",
       "        <div>\n",
       "            <p><b>SparkContext</b></p>\n",
       "\n",
       "            <p><a href=\"http://host.docker.internal:4040\">Spark UI</a></p>\n",
       "\n",
       "            <dl>\n",
       "              <dt>Version</dt>\n",
       "                <dd><code>v3.5.0</code></dd>\n",
       "              <dt>Master</dt>\n",
       "                <dd><code>local[6]</code></dd>\n",
       "              <dt>AppName</dt>\n",
       "                <dd><code>ecommerce</code></dd>\n",
       "            </dl>\n",
       "        </div>\n",
       "        \n",
       "            </div>\n",
       "        "
      ],
      "text/plain": [
       "<pyspark.sql.session.SparkSession at 0x196ec870490>"
      ]
     },
     "execution_count": 3,
     "metadata": {},
     "output_type": "execute_result"
    }
   ],
   "source": [
    "spark = SparkSession.builder.master('local[6]')\\\n",
    "                            .appName('ecommerce')\\\n",
    "                            .getOrCreate()\n",
    "spark"
   ]
  },
  {
   "cell_type": "code",
   "execution_count": 4,
   "metadata": {},
   "outputs": [],
   "source": [
    "# spark.stop()"
   ]
  },
  {
   "cell_type": "markdown",
   "metadata": {},
   "source": [
    "## Load Dataset\n",
    "Source : [Pakistan E-commerce Dataset](https://www.kaggle.com/datasets/zusmani/pakistans-largest-ecommerce-dataset/data)"
   ]
  },
  {
   "cell_type": "code",
   "execution_count": 5,
   "metadata": {},
   "outputs": [],
   "source": [
    "from pyspark.sql.types import StructType, StructField, IntegerType, StringType, FloatType"
   ]
  },
  {
   "cell_type": "code",
   "execution_count": 6,
   "metadata": {},
   "outputs": [],
   "source": [
    "# define dataframe schema\n",
    "schema = StructType([\n",
    "    StructField('item_id', IntegerType(), True),\n",
    "    StructField('status', StringType(), True),\n",
    "    StructField('created_at', StringType(), True),\n",
    "    StructField('sku', StringType(), True),\n",
    "    StructField('price', FloatType(), True),\n",
    "    StructField('qty_ordered', IntegerType(), True),\n",
    "    StructField('grand_total', FloatType(), True),\n",
    "    StructField('increment_id', IntegerType(), True),\n",
    "    StructField('category_name_1', StringType(), True),\n",
    "    StructField('sales_commission_code', StringType(), True),\n",
    "    StructField('discount_amount', FloatType(), True),\n",
    "    StructField('payment_method', StringType(), True),\n",
    "    StructField('working_date', StringType(), True),\n",
    "    StructField('BI Status', StringType(), True),\n",
    "    StructField(' MV', StringType(), True),\n",
    "    StructField('Year', StringType(), True),\n",
    "    StructField('Month', StringType(), True),\n",
    "    StructField('Customer Since', StringType(), True),\n",
    "    StructField('M-Y', StringType(), True),\n",
    "    StructField('F-Y', StringType(), True),\n",
    "    StructField('Customer ID', StringType(), True),\n",
    "    # ignore last 5 column data because it's empty column\n",
    "])"
   ]
  },
  {
   "cell_type": "code",
   "execution_count": 7,
   "metadata": {},
   "outputs": [],
   "source": [
    "# tmp = pd.read_csv('./dataset/Pakistan Largest Ecommerce Dataset.csv')\n",
    "# tmp.info()"
   ]
  },
  {
   "cell_type": "code",
   "execution_count": 8,
   "metadata": {},
   "outputs": [
    {
     "name": "stdout",
     "output_type": "stream",
     "text": [
      "root\n",
      " |-- item_id: integer (nullable = true)\n",
      " |-- status: string (nullable = true)\n",
      " |-- created_at: string (nullable = true)\n",
      " |-- sku: string (nullable = true)\n",
      " |-- price: float (nullable = true)\n",
      " |-- qty_ordered: integer (nullable = true)\n",
      " |-- grand_total: float (nullable = true)\n",
      " |-- increment_id: integer (nullable = true)\n",
      " |-- category_name_1: string (nullable = true)\n",
      " |-- sales_commission_code: string (nullable = true)\n",
      " |-- discount_amount: float (nullable = true)\n",
      " |-- payment_method: string (nullable = true)\n",
      " |-- working_date: string (nullable = true)\n",
      " |-- BI Status: string (nullable = true)\n",
      " |--  MV: string (nullable = true)\n",
      " |-- Year: string (nullable = true)\n",
      " |-- Month: string (nullable = true)\n",
      " |-- Customer Since: string (nullable = true)\n",
      " |-- M-Y: string (nullable = true)\n",
      " |-- F-Y: string (nullable = true)\n",
      " |-- Customer ID: string (nullable = true)\n",
      "\n",
      "+-------+--------------+----------+--------------------+------+-----------+-----------+------------+-----------------+---------------------+---------------+--------------+------------+---------+-------+----+-----+--------------+------+----+-----------+\n",
      "|item_id|        status|created_at|                 sku| price|qty_ordered|grand_total|increment_id|  category_name_1|sales_commission_code|discount_amount|payment_method|working_date|BI Status|     MV|Year|Month|Customer Since|   M-Y| F-Y|Customer ID|\n",
      "+-------+--------------+----------+--------------------+------+-----------+-----------+------------+-----------------+---------------------+---------------+--------------+------------+---------+-------+----+-----+--------------+------+----+-----------+\n",
      "| 211131|      complete|  7/1/2016|   kreations_YI 06-L|1950.0|          1|     1950.0|   100147443|  Women's Fashion|                   \\N|            0.0|           cod|    7/1/2016|    #REF!| 1,950 |2016|    7|        2016-7|7-2016|FY17|          1|\n",
      "| 211133|      canceled|  7/1/2016|kcc_Buy 2 Frey Ai...| 240.0|          1|      240.0|   100147444|Beauty & Grooming|                   \\N|            0.0|           cod|    7/1/2016|    Gross|   240 |2016|    7|        2016-7|7-2016|FY17|          2|\n",
      "| 211134|      canceled|  7/1/2016|  Ego_UP0017-999-MR0|2450.0|          1|     2450.0|   100147445|  Women's Fashion|                   \\N|            0.0|           cod|    7/1/2016|    Gross| 2,450 |2016|    7|        2016-7|7-2016|FY17|          3|\n",
      "| 211135|      complete|  7/1/2016|      kcc_krone deal| 360.0|          1|       60.0|   100147446|Beauty & Grooming|          R-FSD-52352|          300.0|           cod|    7/1/2016|      Net|   360 |2016|    7|        2016-7|7-2016|FY17|          4|\n",
      "| 211136|order_refunded|  7/1/2016|         BK7010400AG| 555.0|          2|     1110.0|   100147447|          Soghaat|                   \\N|            0.0|           cod|    7/1/2016|    Valid| 1,110 |2016|    7|        2016-7|7-2016|FY17|          5|\n",
      "+-------+--------------+----------+--------------------+------+-----------+-----------+------------+-----------------+---------------------+---------------+--------------+------------+---------+-------+----+-----+--------------+------+----+-----------+\n",
      "only showing top 5 rows\n",
      "\n"
     ]
    }
   ],
   "source": [
    "df = spark.read.csv('./dataset/Pakistan Largest Ecommerce Dataset.csv', header=True, schema=schema)\n",
    "df.printSchema()\n",
    "df.show(5)"
   ]
  },
  {
   "cell_type": "code",
   "execution_count": 9,
   "metadata": {},
   "outputs": [
    {
     "data": {
      "text/html": [
       "<div>\n",
       "<style scoped>\n",
       "    .dataframe tbody tr th:only-of-type {\n",
       "        vertical-align: middle;\n",
       "    }\n",
       "\n",
       "    .dataframe tbody tr th {\n",
       "        vertical-align: top;\n",
       "    }\n",
       "\n",
       "    .dataframe thead th {\n",
       "        text-align: right;\n",
       "    }\n",
       "</style>\n",
       "<table border=\"1\" class=\"dataframe\">\n",
       "  <thead>\n",
       "    <tr style=\"text-align: right;\">\n",
       "      <th></th>\n",
       "      <th>count</th>\n",
       "      <th>unique</th>\n",
       "      <th>top</th>\n",
       "      <th>freq</th>\n",
       "      <th>mean</th>\n",
       "      <th>std</th>\n",
       "      <th>min</th>\n",
       "      <th>25%</th>\n",
       "      <th>50%</th>\n",
       "      <th>75%</th>\n",
       "      <th>max</th>\n",
       "    </tr>\n",
       "  </thead>\n",
       "  <tbody>\n",
       "    <tr>\n",
       "      <th>item_id</th>\n",
       "      <td>584524.0</td>\n",
       "      <td>NaN</td>\n",
       "      <td>NaN</td>\n",
       "      <td>NaN</td>\n",
       "      <td>565667.074218</td>\n",
       "      <td>200121.173648</td>\n",
       "      <td>211131.0</td>\n",
       "      <td>395000.75</td>\n",
       "      <td>568424.5</td>\n",
       "      <td>739106.25</td>\n",
       "      <td>905208.0</td>\n",
       "    </tr>\n",
       "    <tr>\n",
       "      <th>status</th>\n",
       "      <td>584520</td>\n",
       "      <td>19</td>\n",
       "      <td>complete</td>\n",
       "      <td>233685</td>\n",
       "      <td>NaN</td>\n",
       "      <td>NaN</td>\n",
       "      <td>NaN</td>\n",
       "      <td>NaN</td>\n",
       "      <td>NaN</td>\n",
       "      <td>NaN</td>\n",
       "      <td>NaN</td>\n",
       "    </tr>\n",
       "    <tr>\n",
       "      <th>created_at</th>\n",
       "      <td>584535</td>\n",
       "      <td>790</td>\n",
       "      <td>11/25/2016</td>\n",
       "      <td>15169</td>\n",
       "      <td>NaN</td>\n",
       "      <td>NaN</td>\n",
       "      <td>NaN</td>\n",
       "      <td>NaN</td>\n",
       "      <td>NaN</td>\n",
       "      <td>NaN</td>\n",
       "      <td>NaN</td>\n",
       "    </tr>\n",
       "    <tr>\n",
       "      <th>sku</th>\n",
       "      <td>584515</td>\n",
       "      <td>84897</td>\n",
       "      <td>MATSAM59DB75ADB2F80</td>\n",
       "      <td>3775</td>\n",
       "      <td>NaN</td>\n",
       "      <td>NaN</td>\n",
       "      <td>NaN</td>\n",
       "      <td>NaN</td>\n",
       "      <td>NaN</td>\n",
       "      <td>NaN</td>\n",
       "      <td>NaN</td>\n",
       "    </tr>\n",
       "    <tr>\n",
       "      <th>price</th>\n",
       "      <td>584524.0</td>\n",
       "      <td>NaN</td>\n",
       "      <td>NaN</td>\n",
       "      <td>NaN</td>\n",
       "      <td>8236.0625</td>\n",
       "      <td>435291.6875</td>\n",
       "      <td>0.0</td>\n",
       "      <td>360.0</td>\n",
       "      <td>899.0</td>\n",
       "      <td>4070.0</td>\n",
       "      <td>100348152.0</td>\n",
       "    </tr>\n",
       "    <tr>\n",
       "      <th>qty_ordered</th>\n",
       "      <td>584513.0</td>\n",
       "      <td>NaN</td>\n",
       "      <td>NaN</td>\n",
       "      <td>NaN</td>\n",
       "      <td>1.296394</td>\n",
       "      <td>3.996098</td>\n",
       "      <td>1.0</td>\n",
       "      <td>1.0</td>\n",
       "      <td>1.0</td>\n",
       "      <td>1.0</td>\n",
       "      <td>1000.0</td>\n",
       "    </tr>\n",
       "    <tr>\n",
       "      <th>grand_total</th>\n",
       "      <td>584513.0</td>\n",
       "      <td>NaN</td>\n",
       "      <td>NaN</td>\n",
       "      <td>NaN</td>\n",
       "      <td>8530.706055</td>\n",
       "      <td>61321.390625</td>\n",
       "      <td>-1594.0</td>\n",
       "      <td>945.0</td>\n",
       "      <td>1960.199951</td>\n",
       "      <td>6999.0</td>\n",
       "      <td>17888000.0</td>\n",
       "    </tr>\n",
       "    <tr>\n",
       "      <th>increment_id</th>\n",
       "      <td>584512.0</td>\n",
       "      <td>NaN</td>\n",
       "      <td>NaN</td>\n",
       "      <td>NaN</td>\n",
       "      <td>100355601.703919</td>\n",
       "      <td>388757.583304</td>\n",
       "      <td>0.0</td>\n",
       "      <td>100264561.75</td>\n",
       "      <td>100351163.5</td>\n",
       "      <td>100450243.25</td>\n",
       "      <td>100562387.0</td>\n",
       "    </tr>\n",
       "    <tr>\n",
       "      <th>category_name_1</th>\n",
       "      <td>584360</td>\n",
       "      <td>18</td>\n",
       "      <td>Mobiles &amp; Tablets</td>\n",
       "      <td>115710</td>\n",
       "      <td>NaN</td>\n",
       "      <td>NaN</td>\n",
       "      <td>NaN</td>\n",
       "      <td>NaN</td>\n",
       "      <td>NaN</td>\n",
       "      <td>NaN</td>\n",
       "      <td>NaN</td>\n",
       "    </tr>\n",
       "    <tr>\n",
       "      <th>sales_commission_code</th>\n",
       "      <td>447353</td>\n",
       "      <td>7236</td>\n",
       "      <td>\\N</td>\n",
       "      <td>338990</td>\n",
       "      <td>NaN</td>\n",
       "      <td>NaN</td>\n",
       "      <td>NaN</td>\n",
       "      <td>NaN</td>\n",
       "      <td>NaN</td>\n",
       "      <td>NaN</td>\n",
       "      <td>NaN</td>\n",
       "    </tr>\n",
       "    <tr>\n",
       "      <th>discount_amount</th>\n",
       "      <td>584513.0</td>\n",
       "      <td>NaN</td>\n",
       "      <td>NaN</td>\n",
       "      <td>NaN</td>\n",
       "      <td>499.497559</td>\n",
       "      <td>1506.954468</td>\n",
       "      <td>-599.5</td>\n",
       "      <td>0.0</td>\n",
       "      <td>0.0</td>\n",
       "      <td>160.5</td>\n",
       "      <td>90300.0</td>\n",
       "    </tr>\n",
       "    <tr>\n",
       "      <th>payment_method</th>\n",
       "      <td>584524</td>\n",
       "      <td>21</td>\n",
       "      <td>cod</td>\n",
       "      <td>271953</td>\n",
       "      <td>NaN</td>\n",
       "      <td>NaN</td>\n",
       "      <td>NaN</td>\n",
       "      <td>NaN</td>\n",
       "      <td>NaN</td>\n",
       "      <td>NaN</td>\n",
       "      <td>NaN</td>\n",
       "    </tr>\n",
       "    <tr>\n",
       "      <th>working_date</th>\n",
       "      <td>584524</td>\n",
       "      <td>791</td>\n",
       "      <td>11/25/2016</td>\n",
       "      <td>15169</td>\n",
       "      <td>NaN</td>\n",
       "      <td>NaN</td>\n",
       "      <td>NaN</td>\n",
       "      <td>NaN</td>\n",
       "      <td>NaN</td>\n",
       "      <td>NaN</td>\n",
       "      <td>NaN</td>\n",
       "    </tr>\n",
       "    <tr>\n",
       "      <th>BI Status</th>\n",
       "      <td>584524</td>\n",
       "      <td>9</td>\n",
       "      <td>Net</td>\n",
       "      <td>234173</td>\n",
       "      <td>NaN</td>\n",
       "      <td>NaN</td>\n",
       "      <td>NaN</td>\n",
       "      <td>NaN</td>\n",
       "      <td>NaN</td>\n",
       "      <td>NaN</td>\n",
       "      <td>NaN</td>\n",
       "    </tr>\n",
       "    <tr>\n",
       "      <th>MV</th>\n",
       "      <td>584524</td>\n",
       "      <td>9726</td>\n",
       "      <td>999</td>\n",
       "      <td>9507</td>\n",
       "      <td>NaN</td>\n",
       "      <td>NaN</td>\n",
       "      <td>NaN</td>\n",
       "      <td>NaN</td>\n",
       "      <td>NaN</td>\n",
       "      <td>NaN</td>\n",
       "      <td>NaN</td>\n",
       "    </tr>\n",
       "    <tr>\n",
       "      <th>Year</th>\n",
       "      <td>584524</td>\n",
       "      <td>8</td>\n",
       "      <td>2017</td>\n",
       "      <td>290910</td>\n",
       "      <td>NaN</td>\n",
       "      <td>NaN</td>\n",
       "      <td>NaN</td>\n",
       "      <td>NaN</td>\n",
       "      <td>NaN</td>\n",
       "      <td>NaN</td>\n",
       "      <td>NaN</td>\n",
       "    </tr>\n",
       "    <tr>\n",
       "      <th>Month</th>\n",
       "      <td>584524</td>\n",
       "      <td>14</td>\n",
       "      <td>11</td>\n",
       "      <td>155456</td>\n",
       "      <td>NaN</td>\n",
       "      <td>NaN</td>\n",
       "      <td>NaN</td>\n",
       "      <td>NaN</td>\n",
       "      <td>NaN</td>\n",
       "      <td>NaN</td>\n",
       "      <td>NaN</td>\n",
       "    </tr>\n",
       "    <tr>\n",
       "      <th>Customer Since</th>\n",
       "      <td>584524</td>\n",
       "      <td>36</td>\n",
       "      <td>2016-11</td>\n",
       "      <td>82713</td>\n",
       "      <td>NaN</td>\n",
       "      <td>NaN</td>\n",
       "      <td>NaN</td>\n",
       "      <td>NaN</td>\n",
       "      <td>NaN</td>\n",
       "      <td>NaN</td>\n",
       "      <td>NaN</td>\n",
       "    </tr>\n",
       "    <tr>\n",
       "      <th>M-Y</th>\n",
       "      <td>584513</td>\n",
       "      <td>26</td>\n",
       "      <td>11-2017</td>\n",
       "      <td>83928</td>\n",
       "      <td>NaN</td>\n",
       "      <td>NaN</td>\n",
       "      <td>NaN</td>\n",
       "      <td>NaN</td>\n",
       "      <td>NaN</td>\n",
       "      <td>NaN</td>\n",
       "      <td>NaN</td>\n",
       "    </tr>\n",
       "    <tr>\n",
       "      <th>F-Y</th>\n",
       "      <td>584513</td>\n",
       "      <td>3</td>\n",
       "      <td>FY18</td>\n",
       "      <td>306882</td>\n",
       "      <td>NaN</td>\n",
       "      <td>NaN</td>\n",
       "      <td>NaN</td>\n",
       "      <td>NaN</td>\n",
       "      <td>NaN</td>\n",
       "      <td>NaN</td>\n",
       "      <td>NaN</td>\n",
       "    </tr>\n",
       "    <tr>\n",
       "      <th>Customer ID</th>\n",
       "      <td>584513</td>\n",
       "      <td>115326</td>\n",
       "      <td>85775</td>\n",
       "      <td>2524</td>\n",
       "      <td>NaN</td>\n",
       "      <td>NaN</td>\n",
       "      <td>NaN</td>\n",
       "      <td>NaN</td>\n",
       "      <td>NaN</td>\n",
       "      <td>NaN</td>\n",
       "      <td>NaN</td>\n",
       "    </tr>\n",
       "  </tbody>\n",
       "</table>\n",
       "</div>"
      ],
      "text/plain": [
       "                          count  unique                  top    freq  \\\n",
       "item_id                584524.0     NaN                  NaN     NaN   \n",
       "status                   584520      19             complete  233685   \n",
       "created_at               584535     790           11/25/2016   15169   \n",
       "sku                      584515   84897  MATSAM59DB75ADB2F80    3775   \n",
       "price                  584524.0     NaN                  NaN     NaN   \n",
       "qty_ordered            584513.0     NaN                  NaN     NaN   \n",
       "grand_total            584513.0     NaN                  NaN     NaN   \n",
       "increment_id           584512.0     NaN                  NaN     NaN   \n",
       "category_name_1          584360      18    Mobiles & Tablets  115710   \n",
       "sales_commission_code    447353    7236                   \\N  338990   \n",
       "discount_amount        584513.0     NaN                  NaN     NaN   \n",
       "payment_method           584524      21                  cod  271953   \n",
       "working_date             584524     791           11/25/2016   15169   \n",
       "BI Status                584524       9                  Net  234173   \n",
       " MV                      584524    9726                 999     9507   \n",
       "Year                     584524       8                 2017  290910   \n",
       "Month                    584524      14                   11  155456   \n",
       "Customer Since           584524      36              2016-11   82713   \n",
       "M-Y                      584513      26              11-2017   83928   \n",
       "F-Y                      584513       3                 FY18  306882   \n",
       "Customer ID              584513  115326                85775    2524   \n",
       "\n",
       "                                   mean            std       min  \\\n",
       "item_id                   565667.074218  200121.173648  211131.0   \n",
       "status                              NaN            NaN       NaN   \n",
       "created_at                          NaN            NaN       NaN   \n",
       "sku                                 NaN            NaN       NaN   \n",
       "price                         8236.0625    435291.6875       0.0   \n",
       "qty_ordered                    1.296394       3.996098       1.0   \n",
       "grand_total                 8530.706055   61321.390625   -1594.0   \n",
       "increment_id           100355601.703919  388757.583304       0.0   \n",
       "category_name_1                     NaN            NaN       NaN   \n",
       "sales_commission_code               NaN            NaN       NaN   \n",
       "discount_amount              499.497559    1506.954468    -599.5   \n",
       "payment_method                      NaN            NaN       NaN   \n",
       "working_date                        NaN            NaN       NaN   \n",
       "BI Status                           NaN            NaN       NaN   \n",
       " MV                                 NaN            NaN       NaN   \n",
       "Year                                NaN            NaN       NaN   \n",
       "Month                               NaN            NaN       NaN   \n",
       "Customer Since                      NaN            NaN       NaN   \n",
       "M-Y                                 NaN            NaN       NaN   \n",
       "F-Y                                 NaN            NaN       NaN   \n",
       "Customer ID                         NaN            NaN       NaN   \n",
       "\n",
       "                                25%          50%           75%          max  \n",
       "item_id                   395000.75     568424.5     739106.25     905208.0  \n",
       "status                          NaN          NaN           NaN          NaN  \n",
       "created_at                      NaN          NaN           NaN          NaN  \n",
       "sku                             NaN          NaN           NaN          NaN  \n",
       "price                         360.0        899.0        4070.0  100348152.0  \n",
       "qty_ordered                     1.0          1.0           1.0       1000.0  \n",
       "grand_total                   945.0  1960.199951        6999.0   17888000.0  \n",
       "increment_id           100264561.75  100351163.5  100450243.25  100562387.0  \n",
       "category_name_1                 NaN          NaN           NaN          NaN  \n",
       "sales_commission_code           NaN          NaN           NaN          NaN  \n",
       "discount_amount                 0.0          0.0         160.5      90300.0  \n",
       "payment_method                  NaN          NaN           NaN          NaN  \n",
       "working_date                    NaN          NaN           NaN          NaN  \n",
       "BI Status                       NaN          NaN           NaN          NaN  \n",
       " MV                             NaN          NaN           NaN          NaN  \n",
       "Year                            NaN          NaN           NaN          NaN  \n",
       "Month                           NaN          NaN           NaN          NaN  \n",
       "Customer Since                  NaN          NaN           NaN          NaN  \n",
       "M-Y                             NaN          NaN           NaN          NaN  \n",
       "F-Y                             NaN          NaN           NaN          NaN  \n",
       "Customer ID                     NaN          NaN           NaN          NaN  "
      ]
     },
     "execution_count": 9,
     "metadata": {},
     "output_type": "execute_result"
    }
   ],
   "source": [
    "df.toPandas().describe(include='all').T"
   ]
  },
  {
   "cell_type": "code",
   "execution_count": 10,
   "metadata": {},
   "outputs": [
    {
     "name": "stdout",
     "output_type": "stream",
     "text": [
      "shape of df: (1048586, 21)\n"
     ]
    }
   ],
   "source": [
    "print('shape of df:', (df.count(), len(df.columns)))"
   ]
  },
  {
   "cell_type": "code",
   "execution_count": 11,
   "metadata": {},
   "outputs": [],
   "source": [
    "# df.toPandas().info()"
   ]
  },
  {
   "cell_type": "markdown",
   "metadata": {},
   "source": [
    "## Preprocessing Data"
   ]
  },
  {
   "cell_type": "code",
   "execution_count": 12,
   "metadata": {},
   "outputs": [],
   "source": [
    "import pyspark.sql.functions as F"
   ]
  },
  {
   "cell_type": "markdown",
   "metadata": {},
   "source": [
    "### Drop Unused Columns\n",
    "Dropping columns that will not be use because its redundant / unclear information"
   ]
  },
  {
   "cell_type": "code",
   "execution_count": 13,
   "metadata": {},
   "outputs": [
    {
     "name": "stdout",
     "output_type": "stream",
     "text": [
      "shape of df: (1048586, 12)\n"
     ]
    }
   ],
   "source": [
    "df = df.drop('working_date','sales_commission_code',' MV','F-Y','M-Y','Year','Month','increment_id','sku')\n",
    "print('shape of df:', (df.count(), len(df.columns)))"
   ]
  },
  {
   "cell_type": "markdown",
   "metadata": {},
   "source": [
    "### Rename Columns"
   ]
  },
  {
   "cell_type": "code",
   "execution_count": 14,
   "metadata": {},
   "outputs": [
    {
     "data": {
      "text/plain": [
       "['item_id',\n",
       " 'status',\n",
       " 'created_at',\n",
       " 'price',\n",
       " 'qty_ordered',\n",
       " 'grand_total',\n",
       " 'category',\n",
       " 'discount_amount',\n",
       " 'payment_method',\n",
       " 'bi_status',\n",
       " 'customer_since',\n",
       " 'customer_id']"
      ]
     },
     "execution_count": 14,
     "metadata": {},
     "output_type": "execute_result"
    }
   ],
   "source": [
    "df = df.withColumnsRenamed({'category_name_1':'category', 'BI Status':'bi_status', 'Customer ID':'customer_id', 'Customer Since': 'customer_since'})\n",
    "df.columns"
   ]
  },
  {
   "cell_type": "markdown",
   "metadata": {},
   "source": [
    "### Handle Null Value "
   ]
  },
  {
   "cell_type": "code",
   "execution_count": 15,
   "metadata": {},
   "outputs": [
    {
     "name": "stdout",
     "output_type": "stream",
     "text": [
      "NULL in item_id 464062\n",
      "NULL in status 464066\n",
      "NULL in created_at 464051\n",
      "NULL in price 464062\n",
      "NULL in qty_ordered 464073\n",
      "NULL in grand_total 464073\n",
      "NULL in category 464226\n",
      "NULL in discount_amount 464073\n",
      "NULL in payment_method 464062\n",
      "NULL in bi_status 464062\n",
      "NULL in customer_since 464062\n",
      "NULL in customer_id 464073\n"
     ]
    }
   ],
   "source": [
    "for c in df.columns: print(f'NULL in {c}',df.filter(f'{c} IS NULL').count()) "
   ]
  },
  {
   "cell_type": "code",
   "execution_count": 16,
   "metadata": {},
   "outputs": [
    {
     "name": "stdout",
     "output_type": "stream",
     "text": [
      "+-------+--------+----------+------------+-----------+-----------+--------+---------------+--------------+---------+--------------+-----------+\n",
      "|item_id|  status|created_at|       price|qty_ordered|grand_total|category|discount_amount|payment_method|bi_status|customer_since|customer_id|\n",
      "+-------+--------+----------+------------+-----------+-----------+--------+---------------+--------------+---------+--------------+-----------+\n",
      "| 217788|complete| 7/24/2016|        NULL|       NULL|       NULL|    NULL|           NULL|          NULL|     NULL|          NULL|       NULL|\n",
      "|   NULL|    2660|         1|1.00152216E8|       NULL|       NULL|     cod|           NULL|        2,660 |        7|          1806|       NULL|\n",
      "| 424131|complete| 3/18/2017|        NULL|       NULL|       NULL|    NULL|           NULL|          NULL|     NULL|          NULL|       NULL|\n",
      "|   NULL|     999|         1| 1.0028058E8|       NULL|       NULL|     cod|           NULL|          999 |        3|         31987|       NULL|\n",
      "| 425424|complete| 3/20/2017|        NULL|       NULL|       NULL|    NULL|           NULL|          NULL|     NULL|          NULL|       NULL|\n",
      "|   NULL|     999|         1| 1.0028128E8|       NULL|       NULL|     cod|           NULL|          999 |        3|         38108|       NULL|\n",
      "| 444217|received| 4/14/2017|        NULL|       NULL|       NULL|    NULL|           NULL|          NULL|     NULL|          NULL|       NULL|\n",
      "|   NULL|     999|         1| 1.0029196E8|       NULL|       NULL|     cod|           NULL|          999 |        4|         41058|       NULL|\n",
      "| 452510|received| 4/22/2017|        NULL|       NULL|       NULL|    NULL|           NULL|          NULL|     NULL|          NULL|       NULL|\n",
      "|   NULL|     999|         1| 1.0029666E8|       NULL|       NULL|     cod|           NULL|          999 |        4|         42289|       NULL|\n",
      "+-------+--------+----------+------------+-----------+-----------+--------+---------------+--------------+---------+--------------+-----------+\n",
      "only showing top 10 rows\n",
      "\n"
     ]
    }
   ],
   "source": [
    "df.filter('customer_id IS NULL').show(10)"
   ]
  },
  {
   "cell_type": "markdown",
   "metadata": {},
   "source": [
    "a lot of rows are empty or have invalid value, we can see that mostly it's because there is no valid customer data (i.e customer_id). So we will drop these invalid rows."
   ]
  },
  {
   "cell_type": "code",
   "execution_count": 17,
   "metadata": {},
   "outputs": [],
   "source": [
    "df = df.na.drop(subset=['customer_id','status']) # drop rows by status to make sure all data have transaction status"
   ]
  },
  {
   "cell_type": "code",
   "execution_count": 18,
   "metadata": {},
   "outputs": [
    {
     "data": {
      "text/plain": [
       "584498"
      ]
     },
     "execution_count": 18,
     "metadata": {},
     "output_type": "execute_result"
    }
   ],
   "source": [
    "df.count()"
   ]
  },
  {
   "cell_type": "code",
   "execution_count": 19,
   "metadata": {},
   "outputs": [
    {
     "name": "stdout",
     "output_type": "stream",
     "text": [
      "NULL in item_id 0\n",
      "NULL in status 0\n",
      "NULL in created_at 0\n",
      "NULL in price 0\n",
      "NULL in qty_ordered 0\n",
      "NULL in grand_total 0\n",
      "NULL in category 164\n",
      "NULL in discount_amount 0\n",
      "NULL in payment_method 0\n",
      "NULL in bi_status 0\n",
      "NULL in customer_since 0\n",
      "NULL in customer_id 0\n"
     ]
    }
   ],
   "source": [
    "# re-check remaining missing value in columns\n",
    "for c in df.columns: print(f'NULL in {c}',df.filter(f'{c} IS NULL').count()) "
   ]
  },
  {
   "cell_type": "markdown",
   "metadata": {},
   "source": [
    "as we can see the only category column have null value. First let's check if we able to fill the null value from non-null same item_id  "
   ]
  },
  {
   "cell_type": "code",
   "execution_count": 20,
   "metadata": {},
   "outputs": [],
   "source": [
    "# handle null category data\n",
    "tmp = df.filter('category IS NULL').select('item_id').collect()\n",
    "tmp = [int(row['item_id']) for row in tmp]"
   ]
  },
  {
   "cell_type": "code",
   "execution_count": 21,
   "metadata": {},
   "outputs": [
    {
     "name": "stdout",
     "output_type": "stream",
     "text": [
      "+-------+-----+\n",
      "|item_id|count|\n",
      "+-------+-----+\n",
      "| 757685|    1|\n",
      "| 731122|    1|\n",
      "| 732569|    1|\n",
      "| 733363|    1|\n",
      "| 733727|    1|\n",
      "| 737199|    1|\n",
      "| 744922|    1|\n",
      "| 725194|    1|\n",
      "| 737219|    1|\n",
      "| 732578|    1|\n",
      "| 733736|    1|\n",
      "| 744351|    1|\n",
      "| 757605|    1|\n",
      "| 732575|    1|\n",
      "| 732572|    1|\n",
      "| 733367|    1|\n",
      "| 733741|    1|\n",
      "| 829983|    1|\n",
      "| 830138|    1|\n",
      "| 829959|    1|\n",
      "| 830090|    1|\n",
      "| 833708|    1|\n",
      "| 829957|    1|\n",
      "| 830102|    1|\n",
      "| 768018|    1|\n",
      "| 833704|    1|\n",
      "| 830037|    1|\n",
      "| 830009|    1|\n",
      "| 830033|    1|\n",
      "| 829961|    1|\n",
      "+-------+-----+\n",
      "only showing top 30 rows\n",
      "\n"
     ]
    }
   ],
   "source": [
    "tmp1 = df.filter(df.item_id.isin(tmp))\n",
    "tmp1.groupBy('item_id').count().orderBy('count', ascending=False).show(30)"
   ]
  },
  {
   "cell_type": "markdown",
   "metadata": {},
   "source": [
    "because there is no other data with same item_id to category null dataframe. We can't fill the category value. So, for now we will drop all rows with invalid category "
   ]
  },
  {
   "cell_type": "code",
   "execution_count": 22,
   "metadata": {},
   "outputs": [
    {
     "name": "stdout",
     "output_type": "stream",
     "text": [
      "before drop invalid category value : 584498\n",
      "after drop invalid category value : 584334\n"
     ]
    }
   ],
   "source": [
    "print('before drop invalid category value :', df.count())\n",
    "df = df.na.drop(subset=['category'])\n",
    "print('after drop invalid category value :', df.count())"
   ]
  },
  {
   "cell_type": "code",
   "execution_count": 23,
   "metadata": {},
   "outputs": [
    {
     "name": "stdout",
     "output_type": "stream",
     "text": [
      "NULL in item_id 0\n",
      "NULL in status 0\n",
      "NULL in created_at 0\n",
      "NULL in price 0\n",
      "NULL in qty_ordered 0\n",
      "NULL in grand_total 0\n",
      "NULL in category 0\n",
      "NULL in discount_amount 0\n",
      "NULL in payment_method 0\n",
      "NULL in bi_status 0\n",
      "NULL in customer_since 0\n",
      "NULL in customer_id 0\n"
     ]
    }
   ],
   "source": [
    "# re-check remaining missing value in columns\n",
    "for c in df.columns: print(f'NULL in {c}',df.filter(f'{c} IS NULL').count()) "
   ]
  },
  {
   "cell_type": "markdown",
   "metadata": {},
   "source": [
    "### Enhance Data Quality"
   ]
  },
  {
   "cell_type": "markdown",
   "metadata": {},
   "source": [
    "now we need to check non-null value in categorical data that refer to invalid value"
   ]
  },
  {
   "cell_type": "markdown",
   "metadata": {},
   "source": [
    "let's check categorical data's unique value to make sure the value is correct"
   ]
  },
  {
   "cell_type": "code",
   "execution_count": 24,
   "metadata": {},
   "outputs": [
    {
     "name": "stdout",
     "output_type": "stream",
     "text": [
      "+--------------+\n",
      "|        status|\n",
      "+--------------+\n",
      "|      received|\n",
      "|        holded|\n",
      "|      canceled|\n",
      "|        refund|\n",
      "|      exchange|\n",
      "|        closed|\n",
      "|order_refunded|\n",
      "|         fraud|\n",
      "|      complete|\n",
      "|          paid|\n",
      "|pending_paypal|\n",
      "|           cod|\n",
      "|            \\N|\n",
      "|       pending|\n",
      "|    processing|\n",
      "|payment_review|\n",
      "+--------------+\n",
      "\n",
      "+---------+\n",
      "|bi_status|\n",
      "+---------+\n",
      "|    #REF!|\n",
      "|    Gross|\n",
      "|      Net|\n",
      "|    Valid|\n",
      "+---------+\n",
      "\n",
      "+-----------------+\n",
      "|   payment_method|\n",
      "+-----------------+\n",
      "|              cod|\n",
      "|  internetbanking|\n",
      "|          mcblite|\n",
      "| marketingexpense|\n",
      "|       jazzwallet|\n",
      "|        mygateway|\n",
      "|   customercredit|\n",
      "|          Payaxis|\n",
      "|financesettlement|\n",
      "|      jazzvoucher|\n",
      "|    ublcreditcard|\n",
      "|    productcredit|\n",
      "|   cashatdoorstep|\n",
      "|       Easypay_MA|\n",
      "|  easypay_voucher|\n",
      "|          Easypay|\n",
      "|      bankalfalah|\n",
      "|              apg|\n",
      "+-----------------+\n",
      "\n",
      "+------------------+\n",
      "|          category|\n",
      "+------------------+\n",
      "|School & Education|\n",
      "|       Kids & Baby|\n",
      "|     Entertainment|\n",
      "|         Computing|\n",
      "|                \\N|\n",
      "| Mobiles & Tablets|\n",
      "| Beauty & Grooming|\n",
      "|   Health & Sports|\n",
      "|           Soghaat|\n",
      "|             Books|\n",
      "|            Others|\n",
      "|        Superstore|\n",
      "|     Men's Fashion|\n",
      "|        Appliances|\n",
      "|   Women's Fashion|\n",
      "|     Home & Living|\n",
      "+------------------+\n",
      "\n"
     ]
    }
   ],
   "source": [
    "df.select('status').distinct().show()\n",
    "df.select('bi_status').distinct().show()\n",
    "df.select('payment_method').distinct().show()\n",
    "df.select('category').distinct().show()"
   ]
  },
  {
   "cell_type": "markdown",
   "metadata": {},
   "source": [
    "### RECHECK>>DROP ONLY STATUS=='\\N', cat and bi_status must fill"
   ]
  },
  {
   "cell_type": "code",
   "execution_count": 25,
   "metadata": {},
   "outputs": [
    {
     "name": "stdout",
     "output_type": "stream",
     "text": [
      "before drop invalid category value : 584334\n",
      "after drop invalid category value : 576483\n"
     ]
    }
   ],
   "source": [
    "# remove '\\N' from status and category column, remove '#REF!' from bi_status\n",
    "print('before drop invalid category value :', df.count())\n",
    "df = df.filter((df.status !='\\\\N') & (df.category !='\\\\N') & (df.bi_status != '#REF!'))\n",
    "print('after drop invalid category value :', df.count())"
   ]
  },
  {
   "cell_type": "code",
   "execution_count": 26,
   "metadata": {},
   "outputs": [
    {
     "name": "stdout",
     "output_type": "stream",
     "text": [
      "+--------------+------+\n",
      "|        status| count|\n",
      "+--------------+------+\n",
      "|      complete|230451|\n",
      "|      canceled|197974|\n",
      "|      received| 77150|\n",
      "|order_refunded| 58343|\n",
      "|        refund|  7876|\n",
      "|           cod|  2851|\n",
      "|          paid|  1156|\n",
      "|        closed|   492|\n",
      "|payment_review|    57|\n",
      "|       pending|    48|\n",
      "|    processing|    33|\n",
      "|        holded|    31|\n",
      "|         fraud|    10|\n",
      "|pending_paypal|     7|\n",
      "|      exchange|     4|\n",
      "+--------------+------+\n",
      "\n"
     ]
    }
   ],
   "source": [
    "df.groupBy('status').count().orderBy('count', ascending=False).show()"
   ]
  },
  {
   "cell_type": "markdown",
   "metadata": {},
   "source": [
    "we can see from status column unique values above that the category is too specific and unorganized.<br>\n",
    "We can make it more general and simple by grouping the status into payment_status with 3 category, that is pass, pending, and fraud"
   ]
  },
  {
   "cell_type": "code",
   "execution_count": 27,
   "metadata": {},
   "outputs": [],
   "source": [
    "# define status name will be under payment_status: pass\n",
    "pass_stat = ['complete','canceled','received','order_refunded','refund','paid','closed','exchange']\n",
    "# define status name will be under payment_status: pending\n",
    "pend_stat = ['cod','payment_review','pending','processing','holded','pending_paypal']\n",
    "# other that will be classified with payment_status: fraud"
   ]
  },
  {
   "cell_type": "code",
   "execution_count": 28,
   "metadata": {},
   "outputs": [],
   "source": [
    "df = df.withColumn('payment_status', F.when(F.col('status').isin(pass_stat),'pass')\\\n",
    "                                    .when(F.col('status').isin(pend_stat),'pending')\\\n",
    "                                    .otherwise('fraud')\n",
    "                    )"
   ]
  },
  {
   "cell_type": "code",
   "execution_count": 29,
   "metadata": {},
   "outputs": [
    {
     "name": "stdout",
     "output_type": "stream",
     "text": [
      "+--------------+--------------+------+\n",
      "|        status|payment_status| count|\n",
      "+--------------+--------------+------+\n",
      "|      complete|          pass|230451|\n",
      "|      canceled|          pass|197974|\n",
      "|      received|          pass| 77150|\n",
      "|order_refunded|          pass| 58343|\n",
      "|        refund|          pass|  7876|\n",
      "|           cod|       pending|  2851|\n",
      "|          paid|          pass|  1156|\n",
      "|        closed|          pass|   492|\n",
      "|payment_review|       pending|    57|\n",
      "|       pending|       pending|    48|\n",
      "|    processing|       pending|    33|\n",
      "|        holded|       pending|    31|\n",
      "|         fraud|         fraud|    10|\n",
      "|pending_paypal|       pending|     7|\n",
      "|      exchange|          pass|     4|\n",
      "+--------------+--------------+------+\n",
      "\n"
     ]
    }
   ],
   "source": [
    "df.groupBy('status','payment_status').count().orderBy('count', ascending=False).show()"
   ]
  },
  {
   "cell_type": "markdown",
   "metadata": {},
   "source": [
    "now we move to discount columns, this columns contain mostly zero and redundant because real info is in grand total. So instead delete this column, we can change it to caetgorical column that contain is item discounted or not"
   ]
  },
  {
   "cell_type": "code",
   "execution_count": 30,
   "metadata": {},
   "outputs": [],
   "source": [
    "df = df.withColumn('is_discounted', (F.col('discount_amount') > 0).cast('int'))\n",
    "df = df.drop('discount_amount')"
   ]
  },
  {
   "cell_type": "code",
   "execution_count": 31,
   "metadata": {},
   "outputs": [
    {
     "name": "stdout",
     "output_type": "stream",
     "text": [
      "+-------------+------+\n",
      "|is_discounted| count|\n",
      "+-------------+------+\n",
      "|            1|206085|\n",
      "|            0|370398|\n",
      "+-------------+------+\n",
      "\n"
     ]
    }
   ],
   "source": [
    "df.groupBy('is_discounted').count().show()"
   ]
  },
  {
   "cell_type": "markdown",
   "metadata": {},
   "source": [
    "### Drop Duplicate Data"
   ]
  },
  {
   "cell_type": "code",
   "execution_count": 32,
   "metadata": {},
   "outputs": [
    {
     "name": "stdout",
     "output_type": "stream",
     "text": [
      "before drop invalid category value : 576483\n",
      "after drop invalid category value : 576483\n"
     ]
    }
   ],
   "source": [
    "print('before drop invalid category value :', df.count())\n",
    "df = df.drop_duplicates()\n",
    "print('after drop invalid category value :', df.count())"
   ]
  },
  {
   "cell_type": "markdown",
   "metadata": {},
   "source": [
    "### Outlier Handle (unfinish)"
   ]
  },
  {
   "cell_type": "code",
   "execution_count": 33,
   "metadata": {},
   "outputs": [
    {
     "name": "stdout",
     "output_type": "stream",
     "text": [
      "+--------------+------+-----------+-------------+-----------+\n",
      "|        status| price|qty_ordered|is_discounted|grand_total|\n",
      "+--------------+------+-----------+-------------+-----------+\n",
      "|      complete| 120.0|          1|            0|      360.0|\n",
      "|      complete|6240.0|          1|            0|        0.0|\n",
      "|order_refunded|6700.0|          1|            0|     6700.0|\n",
      "|      complete|  90.0|          1|            0|       90.0|\n",
      "|      complete| 250.0|          1|            0|      250.0|\n",
      "|      complete| 140.0|          1|            0|      140.0|\n",
      "|      canceled|2200.0|          1|            0|     2200.0|\n",
      "|      complete| 690.0|          1|            0|     1380.0|\n",
      "|      complete| 950.0|          1|            0|     1170.0|\n",
      "|      complete| 700.0|          1|            0|      700.0|\n",
      "|      complete|1765.0|          1|            0|     1765.0|\n",
      "|order_refunded| 360.0|          1|            0|      360.0|\n",
      "|      complete| 260.0|          1|            0|      600.0|\n",
      "|      complete| 999.0|          1|            0|      999.0|\n",
      "|order_refunded| 580.0|          1|            0|      580.0|\n",
      "+--------------+------+-----------+-------------+-----------+\n",
      "only showing top 15 rows\n",
      "\n"
     ]
    }
   ],
   "source": [
    "df.select('status','price','qty_ordered','is_discounted','grand_total').show(15)"
   ]
  },
  {
   "cell_type": "markdown",
   "metadata": {},
   "source": [
    "as you can see from table above price, qty, and discount have different result to grand total. We don't know is there any external factor that affect the grand total or not, but for now due to unclear relation between them we only filter by grand total <br><br>\n",
    "note: for classification problem, we will keep outlier from data with payment_status='fraud'"
   ]
  },
  {
   "cell_type": "code",
   "execution_count": 34,
   "metadata": {},
   "outputs": [],
   "source": [
    "# keep data with payment_status is fraud\n",
    "tmp2 = df.filter(df.payment_status=='fraud')"
   ]
  },
  {
   "cell_type": "code",
   "execution_count": 35,
   "metadata": {},
   "outputs": [],
   "source": [
    "def outlier_treatment(dataframe, listCol):\n",
    "    # calc q1, q3, and lower and upper bound for each col in listCol\n",
    "    q = dataframe.approxQuantile(listCol, [0.25,0.75], 1e-2)\n",
    "    lower_bound = [float(quan[0] - 1.5 * (quan[1]-quan[0])) for quan in q]\n",
    "    upper_bound = [float(quan[1] + 1.5 * (quan[1]-quan[0])) for quan in q]\n",
    "\n",
    "    print(lower_bound, upper_bound)\n",
    "\n",
    "    # filter outliers and update the DataFrame\n",
    "    print('before removing outlier :', dataframe.count())\n",
    "    for i, col in enumerate(listCol):\n",
    "        dataframe = dataframe.filter(((F.col(col) >= lower_bound[i]) & (F.col(col) <= upper_bound[i])))\n",
    "    print('after removing outlier :', dataframe.count())\n",
    "    \n",
    "    return dataframe"
   ]
  },
  {
   "cell_type": "code",
   "execution_count": 36,
   "metadata": {},
   "outputs": [
    {
     "data": {
      "text/html": [
       "<div>\n",
       "<style scoped>\n",
       "    .dataframe tbody tr th:only-of-type {\n",
       "        vertical-align: middle;\n",
       "    }\n",
       "\n",
       "    .dataframe tbody tr th {\n",
       "        vertical-align: top;\n",
       "    }\n",
       "\n",
       "    .dataframe thead th {\n",
       "        text-align: right;\n",
       "    }\n",
       "</style>\n",
       "<table border=\"1\" class=\"dataframe\">\n",
       "  <thead>\n",
       "    <tr style=\"text-align: right;\">\n",
       "      <th></th>\n",
       "      <th>count</th>\n",
       "      <th>mean</th>\n",
       "      <th>std</th>\n",
       "      <th>min</th>\n",
       "      <th>25%</th>\n",
       "      <th>50%</th>\n",
       "      <th>75%</th>\n",
       "      <th>max</th>\n",
       "    </tr>\n",
       "  </thead>\n",
       "  <tbody>\n",
       "    <tr>\n",
       "      <th>price</th>\n",
       "      <td>576483.0</td>\n",
       "      <td>6380.660645</td>\n",
       "      <td>15006.904297</td>\n",
       "      <td>0.0</td>\n",
       "      <td>360.000000</td>\n",
       "      <td>900.000000</td>\n",
       "      <td>4054.000000</td>\n",
       "      <td>1.012626e+06</td>\n",
       "    </tr>\n",
       "    <tr>\n",
       "      <th>qty_ordered</th>\n",
       "      <td>576483.0</td>\n",
       "      <td>1.295216</td>\n",
       "      <td>3.997737</td>\n",
       "      <td>1.0</td>\n",
       "      <td>1.000000</td>\n",
       "      <td>1.000000</td>\n",
       "      <td>1.000000</td>\n",
       "      <td>1.000000e+03</td>\n",
       "    </tr>\n",
       "    <tr>\n",
       "      <th>grand_total</th>\n",
       "      <td>576483.0</td>\n",
       "      <td>8586.783203</td>\n",
       "      <td>61731.695312</td>\n",
       "      <td>-1594.0</td>\n",
       "      <td>952.100006</td>\n",
       "      <td>1986.455444</td>\n",
       "      <td>6998.399902</td>\n",
       "      <td>1.788800e+07</td>\n",
       "    </tr>\n",
       "  </tbody>\n",
       "</table>\n",
       "</div>"
      ],
      "text/plain": [
       "                count         mean           std     min         25%  \\\n",
       "price        576483.0  6380.660645  15006.904297     0.0  360.000000   \n",
       "qty_ordered  576483.0     1.295216      3.997737     1.0    1.000000   \n",
       "grand_total  576483.0  8586.783203  61731.695312 -1594.0  952.100006   \n",
       "\n",
       "                     50%          75%           max  \n",
       "price         900.000000  4054.000000  1.012626e+06  \n",
       "qty_ordered     1.000000     1.000000  1.000000e+03  \n",
       "grand_total  1986.455444  6998.399902  1.788800e+07  "
      ]
     },
     "execution_count": 36,
     "metadata": {},
     "output_type": "execute_result"
    }
   ],
   "source": [
    "df.select('price','qty_ordered','grand_total').toPandas().describe().T"
   ]
  },
  {
   "cell_type": "code",
   "execution_count": 37,
   "metadata": {},
   "outputs": [
    {
     "data": {
      "text/html": [
       "<div>\n",
       "<style scoped>\n",
       "    .dataframe tbody tr th:only-of-type {\n",
       "        vertical-align: middle;\n",
       "    }\n",
       "\n",
       "    .dataframe tbody tr th {\n",
       "        vertical-align: top;\n",
       "    }\n",
       "\n",
       "    .dataframe thead th {\n",
       "        text-align: right;\n",
       "    }\n",
       "</style>\n",
       "<table border=\"1\" class=\"dataframe\">\n",
       "  <thead>\n",
       "    <tr style=\"text-align: right;\">\n",
       "      <th></th>\n",
       "      <th>count</th>\n",
       "      <th>unique</th>\n",
       "      <th>top</th>\n",
       "      <th>freq</th>\n",
       "      <th>mean</th>\n",
       "      <th>std</th>\n",
       "      <th>min</th>\n",
       "      <th>25%</th>\n",
       "      <th>50%</th>\n",
       "      <th>75%</th>\n",
       "      <th>max</th>\n",
       "    </tr>\n",
       "  </thead>\n",
       "  <tbody>\n",
       "    <tr>\n",
       "      <th>item_id</th>\n",
       "      <td>576483.0</td>\n",
       "      <td>NaN</td>\n",
       "      <td>NaN</td>\n",
       "      <td>NaN</td>\n",
       "      <td>568863.306573</td>\n",
       "      <td>199132.941748</td>\n",
       "      <td>211133.0</td>\n",
       "      <td>400808.0</td>\n",
       "      <td>572637.0</td>\n",
       "      <td>741165.5</td>\n",
       "      <td>905208.0</td>\n",
       "    </tr>\n",
       "    <tr>\n",
       "      <th>status</th>\n",
       "      <td>576483</td>\n",
       "      <td>15</td>\n",
       "      <td>complete</td>\n",
       "      <td>230451</td>\n",
       "      <td>NaN</td>\n",
       "      <td>NaN</td>\n",
       "      <td>NaN</td>\n",
       "      <td>NaN</td>\n",
       "      <td>NaN</td>\n",
       "      <td>NaN</td>\n",
       "      <td>NaN</td>\n",
       "    </tr>\n",
       "    <tr>\n",
       "      <th>created_at</th>\n",
       "      <td>576483</td>\n",
       "      <td>789</td>\n",
       "      <td>11/25/2016</td>\n",
       "      <td>14929</td>\n",
       "      <td>NaN</td>\n",
       "      <td>NaN</td>\n",
       "      <td>NaN</td>\n",
       "      <td>NaN</td>\n",
       "      <td>NaN</td>\n",
       "      <td>NaN</td>\n",
       "      <td>NaN</td>\n",
       "    </tr>\n",
       "    <tr>\n",
       "      <th>price</th>\n",
       "      <td>576483.0</td>\n",
       "      <td>NaN</td>\n",
       "      <td>NaN</td>\n",
       "      <td>NaN</td>\n",
       "      <td>6380.660645</td>\n",
       "      <td>15006.904297</td>\n",
       "      <td>0.0</td>\n",
       "      <td>360.0</td>\n",
       "      <td>900.0</td>\n",
       "      <td>4054.0</td>\n",
       "      <td>1012625.875</td>\n",
       "    </tr>\n",
       "    <tr>\n",
       "      <th>qty_ordered</th>\n",
       "      <td>576483.0</td>\n",
       "      <td>NaN</td>\n",
       "      <td>NaN</td>\n",
       "      <td>NaN</td>\n",
       "      <td>1.295216</td>\n",
       "      <td>3.997737</td>\n",
       "      <td>1.0</td>\n",
       "      <td>1.0</td>\n",
       "      <td>1.0</td>\n",
       "      <td>1.0</td>\n",
       "      <td>1000.0</td>\n",
       "    </tr>\n",
       "    <tr>\n",
       "      <th>grand_total</th>\n",
       "      <td>576483.0</td>\n",
       "      <td>NaN</td>\n",
       "      <td>NaN</td>\n",
       "      <td>NaN</td>\n",
       "      <td>8586.783203</td>\n",
       "      <td>61731.695312</td>\n",
       "      <td>-1594.0</td>\n",
       "      <td>952.100006</td>\n",
       "      <td>1986.455444</td>\n",
       "      <td>6998.399902</td>\n",
       "      <td>17888000.0</td>\n",
       "    </tr>\n",
       "    <tr>\n",
       "      <th>category</th>\n",
       "      <td>576483</td>\n",
       "      <td>15</td>\n",
       "      <td>Mobiles &amp; Tablets</td>\n",
       "      <td>115709</td>\n",
       "      <td>NaN</td>\n",
       "      <td>NaN</td>\n",
       "      <td>NaN</td>\n",
       "      <td>NaN</td>\n",
       "      <td>NaN</td>\n",
       "      <td>NaN</td>\n",
       "      <td>NaN</td>\n",
       "    </tr>\n",
       "    <tr>\n",
       "      <th>payment_method</th>\n",
       "      <td>576483</td>\n",
       "      <td>18</td>\n",
       "      <td>cod</td>\n",
       "      <td>267762</td>\n",
       "      <td>NaN</td>\n",
       "      <td>NaN</td>\n",
       "      <td>NaN</td>\n",
       "      <td>NaN</td>\n",
       "      <td>NaN</td>\n",
       "      <td>NaN</td>\n",
       "      <td>NaN</td>\n",
       "    </tr>\n",
       "    <tr>\n",
       "      <th>bi_status</th>\n",
       "      <td>576483</td>\n",
       "      <td>3</td>\n",
       "      <td>Net</td>\n",
       "      <td>230943</td>\n",
       "      <td>NaN</td>\n",
       "      <td>NaN</td>\n",
       "      <td>NaN</td>\n",
       "      <td>NaN</td>\n",
       "      <td>NaN</td>\n",
       "      <td>NaN</td>\n",
       "      <td>NaN</td>\n",
       "    </tr>\n",
       "    <tr>\n",
       "      <th>customer_since</th>\n",
       "      <td>576483</td>\n",
       "      <td>27</td>\n",
       "      <td>2016-11</td>\n",
       "      <td>80888</td>\n",
       "      <td>NaN</td>\n",
       "      <td>NaN</td>\n",
       "      <td>NaN</td>\n",
       "      <td>NaN</td>\n",
       "      <td>NaN</td>\n",
       "      <td>NaN</td>\n",
       "      <td>NaN</td>\n",
       "    </tr>\n",
       "    <tr>\n",
       "      <th>customer_id</th>\n",
       "      <td>576483</td>\n",
       "      <td>114214</td>\n",
       "      <td>85775</td>\n",
       "      <td>2524</td>\n",
       "      <td>NaN</td>\n",
       "      <td>NaN</td>\n",
       "      <td>NaN</td>\n",
       "      <td>NaN</td>\n",
       "      <td>NaN</td>\n",
       "      <td>NaN</td>\n",
       "      <td>NaN</td>\n",
       "    </tr>\n",
       "    <tr>\n",
       "      <th>payment_status</th>\n",
       "      <td>576483</td>\n",
       "      <td>3</td>\n",
       "      <td>pass</td>\n",
       "      <td>573446</td>\n",
       "      <td>NaN</td>\n",
       "      <td>NaN</td>\n",
       "      <td>NaN</td>\n",
       "      <td>NaN</td>\n",
       "      <td>NaN</td>\n",
       "      <td>NaN</td>\n",
       "      <td>NaN</td>\n",
       "    </tr>\n",
       "    <tr>\n",
       "      <th>is_discounted</th>\n",
       "      <td>576483.0</td>\n",
       "      <td>NaN</td>\n",
       "      <td>NaN</td>\n",
       "      <td>NaN</td>\n",
       "      <td>0.357487</td>\n",
       "      <td>0.47926</td>\n",
       "      <td>0.0</td>\n",
       "      <td>0.0</td>\n",
       "      <td>0.0</td>\n",
       "      <td>1.0</td>\n",
       "      <td>1.0</td>\n",
       "    </tr>\n",
       "  </tbody>\n",
       "</table>\n",
       "</div>"
      ],
      "text/plain": [
       "                   count  unique                top    freq           mean  \\\n",
       "item_id         576483.0     NaN                NaN     NaN  568863.306573   \n",
       "status            576483      15           complete  230451            NaN   \n",
       "created_at        576483     789         11/25/2016   14929            NaN   \n",
       "price           576483.0     NaN                NaN     NaN    6380.660645   \n",
       "qty_ordered     576483.0     NaN                NaN     NaN       1.295216   \n",
       "grand_total     576483.0     NaN                NaN     NaN    8586.783203   \n",
       "category          576483      15  Mobiles & Tablets  115709            NaN   \n",
       "payment_method    576483      18                cod  267762            NaN   \n",
       "bi_status         576483       3                Net  230943            NaN   \n",
       "customer_since    576483      27            2016-11   80888            NaN   \n",
       "customer_id       576483  114214              85775    2524            NaN   \n",
       "payment_status    576483       3               pass  573446            NaN   \n",
       "is_discounted   576483.0     NaN                NaN     NaN       0.357487   \n",
       "\n",
       "                          std       min         25%          50%          75%  \\\n",
       "item_id         199132.941748  211133.0    400808.0     572637.0     741165.5   \n",
       "status                    NaN       NaN         NaN          NaN          NaN   \n",
       "created_at                NaN       NaN         NaN          NaN          NaN   \n",
       "price            15006.904297       0.0       360.0        900.0       4054.0   \n",
       "qty_ordered          3.997737       1.0         1.0          1.0          1.0   \n",
       "grand_total      61731.695312   -1594.0  952.100006  1986.455444  6998.399902   \n",
       "category                  NaN       NaN         NaN          NaN          NaN   \n",
       "payment_method            NaN       NaN         NaN          NaN          NaN   \n",
       "bi_status                 NaN       NaN         NaN          NaN          NaN   \n",
       "customer_since            NaN       NaN         NaN          NaN          NaN   \n",
       "customer_id               NaN       NaN         NaN          NaN          NaN   \n",
       "payment_status            NaN       NaN         NaN          NaN          NaN   \n",
       "is_discounted         0.47926       0.0         0.0          0.0          1.0   \n",
       "\n",
       "                        max  \n",
       "item_id            905208.0  \n",
       "status                  NaN  \n",
       "created_at              NaN  \n",
       "price           1012625.875  \n",
       "qty_ordered          1000.0  \n",
       "grand_total      17888000.0  \n",
       "category                NaN  \n",
       "payment_method          NaN  \n",
       "bi_status               NaN  \n",
       "customer_since          NaN  \n",
       "customer_id             NaN  \n",
       "payment_status          NaN  \n",
       "is_discounted           1.0  "
      ]
     },
     "execution_count": 37,
     "metadata": {},
     "output_type": "execute_result"
    }
   ],
   "source": [
    "df.toPandas().describe(include='all').T"
   ]
  },
  {
   "cell_type": "code",
   "execution_count": 38,
   "metadata": {},
   "outputs": [
    {
     "name": "stdout",
     "output_type": "stream",
     "text": [
      "+-------+------+----------+--------+-----------+-----------+-----------------+--------------+---------+--------------+-----------+--------------+-------------+\n",
      "|item_id|status|created_at|   price|qty_ordered|grand_total|         category|payment_method|bi_status|customer_since|customer_id|payment_status|is_discounted|\n",
      "+-------+------+----------+--------+-----------+-----------+-----------------+--------------+---------+--------------+-----------+--------------+-------------+\n",
      "| 232984| fraud| 8/22/2016| 86250.0|          1|    86250.0|    Entertainment| ublcreditcard|    Gross|        2016-8|       4581|         fraud|            0|\n",
      "| 264615| fraud|10/18/2016|120000.0|          1|   120000.0|    Home & Living|       Payaxis|    Gross|        2016-7|        751|         fraud|            0|\n",
      "| 390474| fraud| 1/18/2017| 19999.0|          1|    19999.0|Mobiles & Tablets|       Payaxis|    Gross|        2017-1|      30412|         fraud|            0|\n",
      "| 376659| fraud|12/27/2016| 83770.0|          1|    83770.0|Mobiles & Tablets|       Payaxis|    Gross|       2016-12|      29789|         fraud|            0|\n",
      "| 373058| fraud|12/21/2016| 42755.0|          1|    42755.0|        Computing|       Payaxis|    Gross|       2016-12|      29260|         fraud|            0|\n",
      "| 376662| fraud|12/27/2016| 83770.0|          1|    83770.0|Mobiles & Tablets|       Payaxis|    Gross|       2016-12|      29791|         fraud|            0|\n",
      "| 390473| fraud| 1/18/2017| 95000.0|          1|    95000.0|Mobiles & Tablets|       Payaxis|    Gross|       2016-11|      21254|         fraud|            0|\n",
      "| 373060| fraud|12/21/2016| 44900.0|          1|    44900.0|    Entertainment|       Payaxis|    Gross|       2016-11|      27561|         fraud|            0|\n",
      "| 390487| fraud| 1/18/2017| 25000.0|          1|    25000.0|Mobiles & Tablets|       Payaxis|    Gross|       2016-12|      29794|         fraud|            0|\n",
      "| 376668| fraud|12/27/2016| 25500.0|          1|    25500.0|Mobiles & Tablets|       Payaxis|    Gross|       2016-12|      29793|         fraud|            0|\n",
      "+-------+------+----------+--------+-----------+-----------+-----------------+--------------+---------+--------------+-----------+--------------+-------------+\n",
      "\n"
     ]
    }
   ],
   "source": [
    "df.filter(df.payment_status=='fraud').show()"
   ]
  },
  {
   "cell_type": "code",
   "execution_count": 39,
   "metadata": {},
   "outputs": [
    {
     "name": "stdout",
     "output_type": "stream",
     "text": [
      "[-7757.400146484375] [15453.000244140625]\n",
      "before removing outlier : 576483\n",
      "after removing outlier : 495650\n"
     ]
    }
   ],
   "source": [
    "df = outlier_treatment(df, ['grand_total'])\n",
    "# concat with fraud df\n",
    "df = df.union(tmp2)"
   ]
  },
  {
   "cell_type": "markdown",
   "metadata": {},
   "source": [
    "### Data Type Check"
   ]
  },
  {
   "cell_type": "code",
   "execution_count": 43,
   "metadata": {},
   "outputs": [],
   "source": [
    "df = df.withColumn('created_at', F.to_date(F.unix_timestamp('created_at', 'M/d/y').cast('timestamp')))\n",
    "df = df.withColumn('customer_since', F.to_date(F.unix_timestamp('customer_since', 'y-M').cast('timestamp')))"
   ]
  },
  {
   "cell_type": "code",
   "execution_count": 44,
   "metadata": {},
   "outputs": [
    {
     "name": "stdout",
     "output_type": "stream",
     "text": [
      "NULL in created_at 0\n",
      "NULL in customer_since 9\n"
     ]
    }
   ],
   "source": [
    "# re-check remaining missing value in columns\n",
    "for c in['created_at','customer_since']: print(f'NULL in {c}',df.filter(f'{c} IS NULL').count()) "
   ]
  },
  {
   "cell_type": "code",
   "execution_count": 45,
   "metadata": {},
   "outputs": [],
   "source": [
    "# fill null customer_since with mode\n",
    "mode_value = df.groupBy('customer_since').count().orderBy('count', ascending=False).first()[0]\n",
    "df = df.withColumn('customer_since', F.when(df.customer_since.isNull(), F.lit(mode_value)).otherwise(F.col('customer_since')))"
   ]
  },
  {
   "cell_type": "code",
   "execution_count": 46,
   "metadata": {},
   "outputs": [
    {
     "name": "stdout",
     "output_type": "stream",
     "text": [
      "root\n",
      " |-- item_id: integer (nullable = true)\n",
      " |-- status: string (nullable = true)\n",
      " |-- created_at: date (nullable = true)\n",
      " |-- price: float (nullable = true)\n",
      " |-- qty_ordered: integer (nullable = true)\n",
      " |-- grand_total: float (nullable = true)\n",
      " |-- category: string (nullable = true)\n",
      " |-- payment_method: string (nullable = true)\n",
      " |-- bi_status: string (nullable = true)\n",
      " |-- customer_since: date (nullable = true)\n",
      " |-- customer_id: string (nullable = true)\n",
      " |-- payment_status: string (nullable = false)\n",
      " |-- is_discounted: integer (nullable = true)\n",
      "\n"
     ]
    }
   ],
   "source": [
    "df.printSchema()"
   ]
  },
  {
   "cell_type": "markdown",
   "metadata": {},
   "source": [
    "## EDA"
   ]
  },
  {
   "cell_type": "markdown",
   "metadata": {},
   "source": [
    "### Summary of Dataset"
   ]
  },
  {
   "cell_type": "code",
   "execution_count": 47,
   "metadata": {},
   "outputs": [
    {
     "data": {
      "text/html": [
       "<div>\n",
       "<style scoped>\n",
       "    .dataframe tbody tr th:only-of-type {\n",
       "        vertical-align: middle;\n",
       "    }\n",
       "\n",
       "    .dataframe tbody tr th {\n",
       "        vertical-align: top;\n",
       "    }\n",
       "\n",
       "    .dataframe thead th {\n",
       "        text-align: right;\n",
       "    }\n",
       "</style>\n",
       "<table border=\"1\" class=\"dataframe\">\n",
       "  <thead>\n",
       "    <tr style=\"text-align: right;\">\n",
       "      <th></th>\n",
       "      <th>count</th>\n",
       "      <th>unique</th>\n",
       "      <th>top</th>\n",
       "      <th>freq</th>\n",
       "      <th>mean</th>\n",
       "      <th>std</th>\n",
       "      <th>min</th>\n",
       "      <th>25%</th>\n",
       "      <th>50%</th>\n",
       "      <th>75%</th>\n",
       "      <th>max</th>\n",
       "    </tr>\n",
       "  </thead>\n",
       "  <tbody>\n",
       "    <tr>\n",
       "      <th>item_id</th>\n",
       "      <td>495660.0</td>\n",
       "      <td>NaN</td>\n",
       "      <td>NaN</td>\n",
       "      <td>NaN</td>\n",
       "      <td>558929.026542</td>\n",
       "      <td>197487.317775</td>\n",
       "      <td>211133.0</td>\n",
       "      <td>391140.5</td>\n",
       "      <td>558221.5</td>\n",
       "      <td>727050.5</td>\n",
       "      <td>905204.0</td>\n",
       "    </tr>\n",
       "    <tr>\n",
       "      <th>status</th>\n",
       "      <td>495660</td>\n",
       "      <td>15</td>\n",
       "      <td>complete</td>\n",
       "      <td>211592</td>\n",
       "      <td>NaN</td>\n",
       "      <td>NaN</td>\n",
       "      <td>NaN</td>\n",
       "      <td>NaN</td>\n",
       "      <td>NaN</td>\n",
       "      <td>NaN</td>\n",
       "      <td>NaN</td>\n",
       "    </tr>\n",
       "    <tr>\n",
       "      <th>created_at</th>\n",
       "      <td>495660</td>\n",
       "      <td>789</td>\n",
       "      <td>2016-11-25</td>\n",
       "      <td>13729</td>\n",
       "      <td>NaN</td>\n",
       "      <td>NaN</td>\n",
       "      <td>NaN</td>\n",
       "      <td>NaN</td>\n",
       "      <td>NaN</td>\n",
       "      <td>NaN</td>\n",
       "      <td>NaN</td>\n",
       "    </tr>\n",
       "    <tr>\n",
       "      <th>price</th>\n",
       "      <td>495660.0</td>\n",
       "      <td>NaN</td>\n",
       "      <td>NaN</td>\n",
       "      <td>NaN</td>\n",
       "      <td>2178.3125</td>\n",
       "      <td>3933.878174</td>\n",
       "      <td>0.0</td>\n",
       "      <td>320.0</td>\n",
       "      <td>723.0</td>\n",
       "      <td>1750.0</td>\n",
       "      <td>163000.0</td>\n",
       "    </tr>\n",
       "    <tr>\n",
       "      <th>qty_ordered</th>\n",
       "      <td>495660.0</td>\n",
       "      <td>NaN</td>\n",
       "      <td>NaN</td>\n",
       "      <td>NaN</td>\n",
       "      <td>1.282476</td>\n",
       "      <td>2.209675</td>\n",
       "      <td>1.0</td>\n",
       "      <td>1.0</td>\n",
       "      <td>1.0</td>\n",
       "      <td>1.0</td>\n",
       "      <td>500.0</td>\n",
       "    </tr>\n",
       "    <tr>\n",
       "      <th>grand_total</th>\n",
       "      <td>495660.0</td>\n",
       "      <td>NaN</td>\n",
       "      <td>NaN</td>\n",
       "      <td>NaN</td>\n",
       "      <td>2975.317383</td>\n",
       "      <td>3475.151123</td>\n",
       "      <td>-1594.0</td>\n",
       "      <td>830.0</td>\n",
       "      <td>1500.0</td>\n",
       "      <td>3683.550049</td>\n",
       "      <td>120000.0</td>\n",
       "    </tr>\n",
       "    <tr>\n",
       "      <th>category</th>\n",
       "      <td>495660</td>\n",
       "      <td>15</td>\n",
       "      <td>Men's Fashion</td>\n",
       "      <td>90949</td>\n",
       "      <td>NaN</td>\n",
       "      <td>NaN</td>\n",
       "      <td>NaN</td>\n",
       "      <td>NaN</td>\n",
       "      <td>NaN</td>\n",
       "      <td>NaN</td>\n",
       "      <td>NaN</td>\n",
       "    </tr>\n",
       "    <tr>\n",
       "      <th>payment_method</th>\n",
       "      <td>495660</td>\n",
       "      <td>18</td>\n",
       "      <td>cod</td>\n",
       "      <td>253255</td>\n",
       "      <td>NaN</td>\n",
       "      <td>NaN</td>\n",
       "      <td>NaN</td>\n",
       "      <td>NaN</td>\n",
       "      <td>NaN</td>\n",
       "      <td>NaN</td>\n",
       "      <td>NaN</td>\n",
       "    </tr>\n",
       "    <tr>\n",
       "      <th>bi_status</th>\n",
       "      <td>495660</td>\n",
       "      <td>3</td>\n",
       "      <td>Net</td>\n",
       "      <td>212028</td>\n",
       "      <td>NaN</td>\n",
       "      <td>NaN</td>\n",
       "      <td>NaN</td>\n",
       "      <td>NaN</td>\n",
       "      <td>NaN</td>\n",
       "      <td>NaN</td>\n",
       "      <td>NaN</td>\n",
       "    </tr>\n",
       "    <tr>\n",
       "      <th>customer_since</th>\n",
       "      <td>495660</td>\n",
       "      <td>26</td>\n",
       "      <td>2016-11-01</td>\n",
       "      <td>74285</td>\n",
       "      <td>NaN</td>\n",
       "      <td>NaN</td>\n",
       "      <td>NaN</td>\n",
       "      <td>NaN</td>\n",
       "      <td>NaN</td>\n",
       "      <td>NaN</td>\n",
       "      <td>NaN</td>\n",
       "    </tr>\n",
       "    <tr>\n",
       "      <th>customer_id</th>\n",
       "      <td>495660</td>\n",
       "      <td>102679</td>\n",
       "      <td>85775</td>\n",
       "      <td>2524</td>\n",
       "      <td>NaN</td>\n",
       "      <td>NaN</td>\n",
       "      <td>NaN</td>\n",
       "      <td>NaN</td>\n",
       "      <td>NaN</td>\n",
       "      <td>NaN</td>\n",
       "      <td>NaN</td>\n",
       "    </tr>\n",
       "    <tr>\n",
       "      <th>payment_status</th>\n",
       "      <td>495660</td>\n",
       "      <td>3</td>\n",
       "      <td>pass</td>\n",
       "      <td>492825</td>\n",
       "      <td>NaN</td>\n",
       "      <td>NaN</td>\n",
       "      <td>NaN</td>\n",
       "      <td>NaN</td>\n",
       "      <td>NaN</td>\n",
       "      <td>NaN</td>\n",
       "      <td>NaN</td>\n",
       "    </tr>\n",
       "    <tr>\n",
       "      <th>is_discounted</th>\n",
       "      <td>495660.0</td>\n",
       "      <td>NaN</td>\n",
       "      <td>NaN</td>\n",
       "      <td>NaN</td>\n",
       "      <td>0.341185</td>\n",
       "      <td>0.474108</td>\n",
       "      <td>0.0</td>\n",
       "      <td>0.0</td>\n",
       "      <td>0.0</td>\n",
       "      <td>1.0</td>\n",
       "      <td>1.0</td>\n",
       "    </tr>\n",
       "  </tbody>\n",
       "</table>\n",
       "</div>"
      ],
      "text/plain": [
       "                   count  unique            top    freq           mean  \\\n",
       "item_id         495660.0     NaN            NaN     NaN  558929.026542   \n",
       "status            495660      15       complete  211592            NaN   \n",
       "created_at        495660     789     2016-11-25   13729            NaN   \n",
       "price           495660.0     NaN            NaN     NaN      2178.3125   \n",
       "qty_ordered     495660.0     NaN            NaN     NaN       1.282476   \n",
       "grand_total     495660.0     NaN            NaN     NaN    2975.317383   \n",
       "category          495660      15  Men's Fashion   90949            NaN   \n",
       "payment_method    495660      18            cod  253255            NaN   \n",
       "bi_status         495660       3            Net  212028            NaN   \n",
       "customer_since    495660      26     2016-11-01   74285            NaN   \n",
       "customer_id       495660  102679          85775    2524            NaN   \n",
       "payment_status    495660       3           pass  492825            NaN   \n",
       "is_discounted   495660.0     NaN            NaN     NaN       0.341185   \n",
       "\n",
       "                          std       min       25%       50%          75%  \\\n",
       "item_id         197487.317775  211133.0  391140.5  558221.5     727050.5   \n",
       "status                    NaN       NaN       NaN       NaN          NaN   \n",
       "created_at                NaN       NaN       NaN       NaN          NaN   \n",
       "price             3933.878174       0.0     320.0     723.0       1750.0   \n",
       "qty_ordered          2.209675       1.0       1.0       1.0          1.0   \n",
       "grand_total       3475.151123   -1594.0     830.0    1500.0  3683.550049   \n",
       "category                  NaN       NaN       NaN       NaN          NaN   \n",
       "payment_method            NaN       NaN       NaN       NaN          NaN   \n",
       "bi_status                 NaN       NaN       NaN       NaN          NaN   \n",
       "customer_since            NaN       NaN       NaN       NaN          NaN   \n",
       "customer_id               NaN       NaN       NaN       NaN          NaN   \n",
       "payment_status            NaN       NaN       NaN       NaN          NaN   \n",
       "is_discounted        0.474108       0.0       0.0       0.0          1.0   \n",
       "\n",
       "                     max  \n",
       "item_id         905204.0  \n",
       "status               NaN  \n",
       "created_at           NaN  \n",
       "price           163000.0  \n",
       "qty_ordered        500.0  \n",
       "grand_total     120000.0  \n",
       "category             NaN  \n",
       "payment_method       NaN  \n",
       "bi_status            NaN  \n",
       "customer_since       NaN  \n",
       "customer_id          NaN  \n",
       "payment_status       NaN  \n",
       "is_discounted        1.0  "
      ]
     },
     "execution_count": 47,
     "metadata": {},
     "output_type": "execute_result"
    }
   ],
   "source": [
    "df.toPandas().describe(include='all').T"
   ]
  },
  {
   "cell_type": "code",
   "execution_count": 48,
   "metadata": {},
   "outputs": [
    {
     "name": "stdout",
     "output_type": "stream",
     "text": [
      "dataset shape : (495660, 13)\n"
     ]
    }
   ],
   "source": [
    "print('dataset shape :', (df.count(), len(df.columns)))"
   ]
  },
  {
   "cell_type": "markdown",
   "metadata": {},
   "source": [
    "### Data Distribution"
   ]
  },
  {
   "cell_type": "code",
   "execution_count": 49,
   "metadata": {},
   "outputs": [
    {
     "name": "stdout",
     "output_type": "stream",
     "text": [
      "root\n",
      " |-- item_id: integer (nullable = true)\n",
      " |-- status: string (nullable = true)\n",
      " |-- created_at: date (nullable = true)\n",
      " |-- price: float (nullable = true)\n",
      " |-- qty_ordered: integer (nullable = true)\n",
      " |-- grand_total: float (nullable = true)\n",
      " |-- category: string (nullable = true)\n",
      " |-- payment_method: string (nullable = true)\n",
      " |-- bi_status: string (nullable = true)\n",
      " |-- customer_since: date (nullable = true)\n",
      " |-- customer_id: string (nullable = true)\n",
      " |-- payment_status: string (nullable = false)\n",
      " |-- is_discounted: integer (nullable = true)\n",
      "\n"
     ]
    }
   ],
   "source": [
    "df.printSchema()"
   ]
  },
  {
   "cell_type": "markdown",
   "metadata": {},
   "source": [
    "#### Numerical Data Distribution"
   ]
  },
  {
   "cell_type": "code",
   "execution_count": 50,
   "metadata": {},
   "outputs": [],
   "source": [
    "tmp = df.select('qty_ordered','price','grand_total').toPandas()"
   ]
  },
  {
   "cell_type": "code",
   "execution_count": 51,
   "metadata": {},
   "outputs": [
    {
     "name": "stderr",
     "output_type": "stream",
     "text": [
      "c:\\Users\\dendy\\miniconda3\\envs\\airflow\\lib\\site-packages\\pandas\\core\\internals\\blocks.py:366: RuntimeWarning: divide by zero encountered in log\n",
      "  result = func(self.values, **kwargs)\n",
      "c:\\Users\\dendy\\miniconda3\\envs\\airflow\\lib\\site-packages\\pandas\\core\\internals\\blocks.py:366: RuntimeWarning: invalid value encountered in log\n",
      "  result = func(self.values, **kwargs)\n"
     ]
    }
   ],
   "source": [
    "tmp = np.log(tmp) # scale data with log for better viz result\n",
    "# tmp"
   ]
  },
  {
   "cell_type": "code",
   "execution_count": 52,
   "metadata": {},
   "outputs": [
    {
     "data": {
      "image/png": "[encoded data removed]",
      "text/plain": [
       "<Figure size 1600x1000 with 4 Axes>"
      ]
     },
     "metadata": {},
     "output_type": "display_data"
    }
   ],
   "source": [
    "f, ax = plt.subplots(2,2, figsize=(16,10))\n",
    "sns.histplot(tmp['grand_total'], ax=ax[0,0])#, kde=True)\n",
    "sns.histplot(tmp['price'], ax=ax[0,1])#, kde=True)\n",
    "sns.histplot(tmp['qty_ordered'], ax=ax[1,0])#, kde=True)\n",
    "ax[1, 1].axis('off')\n",
    "plt.show()\n"
   ]
  },
  {
   "cell_type": "markdown",
   "metadata": {},
   "source": [
    "#### Categorical Data Visualization"
   ]
  },
  {
   "cell_type": "code",
   "execution_count": 53,
   "metadata": {},
   "outputs": [],
   "source": [
    "tmp = df.select('created_at','status','payment_status','category','payment_method','bi_status','is_discounted').toPandas()"
   ]
  },
  {
   "cell_type": "code",
   "execution_count": 54,
   "metadata": {},
   "outputs": [
    {
     "data": {
      "text/plain": [
       "payment_status\n",
       "pass       492825\n",
       "pending      2825\n",
       "fraud          10\n",
       "Name: count, dtype: int64"
      ]
     },
     "execution_count": 54,
     "metadata": {},
     "output_type": "execute_result"
    }
   ],
   "source": [
    "tmp.payment_status.value_counts()"
   ]
  },
  {
   "cell_type": "code",
   "execution_count": 55,
   "metadata": {},
   "outputs": [
    {
     "data": {
      "image/png": "[encoded data removed]",
      "text/plain": [
       "<Figure size 1600x1200 with 6 Axes>"
      ]
     },
     "metadata": {},
     "output_type": "display_data"
    }
   ],
   "source": [
    "f, ax = plt.subplots(3,2, figsize=(16,12))\n",
    "tmp1 = tmp.status.value_counts()\n",
    "ax[0,0] = sns.barplot(x=np.log(tmp1.values), y=tmp1.index, orient='h', ax=ax[0,0])\n",
    "ax[0,0].set_xlabel('Count (log)')\n",
    "tmp1 = tmp.payment_status.value_counts()\n",
    "ax[0,1] = sns.barplot(x=np.log(tmp1.values), y=tmp1.index, orient='h', ax=ax[0,1])\n",
    "ax[0,1].set_xlabel('Count (log)')\n",
    "tmp1 = tmp.payment_method.value_counts()\n",
    "ax[1,0] = sns.barplot(x=np.log(tmp1.values), y=tmp1.index, orient='h', ax=ax[1,0])\n",
    "ax[1,0].set_xlabel('Count (log)')\n",
    "tmp1 = tmp.category.value_counts()\n",
    "ax[1,1] = sns.barplot(x=tmp1.values, y=tmp1.index, orient='h', ax=ax[1,1])\n",
    "ax[1,1].set_xlabel('Count')\n",
    "tmp1 = tmp.bi_status.value_counts()\n",
    "ax[2,0] = sns.barplot(x=tmp1.values, y=tmp1.index, orient='h', ax=ax[2,0])\n",
    "ax[2,0].set_xlabel('Count')\n",
    "tmp1 = tmp.is_discounted.value_counts()\n",
    "ax[2,1] = sns.barplot(x=tmp1.values, y=tmp1.index, orient='h', ax=ax[2,1])\n",
    "ax[2,1].set_xlabel('Count')\n",
    "plt.tight_layout()\n",
    "plt.show()\n"
   ]
  },
  {
   "cell_type": "markdown",
   "metadata": {},
   "source": [
    "#### Timeseries Visualization (unfinish)"
   ]
  },
  {
   "cell_type": "code",
   "execution_count": 56,
   "metadata": {},
   "outputs": [],
   "source": [
    "tmp = df.groupBy('created_at','status').count().sort('created_at', ascending=True).toPandas()\n",
    "tmp = tmp.set_index('created_at')\n",
    "\n",
    "tmp1 = df.groupBy('created_at','payment_status').count().sort('created_at', ascending=True).toPandas()\n",
    "tmp1 = tmp1.set_index('created_at')"
   ]
  },
  {
   "cell_type": "code",
   "execution_count": 57,
   "metadata": {},
   "outputs": [
    {
     "data": {
      "text/plain": [
       "array(['refund', 'complete', 'canceled', 'order_refunded', 'received',\n",
       "       'closed', 'fraud', 'holded', 'exchange', 'pending_paypal', 'paid',\n",
       "       'cod', 'pending', 'processing', 'payment_review'], dtype=object)"
      ]
     },
     "execution_count": 57,
     "metadata": {},
     "output_type": "execute_result"
    }
   ],
   "source": [
    "tmp.status.unique()"
   ]
  },
  {
   "cell_type": "code",
   "execution_count": 58,
   "metadata": {},
   "outputs": [
    {
     "data": {
      "text/html": [
       "<div>\n",
       "<style scoped>\n",
       "    .dataframe tbody tr th:only-of-type {\n",
       "        vertical-align: middle;\n",
       "    }\n",
       "\n",
       "    .dataframe tbody tr th {\n",
       "        vertical-align: top;\n",
       "    }\n",
       "\n",
       "    .dataframe thead th {\n",
       "        text-align: right;\n",
       "    }\n",
       "</style>\n",
       "<table border=\"1\" class=\"dataframe\">\n",
       "  <thead>\n",
       "    <tr style=\"text-align: right;\">\n",
       "      <th></th>\n",
       "      <th>status</th>\n",
       "      <th>count</th>\n",
       "    </tr>\n",
       "    <tr>\n",
       "      <th>created_at</th>\n",
       "      <th></th>\n",
       "      <th></th>\n",
       "    </tr>\n",
       "  </thead>\n",
       "  <tbody>\n",
       "    <tr>\n",
       "      <th>2018-08-28</th>\n",
       "      <td>processing</td>\n",
       "      <td>13</td>\n",
       "    </tr>\n",
       "    <tr>\n",
       "      <th>2018-08-28</th>\n",
       "      <td>pending</td>\n",
       "      <td>6</td>\n",
       "    </tr>\n",
       "    <tr>\n",
       "      <th>2018-08-28</th>\n",
       "      <td>paid</td>\n",
       "      <td>9</td>\n",
       "    </tr>\n",
       "    <tr>\n",
       "      <th>2018-08-28</th>\n",
       "      <td>canceled</td>\n",
       "      <td>31</td>\n",
       "    </tr>\n",
       "    <tr>\n",
       "      <th>2018-08-28</th>\n",
       "      <td>cod</td>\n",
       "      <td>19</td>\n",
       "    </tr>\n",
       "  </tbody>\n",
       "</table>\n",
       "</div>"
      ],
      "text/plain": [
       "                status  count\n",
       "created_at                   \n",
       "2018-08-28  processing     13\n",
       "2018-08-28     pending      6\n",
       "2018-08-28        paid      9\n",
       "2018-08-28    canceled     31\n",
       "2018-08-28         cod     19"
      ]
     },
     "execution_count": 58,
     "metadata": {},
     "output_type": "execute_result"
    }
   ],
   "source": [
    "tmp.tail()"
   ]
  },
  {
   "cell_type": "code",
   "execution_count": 59,
   "metadata": {},
   "outputs": [
    {
     "data": {
      "image/png": "[encoded data removed]",
      "text/plain": [
       "<Figure size 1600x1000 with 5 Axes>"
      ]
     },
     "metadata": {},
     "output_type": "display_data"
    }
   ],
   "source": [
    "xtick = ['2016-07','2016-09','2016-12','2017-03','2017-06','2017-09','2017-12','2018-03','2018-06','2018-09']\n",
    "f,ax = plt.subplots(5,1,figsize=(16,10))\n",
    "tmp2 = tmp[tmp.status.isin(['complete','paid','received'])]\n",
    "ax[0].plot(tmp2.index, tmp2['count'], color='green')\n",
    "ax[0].set_title('Num of Completed Transaction')\n",
    "ax[0].set_xticks(xtick)\n",
    "tmp2 = tmp[tmp.status.isin(['canceled'])]\n",
    "ax[1].plot(tmp2.index, tmp2['count'], color='orange')\n",
    "ax[1].set_title('Num of Canceled Transaction')\n",
    "ax[1].set_xticks(xtick)\n",
    "tmp2 = tmp1[tmp1.payment_status.isin(['pass'])]\n",
    "ax[2].plot(tmp2.index, tmp2['count'], color='blue')\n",
    "ax[2].set_title('Num of Pass Payment Status')\n",
    "ax[2].set_xticks(xtick)\n",
    "tmp2 = tmp1[tmp1.payment_status.isin(['pending'])]\n",
    "ax[3].plot(tmp2.index, tmp2['count'], color='purple')\n",
    "ax[3].set_title('Num of Pending Payment Status')\n",
    "ax[3].set_xticks(xtick)\n",
    "tmp2 = tmp1[tmp1.payment_status.isin(['fraud'])]\n",
    "ax[4].plot(tmp2.index, tmp2['count'], color='red')\n",
    "ax[4].set_title('Num of Fraud Payment Status')\n",
    "ax[4].set_xticks(xtick)\n",
    "plt.tight_layout()\n",
    "plt.show()"
   ]
  },
  {
   "cell_type": "markdown",
   "metadata": {},
   "source": [
    "## Problem 1: Forecasting Sales Data"
   ]
  },
  {
   "cell_type": "markdown",
   "metadata": {},
   "source": [
    "### Define Feature Data"
   ]
  },
  {
   "cell_type": "code",
   "execution_count": 65,
   "metadata": {},
   "outputs": [],
   "source": [
    "# dataset timeseries total revenue by day\n",
    "train_df0 = df.filter(df.status.isin(['complete','paid','received'])).groupBy('created_at').sum('grand_total').sort('created_at').toPandas()\n",
    "\n",
    "# # dataset timeseries total success order by day\n",
    "# train_df1 = df.filter(df.status.isin(['complete','paid','received'])).groupBy('created_at').count().sort('created_at').toPandas()"
   ]
  },
  {
   "cell_type": "code",
   "execution_count": 66,
   "metadata": {},
   "outputs": [],
   "source": [
    "train_df0.rename(columns={'created_at':'ds','sum(grand_total)':'y'}, inplace=True)\n",
    "# train_df1.rename(columns={'created_at':'ds','count':'y'}, inplace=True)"
   ]
  },
  {
   "cell_type": "markdown",
   "metadata": {},
   "source": [
    "### Forecast Model Training"
   ]
  },
  {
   "cell_type": "code",
   "execution_count": 67,
   "metadata": {},
   "outputs": [
    {
     "name": "stderr",
     "output_type": "stream",
     "text": [
      "c:\\Users\\dendy\\miniconda3\\envs\\airflow\\lib\\site-packages\\tqdm\\auto.py:21: TqdmWarning: IProgress not found. Please update jupyter and ipywidgets. See https://ipywidgets.readthedocs.io/en/stable/user_install.html\n",
      "  from .autonotebook import tqdm as notebook_tqdm\n"
     ]
    }
   ],
   "source": [
    "from prophet import Prophet"
   ]
  },
  {
   "cell_type": "code",
   "execution_count": 68,
   "metadata": {},
   "outputs": [
    {
     "name": "stderr",
     "output_type": "stream",
     "text": [
      "15:18:25 - cmdstanpy - INFO - Chain [1] start processing\n",
      "15:18:25 - cmdstanpy - INFO - Chain [1] done processing\n"
     ]
    },
    {
     "data": {
      "text/plain": [
       "<prophet.forecaster.Prophet at 0x19695d3a740>"
      ]
     },
     "execution_count": 68,
     "metadata": {},
     "output_type": "execute_result"
    }
   ],
   "source": [
    "# revenue forecast model\n",
    "m0 = Prophet()\n",
    "m0.fit(train_df0)"
   ]
  },
  {
   "cell_type": "code",
   "execution_count": 70,
   "metadata": {},
   "outputs": [],
   "source": [
    "# # order forecast model\n",
    "# m1 = Prophet()\n",
    "# m1.fit(train_df1)"
   ]
  },
  {
   "cell_type": "code",
   "execution_count": 71,
   "metadata": {},
   "outputs": [],
   "source": [
    "# forecasting up to 1 year\n",
    "future0 = m0.make_future_dataframe(periods=365)\n",
    "# future0.tail(4)\n",
    "\n",
    "# future1 = m1.make_future_dataframe(periods=365)\n",
    "# # future1.tail(4)"
   ]
  },
  {
   "cell_type": "code",
   "execution_count": 72,
   "metadata": {},
   "outputs": [
    {
     "data": {
      "text/html": [
       "<div>\n",
       "<style scoped>\n",
       "    .dataframe tbody tr th:only-of-type {\n",
       "        vertical-align: middle;\n",
       "    }\n",
       "\n",
       "    .dataframe tbody tr th {\n",
       "        vertical-align: top;\n",
       "    }\n",
       "\n",
       "    .dataframe thead th {\n",
       "        text-align: right;\n",
       "    }\n",
       "</style>\n",
       "<table border=\"1\" class=\"dataframe\">\n",
       "  <thead>\n",
       "    <tr style=\"text-align: right;\">\n",
       "      <th></th>\n",
       "      <th>ds</th>\n",
       "      <th>yhat</th>\n",
       "      <th>yhat_lower</th>\n",
       "      <th>yhat_upper</th>\n",
       "    </tr>\n",
       "  </thead>\n",
       "  <tbody>\n",
       "    <tr>\n",
       "      <th>1148</th>\n",
       "      <td>2019-08-24</td>\n",
       "      <td>-509513.847054</td>\n",
       "      <td>-2.857675e+06</td>\n",
       "      <td>1.641950e+06</td>\n",
       "    </tr>\n",
       "    <tr>\n",
       "      <th>1149</th>\n",
       "      <td>2019-08-25</td>\n",
       "      <td>-719589.117938</td>\n",
       "      <td>-3.133009e+06</td>\n",
       "      <td>1.401828e+06</td>\n",
       "    </tr>\n",
       "    <tr>\n",
       "      <th>1150</th>\n",
       "      <td>2019-08-26</td>\n",
       "      <td>-571700.917262</td>\n",
       "      <td>-2.793303e+06</td>\n",
       "      <td>1.642512e+06</td>\n",
       "    </tr>\n",
       "    <tr>\n",
       "      <th>1151</th>\n",
       "      <td>2019-08-27</td>\n",
       "      <td>-609602.642981</td>\n",
       "      <td>-2.711387e+06</td>\n",
       "      <td>1.598944e+06</td>\n",
       "    </tr>\n",
       "    <tr>\n",
       "      <th>1152</th>\n",
       "      <td>2019-08-28</td>\n",
       "      <td>-681747.229770</td>\n",
       "      <td>-3.009502e+06</td>\n",
       "      <td>1.465551e+06</td>\n",
       "    </tr>\n",
       "  </tbody>\n",
       "</table>\n",
       "</div>"
      ],
      "text/plain": [
       "             ds           yhat    yhat_lower    yhat_upper\n",
       "1148 2019-08-24 -509513.847054 -2.857675e+06  1.641950e+06\n",
       "1149 2019-08-25 -719589.117938 -3.133009e+06  1.401828e+06\n",
       "1150 2019-08-26 -571700.917262 -2.793303e+06  1.642512e+06\n",
       "1151 2019-08-27 -609602.642981 -2.711387e+06  1.598944e+06\n",
       "1152 2019-08-28 -681747.229770 -3.009502e+06  1.465551e+06"
      ]
     },
     "execution_count": 72,
     "metadata": {},
     "output_type": "execute_result"
    }
   ],
   "source": [
    "forecast = m0.predict(future0)\n",
    "forecast[['ds', 'yhat', 'yhat_lower', 'yhat_upper']].tail()\n"
   ]
  },
  {
   "cell_type": "code",
   "execution_count": 73,
   "metadata": {},
   "outputs": [],
   "source": [
    "# forecast1 = m1.predict(future1)\n",
    "# forecast1[['ds', 'yhat', 'yhat_lower', 'yhat_upper']].tail()"
   ]
  },
  {
   "cell_type": "code",
   "execution_count": 74,
   "metadata": {},
   "outputs": [
    {
     "name": "stderr",
     "output_type": "stream",
     "text": [
      "c:\\Users\\dendy\\miniconda3\\envs\\airflow\\lib\\site-packages\\prophet\\plot.py:72: FutureWarning: The behavior of DatetimeProperties.to_pydatetime is deprecated, in a future version this will return a Series containing python datetime objects instead of an ndarray. To retain the old behavior, call `np.array` on the result\n",
      "  fcst_t = fcst['ds'].dt.to_pydatetime()\n",
      "c:\\Users\\dendy\\miniconda3\\envs\\airflow\\lib\\site-packages\\prophet\\plot.py:73: FutureWarning: The behavior of DatetimeProperties.to_pydatetime is deprecated, in a future version this will return a Series containing python datetime objects instead of an ndarray. To retain the old behavior, call `np.array` on the result\n",
      "  ax.plot(m.history['ds'].dt.to_pydatetime(), m.history['y'], 'k.',\n"
     ]
    },
    {
     "data": {
      "image/png": "[encoded data removed]",
      "text/plain": [
       "<Figure size 1000x600 with 1 Axes>"
      ]
     },
     "metadata": {},
     "output_type": "display_data"
    }
   ],
   "source": [
    "ax = m0.plot(forecast, ylabel='total revenue')"
   ]
  },
  {
   "cell_type": "code",
   "execution_count": 75,
   "metadata": {},
   "outputs": [],
   "source": [
    "# ax = m1.plot(forecast, ylabel='total order')"
   ]
  },
  {
   "cell_type": "markdown",
   "metadata": {},
   "source": [
    "### Hyperparameter Tuning"
   ]
  },
  {
   "cell_type": "code",
   "execution_count": 81,
   "metadata": {},
   "outputs": [],
   "source": [
    "import itertools\n",
    "from prophet.diagnostics import cross_validation, performance_metrics\n",
    "from prophet.plot import plot_cross_validation_metric"
   ]
  },
  {
   "cell_type": "code",
   "execution_count": 84,
   "metadata": {},
   "outputs": [
    {
     "name": "stderr",
     "output_type": "stream",
     "text": [
      "15:23:27 - cmdstanpy - INFO - Chain [1] start processing\n",
      "15:23:28 - cmdstanpy - INFO - Chain [1] done processing\n",
      "15:23:31 - cmdstanpy - INFO - Chain [1] start processing\n",
      "15:23:31 - cmdstanpy - INFO - Chain [1] done processing\n",
      "15:23:35 - cmdstanpy - INFO - Chain [1] start processing\n",
      "15:23:35 - cmdstanpy - INFO - Chain [1] done processing\n",
      "15:23:39 - cmdstanpy - INFO - Chain [1] start processing\n",
      "15:23:39 - cmdstanpy - INFO - Chain [1] done processing\n",
      "15:23:43 - cmdstanpy - INFO - Chain [1] start processing\n",
      "15:23:43 - cmdstanpy - INFO - Chain [1] done processing\n",
      "15:23:47 - cmdstanpy - INFO - Chain [1] start processing\n",
      "15:23:47 - cmdstanpy - INFO - Chain [1] done processing\n",
      "15:23:51 - cmdstanpy - INFO - Chain [1] start processing\n",
      "15:23:51 - cmdstanpy - INFO - Chain [1] done processing\n",
      "15:23:55 - cmdstanpy - INFO - Chain [1] start processing\n",
      "15:23:55 - cmdstanpy - INFO - Chain [1] done processing\n",
      "15:24:00 - cmdstanpy - INFO - Chain [1] start processing\n",
      "15:24:00 - cmdstanpy - INFO - Chain [1] done processing\n",
      "15:24:04 - cmdstanpy - INFO - Chain [1] start processing\n",
      "15:24:04 - cmdstanpy - INFO - Chain [1] done processing\n",
      "15:24:08 - cmdstanpy - INFO - Chain [1] start processing\n",
      "15:24:08 - cmdstanpy - INFO - Chain [1] done processing\n",
      "15:24:12 - cmdstanpy - INFO - Chain [1] start processing\n",
      "15:24:13 - cmdstanpy - INFO - Chain [1] done processing\n",
      "15:24:17 - cmdstanpy - INFO - Chain [1] start processing\n",
      "15:24:17 - cmdstanpy - INFO - Chain [1] done processing\n",
      "15:24:22 - cmdstanpy - INFO - Chain [1] start processing\n",
      "15:24:22 - cmdstanpy - INFO - Chain [1] done processing\n",
      "15:24:27 - cmdstanpy - INFO - Chain [1] start processing\n",
      "15:24:27 - cmdstanpy - INFO - Chain [1] done processing\n",
      "15:24:32 - cmdstanpy - INFO - Chain [1] start processing\n",
      "15:24:32 - cmdstanpy - INFO - Chain [1] done processing\n"
     ]
    },
    {
     "name": "stdout",
     "output_type": "stream",
     "text": [
      "    changepoint_prior_scale  seasonality_prior_scale          rmse\n",
      "0                     0.001                    0.001  2.642523e+06\n",
      "1                     0.001                    0.100  2.370918e+06\n",
      "2                     0.001                    1.000  2.370474e+06\n",
      "3                     0.001                   10.000  2.370507e+06\n",
      "4                     0.010                    0.001  2.684467e+06\n",
      "5                     0.010                    0.100  2.404575e+06\n",
      "6                     0.010                    1.000  2.404126e+06\n",
      "7                     0.010                   10.000  2.404526e+06\n",
      "8                     0.100                    0.001  2.850140e+06\n",
      "9                     0.100                    0.100  2.435386e+06\n",
      "10                    0.100                    1.000  2.431265e+06\n",
      "11                    0.100                   10.000  2.432181e+06\n",
      "12                    0.500                    0.001  3.000371e+06\n",
      "13                    0.500                    0.100  2.628497e+06\n",
      "14                    0.500                    1.000  2.655025e+06\n",
      "15                    0.500                   10.000  2.641835e+06\n"
     ]
    }
   ],
   "source": [
    "param_grid = {  \n",
    "    'changepoint_prior_scale': [1e-3,0.01, 0.1, 0.5],\n",
    "    'seasonality_prior_scale': [1e-3,0.1, 1.0, 10.0],\n",
    "}\n",
    "\n",
    "# generate all combinations of parameters\n",
    "all_params = [dict(zip(param_grid.keys(), v)) for v in itertools.product(*param_grid.values())]\n",
    "rmses = []  # Store the RMSEs for each params here\n",
    "\n",
    "# cross validation model to evaluate all parameters\n",
    "for params in all_params:\n",
    "    m0 = Prophet(**params).fit(train_df0)\n",
    "    df_cv = cross_validation(m0, horizon='30 days', parallel=\"processes\")\n",
    "    df_p = performance_metrics(df_cv, rolling_window=1)\n",
    "    rmses.append(df_p['rmse'].values[0])\n",
    "\n",
    "# find the best parameters\n",
    "tuning_results = pd.DataFrame(all_params)\n",
    "tuning_results['rmse'] = rmses\n",
    "print(tuning_results)"
   ]
  },
  {
   "cell_type": "markdown",
   "metadata": {},
   "source": [
    "Based on test above we can get best param for our forecast model with changepoint_prior_scale = 1e-3 and seasonality_prior_scale = 1."
   ]
  },
  {
   "cell_type": "markdown",
   "metadata": {},
   "source": [
    "### Model Evaluate"
   ]
  },
  {
   "cell_type": "code",
   "execution_count": 86,
   "metadata": {},
   "outputs": [
    {
     "name": "stderr",
     "output_type": "stream",
     "text": [
      "15:30:32 - cmdstanpy - INFO - Chain [1] start processing\n",
      "15:30:32 - cmdstanpy - INFO - Chain [1] done processing\n"
     ]
    },
    {
     "data": {
      "text/html": [
       "<div>\n",
       "<style scoped>\n",
       "    .dataframe tbody tr th:only-of-type {\n",
       "        vertical-align: middle;\n",
       "    }\n",
       "\n",
       "    .dataframe tbody tr th {\n",
       "        vertical-align: top;\n",
       "    }\n",
       "\n",
       "    .dataframe thead th {\n",
       "        text-align: right;\n",
       "    }\n",
       "</style>\n",
       "<table border=\"1\" class=\"dataframe\">\n",
       "  <thead>\n",
       "    <tr style=\"text-align: right;\">\n",
       "      <th></th>\n",
       "      <th>horizon</th>\n",
       "      <th>mse</th>\n",
       "      <th>rmse</th>\n",
       "      <th>mae</th>\n",
       "      <th>mape</th>\n",
       "      <th>mdape</th>\n",
       "      <th>smape</th>\n",
       "      <th>coverage</th>\n",
       "    </tr>\n",
       "  </thead>\n",
       "  <tbody>\n",
       "    <tr>\n",
       "      <th>0</th>\n",
       "      <td>3 days</td>\n",
       "      <td>1.066656e+13</td>\n",
       "      <td>3.265971e+06</td>\n",
       "      <td>1.269447e+06</td>\n",
       "      <td>1.528817</td>\n",
       "      <td>0.784501</td>\n",
       "      <td>0.826345</td>\n",
       "      <td>0.913889</td>\n",
       "    </tr>\n",
       "    <tr>\n",
       "      <th>1</th>\n",
       "      <td>4 days</td>\n",
       "      <td>4.292733e+12</td>\n",
       "      <td>2.071891e+06</td>\n",
       "      <td>1.027010e+06</td>\n",
       "      <td>1.609727</td>\n",
       "      <td>0.781529</td>\n",
       "      <td>0.811557</td>\n",
       "      <td>0.926389</td>\n",
       "    </tr>\n",
       "    <tr>\n",
       "      <th>2</th>\n",
       "      <td>5 days</td>\n",
       "      <td>3.378289e+12</td>\n",
       "      <td>1.838012e+06</td>\n",
       "      <td>1.024156e+06</td>\n",
       "      <td>1.546770</td>\n",
       "      <td>0.949025</td>\n",
       "      <td>0.825742</td>\n",
       "      <td>0.925463</td>\n",
       "    </tr>\n",
       "    <tr>\n",
       "      <th>3</th>\n",
       "      <td>6 days</td>\n",
       "      <td>3.102128e+12</td>\n",
       "      <td>1.761286e+06</td>\n",
       "      <td>9.807955e+05</td>\n",
       "      <td>1.576985</td>\n",
       "      <td>0.910371</td>\n",
       "      <td>0.822406</td>\n",
       "      <td>0.925926</td>\n",
       "    </tr>\n",
       "    <tr>\n",
       "      <th>4</th>\n",
       "      <td>7 days</td>\n",
       "      <td>3.003895e+12</td>\n",
       "      <td>1.733175e+06</td>\n",
       "      <td>9.559501e+05</td>\n",
       "      <td>1.552215</td>\n",
       "      <td>0.846326</td>\n",
       "      <td>0.813671</td>\n",
       "      <td>0.926389</td>\n",
       "    </tr>\n",
       "    <tr>\n",
       "      <th>5</th>\n",
       "      <td>8 days</td>\n",
       "      <td>8.051101e+12</td>\n",
       "      <td>2.837446e+06</td>\n",
       "      <td>1.106873e+06</td>\n",
       "      <td>1.588128</td>\n",
       "      <td>0.814466</td>\n",
       "      <td>0.829893</td>\n",
       "      <td>0.937963</td>\n",
       "    </tr>\n",
       "    <tr>\n",
       "      <th>6</th>\n",
       "      <td>9 days</td>\n",
       "      <td>9.059265e+12</td>\n",
       "      <td>3.009861e+06</td>\n",
       "      <td>1.218055e+06</td>\n",
       "      <td>1.435750</td>\n",
       "      <td>0.802429</td>\n",
       "      <td>0.820266</td>\n",
       "      <td>0.913426</td>\n",
       "    </tr>\n",
       "    <tr>\n",
       "      <th>7</th>\n",
       "      <td>10 days</td>\n",
       "      <td>9.184187e+12</td>\n",
       "      <td>3.030542e+06</td>\n",
       "      <td>1.211314e+06</td>\n",
       "      <td>1.312474</td>\n",
       "      <td>0.793231</td>\n",
       "      <td>0.763310</td>\n",
       "      <td>0.913426</td>\n",
       "    </tr>\n",
       "    <tr>\n",
       "      <th>8</th>\n",
       "      <td>11 days</td>\n",
       "      <td>3.136628e+12</td>\n",
       "      <td>1.771053e+06</td>\n",
       "      <td>9.639520e+05</td>\n",
       "      <td>1.281975</td>\n",
       "      <td>0.776575</td>\n",
       "      <td>0.733410</td>\n",
       "      <td>0.913889</td>\n",
       "    </tr>\n",
       "    <tr>\n",
       "      <th>9</th>\n",
       "      <td>12 days</td>\n",
       "      <td>2.567960e+12</td>\n",
       "      <td>1.602486e+06</td>\n",
       "      <td>9.657937e+05</td>\n",
       "      <td>2.202419</td>\n",
       "      <td>0.981661</td>\n",
       "      <td>0.808360</td>\n",
       "      <td>0.900926</td>\n",
       "    </tr>\n",
       "    <tr>\n",
       "      <th>10</th>\n",
       "      <td>13 days</td>\n",
       "      <td>2.455950e+12</td>\n",
       "      <td>1.567147e+06</td>\n",
       "      <td>1.033333e+06</td>\n",
       "      <td>2.420661</td>\n",
       "      <td>1.228696</td>\n",
       "      <td>0.916799</td>\n",
       "      <td>0.875000</td>\n",
       "    </tr>\n",
       "    <tr>\n",
       "      <th>11</th>\n",
       "      <td>14 days</td>\n",
       "      <td>2.804853e+12</td>\n",
       "      <td>1.674769e+06</td>\n",
       "      <td>1.083608e+06</td>\n",
       "      <td>6.989910</td>\n",
       "      <td>1.424008</td>\n",
       "      <td>0.984093</td>\n",
       "      <td>0.887500</td>\n",
       "    </tr>\n",
       "    <tr>\n",
       "      <th>12</th>\n",
       "      <td>15 days</td>\n",
       "      <td>2.232543e+12</td>\n",
       "      <td>1.494170e+06</td>\n",
       "      <td>9.668727e+05</td>\n",
       "      <td>6.695209</td>\n",
       "      <td>1.424008</td>\n",
       "      <td>0.945186</td>\n",
       "      <td>0.912500</td>\n",
       "    </tr>\n",
       "    <tr>\n",
       "      <th>13</th>\n",
       "      <td>16 days</td>\n",
       "      <td>8.934298e+12</td>\n",
       "      <td>2.989030e+06</td>\n",
       "      <td>1.221177e+06</td>\n",
       "      <td>6.445646</td>\n",
       "      <td>1.271335</td>\n",
       "      <td>0.922877</td>\n",
       "      <td>0.912963</td>\n",
       "    </tr>\n",
       "    <tr>\n",
       "      <th>14</th>\n",
       "      <td>17 days</td>\n",
       "      <td>1.080985e+13</td>\n",
       "      <td>3.287833e+06</td>\n",
       "      <td>1.287102e+06</td>\n",
       "      <td>2.177423</td>\n",
       "      <td>0.894342</td>\n",
       "      <td>0.873148</td>\n",
       "      <td>0.888426</td>\n",
       "    </tr>\n",
       "    <tr>\n",
       "      <th>15</th>\n",
       "      <td>18 days</td>\n",
       "      <td>1.093844e+13</td>\n",
       "      <td>3.307332e+06</td>\n",
       "      <td>1.331539e+06</td>\n",
       "      <td>1.795547</td>\n",
       "      <td>0.837154</td>\n",
       "      <td>0.864446</td>\n",
       "      <td>0.889352</td>\n",
       "    </tr>\n",
       "    <tr>\n",
       "      <th>16</th>\n",
       "      <td>19 days</td>\n",
       "      <td>4.185372e+12</td>\n",
       "      <td>2.045818e+06</td>\n",
       "      <td>1.015503e+06</td>\n",
       "      <td>1.849151</td>\n",
       "      <td>0.819695</td>\n",
       "      <td>0.823624</td>\n",
       "      <td>0.926389</td>\n",
       "    </tr>\n",
       "    <tr>\n",
       "      <th>17</th>\n",
       "      <td>20 days</td>\n",
       "      <td>3.267356e+12</td>\n",
       "      <td>1.807583e+06</td>\n",
       "      <td>1.010150e+06</td>\n",
       "      <td>1.808969</td>\n",
       "      <td>0.992112</td>\n",
       "      <td>0.850207</td>\n",
       "      <td>0.938426</td>\n",
       "    </tr>\n",
       "    <tr>\n",
       "      <th>18</th>\n",
       "      <td>21 days</td>\n",
       "      <td>2.988771e+12</td>\n",
       "      <td>1.728806e+06</td>\n",
       "      <td>9.678125e+05</td>\n",
       "      <td>1.766702</td>\n",
       "      <td>1.175532</td>\n",
       "      <td>0.833883</td>\n",
       "      <td>0.950463</td>\n",
       "    </tr>\n",
       "    <tr>\n",
       "      <th>19</th>\n",
       "      <td>22 days</td>\n",
       "      <td>3.002660e+12</td>\n",
       "      <td>1.732818e+06</td>\n",
       "      <td>9.776499e+05</td>\n",
       "      <td>1.776686</td>\n",
       "      <td>1.168017</td>\n",
       "      <td>0.867399</td>\n",
       "      <td>0.938426</td>\n",
       "    </tr>\n",
       "    <tr>\n",
       "      <th>20</th>\n",
       "      <td>23 days</td>\n",
       "      <td>8.253938e+12</td>\n",
       "      <td>2.872967e+06</td>\n",
       "      <td>1.163441e+06</td>\n",
       "      <td>1.827107</td>\n",
       "      <td>1.168017</td>\n",
       "      <td>0.886997</td>\n",
       "      <td>0.937963</td>\n",
       "    </tr>\n",
       "    <tr>\n",
       "      <th>21</th>\n",
       "      <td>24 days</td>\n",
       "      <td>9.252483e+12</td>\n",
       "      <td>3.041789e+06</td>\n",
       "      <td>1.268826e+06</td>\n",
       "      <td>1.821125</td>\n",
       "      <td>1.124797</td>\n",
       "      <td>0.905064</td>\n",
       "      <td>0.913426</td>\n",
       "    </tr>\n",
       "    <tr>\n",
       "      <th>22</th>\n",
       "      <td>25 days</td>\n",
       "      <td>9.484916e+12</td>\n",
       "      <td>3.079759e+06</td>\n",
       "      <td>1.303914e+06</td>\n",
       "      <td>1.790208</td>\n",
       "      <td>1.079787</td>\n",
       "      <td>0.883197</td>\n",
       "      <td>0.913426</td>\n",
       "    </tr>\n",
       "    <tr>\n",
       "      <th>23</th>\n",
       "      <td>26 days</td>\n",
       "      <td>3.370087e+12</td>\n",
       "      <td>1.835780e+06</td>\n",
       "      <td>1.052930e+06</td>\n",
       "      <td>1.730048</td>\n",
       "      <td>1.117513</td>\n",
       "      <td>0.873700</td>\n",
       "      <td>0.913889</td>\n",
       "    </tr>\n",
       "    <tr>\n",
       "      <th>24</th>\n",
       "      <td>27 days</td>\n",
       "      <td>2.912728e+12</td>\n",
       "      <td>1.706672e+06</td>\n",
       "      <td>1.068853e+06</td>\n",
       "      <td>2.697002</td>\n",
       "      <td>1.337027</td>\n",
       "      <td>0.909338</td>\n",
       "      <td>0.913426</td>\n",
       "    </tr>\n",
       "    <tr>\n",
       "      <th>25</th>\n",
       "      <td>28 days</td>\n",
       "      <td>2.760693e+12</td>\n",
       "      <td>1.661533e+06</td>\n",
       "      <td>1.112507e+06</td>\n",
       "      <td>2.882849</td>\n",
       "      <td>1.550442</td>\n",
       "      <td>0.966580</td>\n",
       "      <td>0.887500</td>\n",
       "    </tr>\n",
       "    <tr>\n",
       "      <th>26</th>\n",
       "      <td>29 days</td>\n",
       "      <td>3.009506e+12</td>\n",
       "      <td>1.734793e+06</td>\n",
       "      <td>1.131929e+06</td>\n",
       "      <td>8.659649</td>\n",
       "      <td>1.749333</td>\n",
       "      <td>0.994442</td>\n",
       "      <td>0.887500</td>\n",
       "    </tr>\n",
       "    <tr>\n",
       "      <th>27</th>\n",
       "      <td>30 days</td>\n",
       "      <td>2.245307e+12</td>\n",
       "      <td>1.498435e+06</td>\n",
       "      <td>9.768363e+05</td>\n",
       "      <td>8.751262</td>\n",
       "      <td>1.732993</td>\n",
       "      <td>0.965120</td>\n",
       "      <td>0.900000</td>\n",
       "    </tr>\n",
       "  </tbody>\n",
       "</table>\n",
       "</div>"
      ],
      "text/plain": [
       "   horizon           mse          rmse           mae      mape     mdape  \\\n",
       "0   3 days  1.066656e+13  3.265971e+06  1.269447e+06  1.528817  0.784501   \n",
       "1   4 days  4.292733e+12  2.071891e+06  1.027010e+06  1.609727  0.781529   \n",
       "2   5 days  3.378289e+12  1.838012e+06  1.024156e+06  1.546770  0.949025   \n",
       "3   6 days  3.102128e+12  1.761286e+06  9.807955e+05  1.576985  0.910371   \n",
       "4   7 days  3.003895e+12  1.733175e+06  9.559501e+05  1.552215  0.846326   \n",
       "5   8 days  8.051101e+12  2.837446e+06  1.106873e+06  1.588128  0.814466   \n",
       "6   9 days  9.059265e+12  3.009861e+06  1.218055e+06  1.435750  0.802429   \n",
       "7  10 days  9.184187e+12  3.030542e+06  1.211314e+06  1.312474  0.793231   \n",
       "8  11 days  3.136628e+12  1.771053e+06  9.639520e+05  1.281975  0.776575   \n",
       "9  12 days  2.567960e+12  1.602486e+06  9.657937e+05  2.202419  0.981661   \n",
       "10 13 days  2.455950e+12  1.567147e+06  1.033333e+06  2.420661  1.228696   \n",
       "11 14 days  2.804853e+12  1.674769e+06  1.083608e+06  6.989910  1.424008   \n",
       "12 15 days  2.232543e+12  1.494170e+06  9.668727e+05  6.695209  1.424008   \n",
       "13 16 days  8.934298e+12  2.989030e+06  1.221177e+06  6.445646  1.271335   \n",
       "14 17 days  1.080985e+13  3.287833e+06  1.287102e+06  2.177423  0.894342   \n",
       "15 18 days  1.093844e+13  3.307332e+06  1.331539e+06  1.795547  0.837154   \n",
       "16 19 days  4.185372e+12  2.045818e+06  1.015503e+06  1.849151  0.819695   \n",
       "17 20 days  3.267356e+12  1.807583e+06  1.010150e+06  1.808969  0.992112   \n",
       "18 21 days  2.988771e+12  1.728806e+06  9.678125e+05  1.766702  1.175532   \n",
       "19 22 days  3.002660e+12  1.732818e+06  9.776499e+05  1.776686  1.168017   \n",
       "20 23 days  8.253938e+12  2.872967e+06  1.163441e+06  1.827107  1.168017   \n",
       "21 24 days  9.252483e+12  3.041789e+06  1.268826e+06  1.821125  1.124797   \n",
       "22 25 days  9.484916e+12  3.079759e+06  1.303914e+06  1.790208  1.079787   \n",
       "23 26 days  3.370087e+12  1.835780e+06  1.052930e+06  1.730048  1.117513   \n",
       "24 27 days  2.912728e+12  1.706672e+06  1.068853e+06  2.697002  1.337027   \n",
       "25 28 days  2.760693e+12  1.661533e+06  1.112507e+06  2.882849  1.550442   \n",
       "26 29 days  3.009506e+12  1.734793e+06  1.131929e+06  8.659649  1.749333   \n",
       "27 30 days  2.245307e+12  1.498435e+06  9.768363e+05  8.751262  1.732993   \n",
       "\n",
       "       smape  coverage  \n",
       "0   0.826345  0.913889  \n",
       "1   0.811557  0.926389  \n",
       "2   0.825742  0.925463  \n",
       "3   0.822406  0.925926  \n",
       "4   0.813671  0.926389  \n",
       "5   0.829893  0.937963  \n",
       "6   0.820266  0.913426  \n",
       "7   0.763310  0.913426  \n",
       "8   0.733410  0.913889  \n",
       "9   0.808360  0.900926  \n",
       "10  0.916799  0.875000  \n",
       "11  0.984093  0.887500  \n",
       "12  0.945186  0.912500  \n",
       "13  0.922877  0.912963  \n",
       "14  0.873148  0.888426  \n",
       "15  0.864446  0.889352  \n",
       "16  0.823624  0.926389  \n",
       "17  0.850207  0.938426  \n",
       "18  0.833883  0.950463  \n",
       "19  0.867399  0.938426  \n",
       "20  0.886997  0.937963  \n",
       "21  0.905064  0.913426  \n",
       "22  0.883197  0.913426  \n",
       "23  0.873700  0.913889  \n",
       "24  0.909338  0.913426  \n",
       "25  0.966580  0.887500  \n",
       "26  0.994442  0.887500  \n",
       "27  0.965120  0.900000  "
      ]
     },
     "execution_count": 86,
     "metadata": {},
     "output_type": "execute_result"
    }
   ],
   "source": [
    "m0 = m0 = Prophet(changepoint_prior_scale=1e-3, seasonality_prior_scale=1).fit(train_df0)\n",
    "cv = cross_validation(m0, horizon = '30 days', parallel=\"processes\")\n",
    "df_p = performance_metrics(cv)\n",
    "df_p"
   ]
  },
  {
   "cell_type": "code",
   "execution_count": 87,
   "metadata": {},
   "outputs": [
    {
     "data": {
      "image/png": "[encoded data removed]",
      "text/plain": [
       "<Figure size 1000x600 with 1 Axes>"
      ]
     },
     "metadata": {},
     "output_type": "display_data"
    }
   ],
   "source": [
    "fig = plot_cross_validation_metric(cv, metric='rmse')"
   ]
  },
  {
   "cell_type": "markdown",
   "metadata": {},
   "source": [
    "## Problem 2: Classify Payment Status"
   ]
  },
  {
   "cell_type": "markdown",
   "metadata": {},
   "source": [
    "### Define Train Data"
   ]
  },
  {
   "cell_type": "code",
   "execution_count": 88,
   "metadata": {},
   "outputs": [
    {
     "name": "stdout",
     "output_type": "stream",
     "text": [
      "+-------+--------------+----------+------+-----------+-----------+-----------------+--------------+---------+--------------+-----------+--------------+-------------+\n",
      "|item_id|        status|created_at| price|qty_ordered|grand_total|         category|payment_method|bi_status|customer_since|customer_id|payment_status|is_discounted|\n",
      "+-------+--------------+----------+------+-----------+-----------+-----------------+--------------+---------+--------------+-----------+--------------+-------------+\n",
      "| 211510|      complete|2016-07-01| 120.0|          1|      360.0|Beauty & Grooming|           cod|      Net|    2016-07-01|         13|          pass|            0|\n",
      "| 212050|      complete|2016-07-02|6240.0|          1|        0.0|       Appliances| productcredit|      Net|    2016-07-01|        271|          pass|            0|\n",
      "| 212104|order_refunded|2016-07-03|6700.0|          1|     6700.0|Mobiles & Tablets|           cod|    Valid|    2016-07-01|        321|          pass|            0|\n",
      "| 212183|      complete|2016-07-03|  90.0|          1|       90.0|          Soghaat|           cod|      Net|    2016-07-01|        341|          pass|            0|\n",
      "| 212443|      complete|2016-07-04| 250.0|          1|      250.0|Beauty & Grooming|           cod|      Net|    2016-07-01|         43|          pass|            0|\n",
      "+-------+--------------+----------+------+-----------+-----------+-----------------+--------------+---------+--------------+-----------+--------------+-------------+\n",
      "only showing top 5 rows\n",
      "\n"
     ]
    }
   ],
   "source": [
    "# df.show(5)"
   ]
  },
  {
   "cell_type": "code",
   "execution_count": 89,
   "metadata": {},
   "outputs": [],
   "source": [
    "train_df2 = df.select('created_at','item_id','category','qty_ordered','is_discounted','grand_total','payment_method','bi_status','payment_status','customer_id','customer_since')"
   ]
  },
  {
   "cell_type": "code",
   "execution_count": 90,
   "metadata": {},
   "outputs": [
    {
     "name": "stdout",
     "output_type": "stream",
     "text": [
      "+----------+-------+-----------------+-----------+-------------+-----------+--------------+---------+--------------+-----------+--------------+\n",
      "|created_at|item_id|         category|qty_ordered|is_discounted|grand_total|payment_method|bi_status|payment_status|customer_id|customer_since|\n",
      "+----------+-------+-----------------+-----------+-------------+-----------+--------------+---------+--------------+-----------+--------------+\n",
      "|2016-07-01| 211510|Beauty & Grooming|          1|            0|      360.0|           cod|      Net|          pass|         13|    2016-07-01|\n",
      "|2016-07-02| 212050|       Appliances|          1|            0|        0.0| productcredit|      Net|          pass|        271|    2016-07-01|\n",
      "|2016-07-03| 212104|Mobiles & Tablets|          1|            0|     6700.0|           cod|    Valid|          pass|        321|    2016-07-01|\n",
      "|2016-07-03| 212183|          Soghaat|          1|            0|       90.0|           cod|      Net|          pass|        341|    2016-07-01|\n",
      "|2016-07-04| 212443|Beauty & Grooming|          1|            0|      250.0|           cod|      Net|          pass|         43|    2016-07-01|\n",
      "+----------+-------+-----------------+-----------+-------------+-----------+--------------+---------+--------------+-----------+--------------+\n",
      "only showing top 5 rows\n",
      "\n"
     ]
    }
   ],
   "source": [
    "train_df2.show(5)"
   ]
  },
  {
   "cell_type": "markdown",
   "metadata": {},
   "source": [
    "### Preprocessing Data"
   ]
  },
  {
   "cell_type": "code",
   "execution_count": 91,
   "metadata": {},
   "outputs": [],
   "source": [
    "# convert date type data to unix timestamp\n",
    "train_df2 = train_df2.withColumn('created_at',F.unix_date('created_at'))\n",
    "train_df2 = train_df2.withColumn('customer_since',F.unix_date('customer_since'))"
   ]
  },
  {
   "cell_type": "code",
   "execution_count": 92,
   "metadata": {},
   "outputs": [],
   "source": [
    "# encode categorical data\n",
    "from pyspark.ml.feature import OneHotEncoder, StringIndexer, VectorAssembler\n"
   ]
  },
  {
   "cell_type": "code",
   "execution_count": 93,
   "metadata": {},
   "outputs": [],
   "source": [
    "input_col = ['created_at','category','payment_method', 'bi_status', 'customer_since']"
   ]
  },
  {
   "cell_type": "code",
   "execution_count": 95,
   "metadata": {},
   "outputs": [],
   "source": [
    "output_col = [c+'_idx' for c in input_col]\n",
    "indexer = StringIndexer(inputCols=input_col, outputCols=output_col).setHandleInvalid(\"skip\")"
   ]
  },
  {
   "cell_type": "code",
   "execution_count": 96,
   "metadata": {},
   "outputs": [],
   "source": [
    "idx_col = [c+'_idx' for c in input_col] + ['is_discounted']\n",
    "output_col = [c+'_dummy' for c in input_col] + ['is_discounted_dummy']\n",
    "ohe = OneHotEncoder(inputCols=idx_col, outputCols=output_col)"
   ]
  },
  {
   "cell_type": "code",
   "execution_count": 97,
   "metadata": {},
   "outputs": [],
   "source": [
    "feature_col = ['qty_ordered','grand_total','is_discounted_dummy'] + [c+'_dummy' for c in input_col if c != 'payment_status']\n",
    "assembler = VectorAssembler(inputCols=feature_col, outputCol='features')"
   ]
  },
  {
   "cell_type": "markdown",
   "metadata": {},
   "source": [
    "### Split Data"
   ]
  },
  {
   "cell_type": "code",
   "execution_count": 98,
   "metadata": {},
   "outputs": [],
   "source": [
    "# define target column\n",
    "train_df2 = train_df2.withColumn('label', F.when(train_df2.payment_status == 'pass', 0)\n",
    "                                        .when(train_df2.payment_status == 'pending', 1)\n",
    "                                        .otherwise(2)\n",
    "                                    )"
   ]
  },
  {
   "cell_type": "code",
   "execution_count": 99,
   "metadata": {},
   "outputs": [
    {
     "name": "stdout",
     "output_type": "stream",
     "text": [
      "396764\n",
      "98896\n"
     ]
    }
   ],
   "source": [
    "\n",
    "# split dataframes by payment_status\n",
    "tmp = train_df2.filter(train_df2['label']==0)\n",
    "tmp1 = train_df2.filter(train_df2['label']==1)\n",
    "tmp2 = train_df2.filter(train_df2['label']==2)\n",
    "\n",
    "# split datasets into training and testing\n",
    "train0, test0 = tmp.randomSplit([0.8,0.2], seed=1)\n",
    "train1, test1 = tmp1.randomSplit([0.8,0.2], seed=1)\n",
    "train2, test2 = tmp2.randomSplit([0.7,0.3], seed=1)\n",
    "# stack datasets back together\n",
    "X_train = train0.union(train1)\n",
    "X_train = X_train.union(train2)\n",
    "X_test = test0.union(test1)\n",
    "X_test = X_test.union(test2)\n",
    "\n",
    "print(X_train.count())\n",
    "print(X_test.count())"
   ]
  },
  {
   "cell_type": "code",
   "execution_count": 100,
   "metadata": {},
   "outputs": [
    {
     "name": "stdout",
     "output_type": "stream",
     "text": [
      "+-----+------+\n",
      "|label| count|\n",
      "+-----+------+\n",
      "|    0|394488|\n",
      "|    1|  2268|\n",
      "|    2|     8|\n",
      "+-----+------+\n",
      "\n",
      "+-----+-----+\n",
      "|label|count|\n",
      "+-----+-----+\n",
      "|    0|98337|\n",
      "|    1|  557|\n",
      "|    2|    2|\n",
      "+-----+-----+\n",
      "\n"
     ]
    }
   ],
   "source": [
    "X_train.groupBy('label').count().show()\n",
    "X_test.groupBy('label').count().show()"
   ]
  },
  {
   "cell_type": "markdown",
   "metadata": {},
   "source": [
    "### Find Best Model"
   ]
  },
  {
   "cell_type": "code",
   "execution_count": 101,
   "metadata": {},
   "outputs": [],
   "source": [
    "from pyspark.ml.classification import DecisionTreeClassifier, GBTClassifier, RandomForestClassifier\n",
    "from pyspark.ml.tuning import CrossValidator, ParamGridBuilder\n",
    "from pyspark.ml import Pipeline\n",
    "from pyspark.ml.evaluation import MulticlassClassificationEvaluator\n",
    "from pyspark.mllib.evaluation import MulticlassMetrics"
   ]
  },
  {
   "cell_type": "code",
   "execution_count": 102,
   "metadata": {},
   "outputs": [],
   "source": [
    "# default Decision Tree Classifier model\n",
    "est = DecisionTreeClassifier()\n",
    "pipe = Pipeline(stages=[indexer, ohe, assembler, est])\n",
    "params = ParamGridBuilder().build()\n",
    "eval = MulticlassClassificationEvaluator()\n",
    "cv = CrossValidator(estimator=pipe, estimatorParamMaps=params, evaluator=eval, numFolds=3, seed=1)"
   ]
  },
  {
   "cell_type": "code",
   "execution_count": 103,
   "metadata": {},
   "outputs": [
    {
     "data": {
      "text/plain": [
       "[0.9928835998242135]"
      ]
     },
     "execution_count": 103,
     "metadata": {},
     "output_type": "execute_result"
    }
   ],
   "source": [
    "cv = cv.fit(X_train)\n",
    "# avg F1 Score for best model\n",
    "cv.avgMetrics"
   ]
  },
  {
   "cell_type": "code",
   "execution_count": 104,
   "metadata": {},
   "outputs": [],
   "source": [
    "# default Random Forest Classifier model\n",
    "est = RandomForestClassifier()\n",
    "pipe = Pipeline(stages=[indexer, ohe, assembler, est])\n",
    "params = ParamGridBuilder().build()\n",
    "eval = MulticlassClassificationEvaluator()\n",
    "cv = CrossValidator(estimator=pipe, estimatorParamMaps=params, evaluator=eval, numFolds=3, seed=1)"
   ]
  },
  {
   "cell_type": "code",
   "execution_count": 105,
   "metadata": {},
   "outputs": [
    {
     "data": {
      "text/plain": [
       "[0.9914036627072395]"
      ]
     },
     "execution_count": 105,
     "metadata": {},
     "output_type": "execute_result"
    }
   ],
   "source": [
    "cv = cv.fit(X_train)\n",
    "# avg F1 Score for best model\n",
    "cv.avgMetrics"
   ]
  },
  {
   "cell_type": "markdown",
   "metadata": {},
   "source": [
    "Based on initial test above we can see that Decision Tree model have slightly higher accuracy than Random Forest model. It's because the Random Forest model use several tree model to predict, resulting in accuracy values that represent the average across all trees. <br><br>\n",
    "\n",
    "Even though Random Forest have lower score, it's a stronger choice because it combines the results of many trees so we can avoid overfitting. So we will choose this model instead."
   ]
  },
  {
   "cell_type": "markdown",
   "metadata": {},
   "source": [
    "### Best Model Evaluation"
   ]
  },
  {
   "cell_type": "code",
   "execution_count": 117,
   "metadata": {},
   "outputs": [
    {
     "name": "stdout",
     "output_type": "stream",
     "text": [
      "0.9887271446065649\n",
      "0.9943475974761365\n"
     ]
    }
   ],
   "source": [
    "pred = cv.transform(X_test)\n",
    "print(eval.evaluate(pred, {eval.metricName: 'weightedPrecision'}))\n",
    "print(eval.evaluate(pred, {eval.metricName: 'weightedRecall'}))"
   ]
  },
  {
   "cell_type": "markdown",
   "metadata": {},
   "source": [
    "It can be concluded that Random Forest model can classify payment statusvery well with F1, Precision, and Recall scores of 0.991, 0.988, and 0.994, respectively. <br><br>\n"
   ]
  }
 ],
 "metadata": {
  "kernelspec": {
   "display_name": "airflow",
   "language": "python",
   "name": "python3"
  },
  "language_info": {
   "codemirror_mode": {
    "name": "ipython",
    "version": 3
   },
   "file_extension": ".py",
   "mimetype": "text/x-python",
   "name": "python",
   "nbconvert_exporter": "python",
   "pygments_lexer": "ipython3",
   "version": "3.10.13"
  }
 },
 "nbformat": 4,
 "nbformat_minor": 2
}
