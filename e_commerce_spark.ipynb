{
 "cells": [
  {
   "cell_type": "markdown",
   "metadata": {},
   "source": [
    "# E-commerce Machine Learning\n"
   ]
  },
  {
   "cell_type": "code",
   "execution_count": 43,
   "metadata": {},
   "outputs": [],
   "source": [
    "import pandas as pd\n",
    "from pyspark.sql import SparkSession\n",
    "import matplotlib.pyplot as plt\n",
    "import numpy as np\n",
    "import seaborn as sns"
   ]
  },
  {
   "cell_type": "markdown",
   "metadata": {},
   "source": [
    "## Spark Session Initiate"
   ]
  },
  {
   "cell_type": "code",
   "execution_count": 2,
   "metadata": {},
   "outputs": [
    {
     "data": {
      "text/html": [
       "\n",
       "            <div>\n",
       "                <p><b>SparkSession - in-memory</b></p>\n",
       "                \n",
       "        <div>\n",
       "            <p><b>SparkContext</b></p>\n",
       "\n",
       "            <p><a href=\"http://host.docker.internal:4040\">Spark UI</a></p>\n",
       "\n",
       "            <dl>\n",
       "              <dt>Version</dt>\n",
       "                <dd><code>v3.5.0</code></dd>\n",
       "              <dt>Master</dt>\n",
       "                <dd><code>local[6]</code></dd>\n",
       "              <dt>AppName</dt>\n",
       "                <dd><code>ecommerce</code></dd>\n",
       "            </dl>\n",
       "        </div>\n",
       "        \n",
       "            </div>\n",
       "        "
      ],
      "text/plain": [
       "<pyspark.sql.session.SparkSession at 0x1ef5f578d90>"
      ]
     },
     "execution_count": 2,
     "metadata": {},
     "output_type": "execute_result"
    }
   ],
   "source": [
    "spark = SparkSession.builder.master('local[6]')\\\n",
    "                            .appName('ecommerce')\\\n",
    "                            .getOrCreate()\n",
    "spark"
   ]
  },
  {
   "cell_type": "code",
   "execution_count": 3,
   "metadata": {},
   "outputs": [],
   "source": [
    "# spark.stop()"
   ]
  },
  {
   "cell_type": "markdown",
   "metadata": {},
   "source": [
    "## Load Dataset\n",
    "Source : [Pakistan E-commerce Dataset](https://www.kaggle.com/datasets/zusmani/pakistans-largest-ecommerce-dataset/data)"
   ]
  },
  {
   "cell_type": "code",
   "execution_count": 4,
   "metadata": {},
   "outputs": [],
   "source": [
    "from pyspark.sql.types import StructType, StructField, IntegerType, StringType, FloatType"
   ]
  },
  {
   "cell_type": "code",
   "execution_count": 5,
   "metadata": {},
   "outputs": [],
   "source": [
    "# define dataframe schema\n",
    "schema = StructType([\n",
    "    StructField('item_id', IntegerType(), True),\n",
    "    StructField('status', StringType(), True),\n",
    "    StructField('created_at', StringType(), True),\n",
    "    StructField('sku', StringType(), True),\n",
    "    StructField('price', FloatType(), True),\n",
    "    StructField('qty_ordered', IntegerType(), True),\n",
    "    StructField('grand_total', FloatType(), True),\n",
    "    StructField('increment_id', IntegerType(), True),\n",
    "    StructField('category_name_1', StringType(), True),\n",
    "    StructField('sales_commission_code', StringType(), True),\n",
    "    StructField('discount_amount', FloatType(), True),\n",
    "    StructField('payment_method', StringType(), True),\n",
    "    StructField('working_date', StringType(), True),\n",
    "    StructField('BI Status', StringType(), True),\n",
    "    StructField(' MV', StringType(), True),\n",
    "    StructField('Year', StringType(), True),\n",
    "    StructField('Month', StringType(), True),\n",
    "    StructField('Customer Since', StringType(), True),\n",
    "    StructField('M-Y', StringType(), True),\n",
    "    StructField('F-Y', StringType(), True),\n",
    "    StructField('Customer ID', StringType(), True),\n",
    "    # ignore last 5 column data because it's empty column\n",
    "])"
   ]
  },
  {
   "cell_type": "code",
   "execution_count": 6,
   "metadata": {},
   "outputs": [],
   "source": [
    "# tmp = pd.read_csv('./dataset/Pakistan Largest Ecommerce Dataset.csv')\n",
    "# tmp.info()"
   ]
  },
  {
   "cell_type": "code",
   "execution_count": 7,
   "metadata": {},
   "outputs": [
    {
     "name": "stdout",
     "output_type": "stream",
     "text": [
      "root\n",
      " |-- item_id: integer (nullable = true)\n",
      " |-- status: string (nullable = true)\n",
      " |-- created_at: string (nullable = true)\n",
      " |-- sku: string (nullable = true)\n",
      " |-- price: float (nullable = true)\n",
      " |-- qty_ordered: integer (nullable = true)\n",
      " |-- grand_total: float (nullable = true)\n",
      " |-- increment_id: integer (nullable = true)\n",
      " |-- category_name_1: string (nullable = true)\n",
      " |-- sales_commission_code: string (nullable = true)\n",
      " |-- discount_amount: float (nullable = true)\n",
      " |-- payment_method: string (nullable = true)\n",
      " |-- working_date: string (nullable = true)\n",
      " |-- BI Status: string (nullable = true)\n",
      " |--  MV: string (nullable = true)\n",
      " |-- Year: string (nullable = true)\n",
      " |-- Month: string (nullable = true)\n",
      " |-- Customer Since: string (nullable = true)\n",
      " |-- M-Y: string (nullable = true)\n",
      " |-- F-Y: string (nullable = true)\n",
      " |-- Customer ID: string (nullable = true)\n",
      "\n",
      "+-------+--------------+----------+--------------------+------+-----------+-----------+------------+-----------------+---------------------+---------------+--------------+------------+---------+-------+----+-----+--------------+------+----+-----------+\n",
      "|item_id|        status|created_at|                 sku| price|qty_ordered|grand_total|increment_id|  category_name_1|sales_commission_code|discount_amount|payment_method|working_date|BI Status|     MV|Year|Month|Customer Since|   M-Y| F-Y|Customer ID|\n",
      "+-------+--------------+----------+--------------------+------+-----------+-----------+------------+-----------------+---------------------+---------------+--------------+------------+---------+-------+----+-----+--------------+------+----+-----------+\n",
      "| 211131|      complete|  7/1/2016|   kreations_YI 06-L|1950.0|          1|     1950.0|   100147443|  Women's Fashion|                   \\N|            0.0|           cod|    7/1/2016|    #REF!| 1,950 |2016|    7|        2016-7|7-2016|FY17|          1|\n",
      "| 211133|      canceled|  7/1/2016|kcc_Buy 2 Frey Ai...| 240.0|          1|      240.0|   100147444|Beauty & Grooming|                   \\N|            0.0|           cod|    7/1/2016|    Gross|   240 |2016|    7|        2016-7|7-2016|FY17|          2|\n",
      "| 211134|      canceled|  7/1/2016|  Ego_UP0017-999-MR0|2450.0|          1|     2450.0|   100147445|  Women's Fashion|                   \\N|            0.0|           cod|    7/1/2016|    Gross| 2,450 |2016|    7|        2016-7|7-2016|FY17|          3|\n",
      "| 211135|      complete|  7/1/2016|      kcc_krone deal| 360.0|          1|       60.0|   100147446|Beauty & Grooming|          R-FSD-52352|          300.0|           cod|    7/1/2016|      Net|   360 |2016|    7|        2016-7|7-2016|FY17|          4|\n",
      "| 211136|order_refunded|  7/1/2016|         BK7010400AG| 555.0|          2|     1110.0|   100147447|          Soghaat|                   \\N|            0.0|           cod|    7/1/2016|    Valid| 1,110 |2016|    7|        2016-7|7-2016|FY17|          5|\n",
      "+-------+--------------+----------+--------------------+------+-----------+-----------+------------+-----------------+---------------------+---------------+--------------+------------+---------+-------+----+-----+--------------+------+----+-----------+\n",
      "only showing top 5 rows\n",
      "\n"
     ]
    }
   ],
   "source": [
    "df = spark.read.csv('./dataset/Pakistan Largest Ecommerce Dataset.csv', header=True, schema=schema)\n",
    "df.printSchema()\n",
    "df.show(5)"
   ]
  },
  {
   "cell_type": "code",
   "execution_count": 8,
   "metadata": {},
   "outputs": [
    {
     "data": {
      "text/html": [
       "<div>\n",
       "<style scoped>\n",
       "    .dataframe tbody tr th:only-of-type {\n",
       "        vertical-align: middle;\n",
       "    }\n",
       "\n",
       "    .dataframe tbody tr th {\n",
       "        vertical-align: top;\n",
       "    }\n",
       "\n",
       "    .dataframe thead th {\n",
       "        text-align: right;\n",
       "    }\n",
       "</style>\n",
       "<table border=\"1\" class=\"dataframe\">\n",
       "  <thead>\n",
       "    <tr style=\"text-align: right;\">\n",
       "      <th></th>\n",
       "      <th>count</th>\n",
       "      <th>unique</th>\n",
       "      <th>top</th>\n",
       "      <th>freq</th>\n",
       "      <th>mean</th>\n",
       "      <th>std</th>\n",
       "      <th>min</th>\n",
       "      <th>25%</th>\n",
       "      <th>50%</th>\n",
       "      <th>75%</th>\n",
       "      <th>max</th>\n",
       "    </tr>\n",
       "  </thead>\n",
       "  <tbody>\n",
       "    <tr>\n",
       "      <th>item_id</th>\n",
       "      <td>584524.0</td>\n",
       "      <td>NaN</td>\n",
       "      <td>NaN</td>\n",
       "      <td>NaN</td>\n",
       "      <td>565667.074218</td>\n",
       "      <td>200121.173648</td>\n",
       "      <td>211131.0</td>\n",
       "      <td>395000.75</td>\n",
       "      <td>568424.5</td>\n",
       "      <td>739106.25</td>\n",
       "      <td>905208.0</td>\n",
       "    </tr>\n",
       "    <tr>\n",
       "      <th>status</th>\n",
       "      <td>584520</td>\n",
       "      <td>19</td>\n",
       "      <td>complete</td>\n",
       "      <td>233685</td>\n",
       "      <td>NaN</td>\n",
       "      <td>NaN</td>\n",
       "      <td>NaN</td>\n",
       "      <td>NaN</td>\n",
       "      <td>NaN</td>\n",
       "      <td>NaN</td>\n",
       "      <td>NaN</td>\n",
       "    </tr>\n",
       "    <tr>\n",
       "      <th>created_at</th>\n",
       "      <td>584535</td>\n",
       "      <td>790</td>\n",
       "      <td>11/25/2016</td>\n",
       "      <td>15169</td>\n",
       "      <td>NaN</td>\n",
       "      <td>NaN</td>\n",
       "      <td>NaN</td>\n",
       "      <td>NaN</td>\n",
       "      <td>NaN</td>\n",
       "      <td>NaN</td>\n",
       "      <td>NaN</td>\n",
       "    </tr>\n",
       "    <tr>\n",
       "      <th>sku</th>\n",
       "      <td>584515</td>\n",
       "      <td>84897</td>\n",
       "      <td>MATSAM59DB75ADB2F80</td>\n",
       "      <td>3775</td>\n",
       "      <td>NaN</td>\n",
       "      <td>NaN</td>\n",
       "      <td>NaN</td>\n",
       "      <td>NaN</td>\n",
       "      <td>NaN</td>\n",
       "      <td>NaN</td>\n",
       "      <td>NaN</td>\n",
       "    </tr>\n",
       "    <tr>\n",
       "      <th>price</th>\n",
       "      <td>584524.0</td>\n",
       "      <td>NaN</td>\n",
       "      <td>NaN</td>\n",
       "      <td>NaN</td>\n",
       "      <td>8236.0625</td>\n",
       "      <td>435291.6875</td>\n",
       "      <td>0.0</td>\n",
       "      <td>360.0</td>\n",
       "      <td>899.0</td>\n",
       "      <td>4070.0</td>\n",
       "      <td>100348152.0</td>\n",
       "    </tr>\n",
       "    <tr>\n",
       "      <th>qty_ordered</th>\n",
       "      <td>584513.0</td>\n",
       "      <td>NaN</td>\n",
       "      <td>NaN</td>\n",
       "      <td>NaN</td>\n",
       "      <td>1.296394</td>\n",
       "      <td>3.996098</td>\n",
       "      <td>1.0</td>\n",
       "      <td>1.0</td>\n",
       "      <td>1.0</td>\n",
       "      <td>1.0</td>\n",
       "      <td>1000.0</td>\n",
       "    </tr>\n",
       "    <tr>\n",
       "      <th>grand_total</th>\n",
       "      <td>584513.0</td>\n",
       "      <td>NaN</td>\n",
       "      <td>NaN</td>\n",
       "      <td>NaN</td>\n",
       "      <td>8530.706055</td>\n",
       "      <td>61321.390625</td>\n",
       "      <td>-1594.0</td>\n",
       "      <td>945.0</td>\n",
       "      <td>1960.199951</td>\n",
       "      <td>6999.0</td>\n",
       "      <td>17888000.0</td>\n",
       "    </tr>\n",
       "    <tr>\n",
       "      <th>increment_id</th>\n",
       "      <td>584512.0</td>\n",
       "      <td>NaN</td>\n",
       "      <td>NaN</td>\n",
       "      <td>NaN</td>\n",
       "      <td>100355601.703919</td>\n",
       "      <td>388757.583304</td>\n",
       "      <td>0.0</td>\n",
       "      <td>100264561.75</td>\n",
       "      <td>100351163.5</td>\n",
       "      <td>100450243.25</td>\n",
       "      <td>100562387.0</td>\n",
       "    </tr>\n",
       "    <tr>\n",
       "      <th>category_name_1</th>\n",
       "      <td>584360</td>\n",
       "      <td>18</td>\n",
       "      <td>Mobiles &amp; Tablets</td>\n",
       "      <td>115710</td>\n",
       "      <td>NaN</td>\n",
       "      <td>NaN</td>\n",
       "      <td>NaN</td>\n",
       "      <td>NaN</td>\n",
       "      <td>NaN</td>\n",
       "      <td>NaN</td>\n",
       "      <td>NaN</td>\n",
       "    </tr>\n",
       "    <tr>\n",
       "      <th>sales_commission_code</th>\n",
       "      <td>447353</td>\n",
       "      <td>7236</td>\n",
       "      <td>\\N</td>\n",
       "      <td>338990</td>\n",
       "      <td>NaN</td>\n",
       "      <td>NaN</td>\n",
       "      <td>NaN</td>\n",
       "      <td>NaN</td>\n",
       "      <td>NaN</td>\n",
       "      <td>NaN</td>\n",
       "      <td>NaN</td>\n",
       "    </tr>\n",
       "    <tr>\n",
       "      <th>discount_amount</th>\n",
       "      <td>584513.0</td>\n",
       "      <td>NaN</td>\n",
       "      <td>NaN</td>\n",
       "      <td>NaN</td>\n",
       "      <td>499.497559</td>\n",
       "      <td>1506.954468</td>\n",
       "      <td>-599.5</td>\n",
       "      <td>0.0</td>\n",
       "      <td>0.0</td>\n",
       "      <td>160.5</td>\n",
       "      <td>90300.0</td>\n",
       "    </tr>\n",
       "    <tr>\n",
       "      <th>payment_method</th>\n",
       "      <td>584524</td>\n",
       "      <td>21</td>\n",
       "      <td>cod</td>\n",
       "      <td>271953</td>\n",
       "      <td>NaN</td>\n",
       "      <td>NaN</td>\n",
       "      <td>NaN</td>\n",
       "      <td>NaN</td>\n",
       "      <td>NaN</td>\n",
       "      <td>NaN</td>\n",
       "      <td>NaN</td>\n",
       "    </tr>\n",
       "    <tr>\n",
       "      <th>working_date</th>\n",
       "      <td>584524</td>\n",
       "      <td>791</td>\n",
       "      <td>11/25/2016</td>\n",
       "      <td>15169</td>\n",
       "      <td>NaN</td>\n",
       "      <td>NaN</td>\n",
       "      <td>NaN</td>\n",
       "      <td>NaN</td>\n",
       "      <td>NaN</td>\n",
       "      <td>NaN</td>\n",
       "      <td>NaN</td>\n",
       "    </tr>\n",
       "    <tr>\n",
       "      <th>BI Status</th>\n",
       "      <td>584524</td>\n",
       "      <td>9</td>\n",
       "      <td>Net</td>\n",
       "      <td>234173</td>\n",
       "      <td>NaN</td>\n",
       "      <td>NaN</td>\n",
       "      <td>NaN</td>\n",
       "      <td>NaN</td>\n",
       "      <td>NaN</td>\n",
       "      <td>NaN</td>\n",
       "      <td>NaN</td>\n",
       "    </tr>\n",
       "    <tr>\n",
       "      <th>MV</th>\n",
       "      <td>584524</td>\n",
       "      <td>9726</td>\n",
       "      <td>999</td>\n",
       "      <td>9507</td>\n",
       "      <td>NaN</td>\n",
       "      <td>NaN</td>\n",
       "      <td>NaN</td>\n",
       "      <td>NaN</td>\n",
       "      <td>NaN</td>\n",
       "      <td>NaN</td>\n",
       "      <td>NaN</td>\n",
       "    </tr>\n",
       "    <tr>\n",
       "      <th>Year</th>\n",
       "      <td>584524</td>\n",
       "      <td>8</td>\n",
       "      <td>2017</td>\n",
       "      <td>290910</td>\n",
       "      <td>NaN</td>\n",
       "      <td>NaN</td>\n",
       "      <td>NaN</td>\n",
       "      <td>NaN</td>\n",
       "      <td>NaN</td>\n",
       "      <td>NaN</td>\n",
       "      <td>NaN</td>\n",
       "    </tr>\n",
       "    <tr>\n",
       "      <th>Month</th>\n",
       "      <td>584524</td>\n",
       "      <td>14</td>\n",
       "      <td>11</td>\n",
       "      <td>155456</td>\n",
       "      <td>NaN</td>\n",
       "      <td>NaN</td>\n",
       "      <td>NaN</td>\n",
       "      <td>NaN</td>\n",
       "      <td>NaN</td>\n",
       "      <td>NaN</td>\n",
       "      <td>NaN</td>\n",
       "    </tr>\n",
       "    <tr>\n",
       "      <th>Customer Since</th>\n",
       "      <td>584524</td>\n",
       "      <td>36</td>\n",
       "      <td>2016-11</td>\n",
       "      <td>82713</td>\n",
       "      <td>NaN</td>\n",
       "      <td>NaN</td>\n",
       "      <td>NaN</td>\n",
       "      <td>NaN</td>\n",
       "      <td>NaN</td>\n",
       "      <td>NaN</td>\n",
       "      <td>NaN</td>\n",
       "    </tr>\n",
       "    <tr>\n",
       "      <th>M-Y</th>\n",
       "      <td>584513</td>\n",
       "      <td>26</td>\n",
       "      <td>11-2017</td>\n",
       "      <td>83928</td>\n",
       "      <td>NaN</td>\n",
       "      <td>NaN</td>\n",
       "      <td>NaN</td>\n",
       "      <td>NaN</td>\n",
       "      <td>NaN</td>\n",
       "      <td>NaN</td>\n",
       "      <td>NaN</td>\n",
       "    </tr>\n",
       "    <tr>\n",
       "      <th>F-Y</th>\n",
       "      <td>584513</td>\n",
       "      <td>3</td>\n",
       "      <td>FY18</td>\n",
       "      <td>306882</td>\n",
       "      <td>NaN</td>\n",
       "      <td>NaN</td>\n",
       "      <td>NaN</td>\n",
       "      <td>NaN</td>\n",
       "      <td>NaN</td>\n",
       "      <td>NaN</td>\n",
       "      <td>NaN</td>\n",
       "    </tr>\n",
       "    <tr>\n",
       "      <th>Customer ID</th>\n",
       "      <td>584513</td>\n",
       "      <td>115326</td>\n",
       "      <td>85775</td>\n",
       "      <td>2524</td>\n",
       "      <td>NaN</td>\n",
       "      <td>NaN</td>\n",
       "      <td>NaN</td>\n",
       "      <td>NaN</td>\n",
       "      <td>NaN</td>\n",
       "      <td>NaN</td>\n",
       "      <td>NaN</td>\n",
       "    </tr>\n",
       "  </tbody>\n",
       "</table>\n",
       "</div>"
      ],
      "text/plain": [
       "                          count  unique                  top    freq  \\\n",
       "item_id                584524.0     NaN                  NaN     NaN   \n",
       "status                   584520      19             complete  233685   \n",
       "created_at               584535     790           11/25/2016   15169   \n",
       "sku                      584515   84897  MATSAM59DB75ADB2F80    3775   \n",
       "price                  584524.0     NaN                  NaN     NaN   \n",
       "qty_ordered            584513.0     NaN                  NaN     NaN   \n",
       "grand_total            584513.0     NaN                  NaN     NaN   \n",
       "increment_id           584512.0     NaN                  NaN     NaN   \n",
       "category_name_1          584360      18    Mobiles & Tablets  115710   \n",
       "sales_commission_code    447353    7236                   \\N  338990   \n",
       "discount_amount        584513.0     NaN                  NaN     NaN   \n",
       "payment_method           584524      21                  cod  271953   \n",
       "working_date             584524     791           11/25/2016   15169   \n",
       "BI Status                584524       9                  Net  234173   \n",
       " MV                      584524    9726                 999     9507   \n",
       "Year                     584524       8                 2017  290910   \n",
       "Month                    584524      14                   11  155456   \n",
       "Customer Since           584524      36              2016-11   82713   \n",
       "M-Y                      584513      26              11-2017   83928   \n",
       "F-Y                      584513       3                 FY18  306882   \n",
       "Customer ID              584513  115326                85775    2524   \n",
       "\n",
       "                                   mean            std       min  \\\n",
       "item_id                   565667.074218  200121.173648  211131.0   \n",
       "status                              NaN            NaN       NaN   \n",
       "created_at                          NaN            NaN       NaN   \n",
       "sku                                 NaN            NaN       NaN   \n",
       "price                         8236.0625    435291.6875       0.0   \n",
       "qty_ordered                    1.296394       3.996098       1.0   \n",
       "grand_total                 8530.706055   61321.390625   -1594.0   \n",
       "increment_id           100355601.703919  388757.583304       0.0   \n",
       "category_name_1                     NaN            NaN       NaN   \n",
       "sales_commission_code               NaN            NaN       NaN   \n",
       "discount_amount              499.497559    1506.954468    -599.5   \n",
       "payment_method                      NaN            NaN       NaN   \n",
       "working_date                        NaN            NaN       NaN   \n",
       "BI Status                           NaN            NaN       NaN   \n",
       " MV                                 NaN            NaN       NaN   \n",
       "Year                                NaN            NaN       NaN   \n",
       "Month                               NaN            NaN       NaN   \n",
       "Customer Since                      NaN            NaN       NaN   \n",
       "M-Y                                 NaN            NaN       NaN   \n",
       "F-Y                                 NaN            NaN       NaN   \n",
       "Customer ID                         NaN            NaN       NaN   \n",
       "\n",
       "                                25%          50%           75%          max  \n",
       "item_id                   395000.75     568424.5     739106.25     905208.0  \n",
       "status                          NaN          NaN           NaN          NaN  \n",
       "created_at                      NaN          NaN           NaN          NaN  \n",
       "sku                             NaN          NaN           NaN          NaN  \n",
       "price                         360.0        899.0        4070.0  100348152.0  \n",
       "qty_ordered                     1.0          1.0           1.0       1000.0  \n",
       "grand_total                   945.0  1960.199951        6999.0   17888000.0  \n",
       "increment_id           100264561.75  100351163.5  100450243.25  100562387.0  \n",
       "category_name_1                 NaN          NaN           NaN          NaN  \n",
       "sales_commission_code           NaN          NaN           NaN          NaN  \n",
       "discount_amount                 0.0          0.0         160.5      90300.0  \n",
       "payment_method                  NaN          NaN           NaN          NaN  \n",
       "working_date                    NaN          NaN           NaN          NaN  \n",
       "BI Status                       NaN          NaN           NaN          NaN  \n",
       " MV                             NaN          NaN           NaN          NaN  \n",
       "Year                            NaN          NaN           NaN          NaN  \n",
       "Month                           NaN          NaN           NaN          NaN  \n",
       "Customer Since                  NaN          NaN           NaN          NaN  \n",
       "M-Y                             NaN          NaN           NaN          NaN  \n",
       "F-Y                             NaN          NaN           NaN          NaN  \n",
       "Customer ID                     NaN          NaN           NaN          NaN  "
      ]
     },
     "execution_count": 8,
     "metadata": {},
     "output_type": "execute_result"
    }
   ],
   "source": [
    "df.toPandas().describe(include='all').T"
   ]
  },
  {
   "cell_type": "code",
   "execution_count": 9,
   "metadata": {},
   "outputs": [
    {
     "name": "stdout",
     "output_type": "stream",
     "text": [
      "shape of df: (1048586, 21)\n"
     ]
    }
   ],
   "source": [
    "print('shape of df:', (df.count(), len(df.columns)))"
   ]
  },
  {
   "cell_type": "code",
   "execution_count": 10,
   "metadata": {},
   "outputs": [],
   "source": [
    "# df.toPandas().info()"
   ]
  },
  {
   "cell_type": "markdown",
   "metadata": {},
   "source": [
    "## Preprocessing Data"
   ]
  },
  {
   "cell_type": "code",
   "execution_count": 11,
   "metadata": {},
   "outputs": [],
   "source": [
    "import pyspark.sql.functions as F"
   ]
  },
  {
   "cell_type": "markdown",
   "metadata": {},
   "source": [
    "### Drop Unused Columns"
   ]
  },
  {
   "cell_type": "code",
   "execution_count": 12,
   "metadata": {},
   "outputs": [
    {
     "name": "stdout",
     "output_type": "stream",
     "text": [
      "shape of df: (1048586, 12)\n"
     ]
    }
   ],
   "source": [
    "df = df.drop('working_date','sales_commission_code',' MV','F-Y','M-Y','Year','Month','increment_id','sku')\n",
    "print('shape of df:', (df.count(), len(df.columns)))"
   ]
  },
  {
   "cell_type": "markdown",
   "metadata": {},
   "source": [
    "### Rename Columns"
   ]
  },
  {
   "cell_type": "code",
   "execution_count": 13,
   "metadata": {},
   "outputs": [
    {
     "data": {
      "text/plain": [
       "['item_id',\n",
       " 'status',\n",
       " 'created_at',\n",
       " 'price',\n",
       " 'qty_ordered',\n",
       " 'grand_total',\n",
       " 'category',\n",
       " 'discount_amount',\n",
       " 'payment_method',\n",
       " 'bi_status',\n",
       " 'customer_since',\n",
       " 'customer_id']"
      ]
     },
     "execution_count": 13,
     "metadata": {},
     "output_type": "execute_result"
    }
   ],
   "source": [
    "df = df.withColumnsRenamed({'category_name_1':'category', 'BI Status':'bi_status', 'Customer ID':'customer_id', 'Customer Since': 'customer_since'})\n",
    "df.columns"
   ]
  },
  {
   "cell_type": "markdown",
   "metadata": {},
   "source": [
    "### Handle Null Value "
   ]
  },
  {
   "cell_type": "code",
   "execution_count": 14,
   "metadata": {},
   "outputs": [
    {
     "name": "stdout",
     "output_type": "stream",
     "text": [
      "NULL in item_id 464062\n",
      "NULL in status 464066\n",
      "NULL in created_at 464051\n",
      "NULL in price 464062\n",
      "NULL in qty_ordered 464073\n",
      "NULL in grand_total 464073\n",
      "NULL in category 464226\n",
      "NULL in discount_amount 464073\n",
      "NULL in payment_method 464062\n",
      "NULL in bi_status 464062\n",
      "NULL in customer_since 464062\n",
      "NULL in customer_id 464073\n"
     ]
    }
   ],
   "source": [
    "for c in df.columns: print(f'NULL in {c}',df.filter(f'{c} IS NULL').count()) "
   ]
  },
  {
   "cell_type": "code",
   "execution_count": 15,
   "metadata": {},
   "outputs": [
    {
     "name": "stdout",
     "output_type": "stream",
     "text": [
      "+-------+--------+----------+------------+-----------+-----------+--------+---------------+--------------+---------+--------------+-----------+\n",
      "|item_id|  status|created_at|       price|qty_ordered|grand_total|category|discount_amount|payment_method|bi_status|customer_since|customer_id|\n",
      "+-------+--------+----------+------------+-----------+-----------+--------+---------------+--------------+---------+--------------+-----------+\n",
      "| 217788|complete| 7/24/2016|        NULL|       NULL|       NULL|    NULL|           NULL|          NULL|     NULL|          NULL|       NULL|\n",
      "|   NULL|    2660|         1|1.00152216E8|       NULL|       NULL|     cod|           NULL|        2,660 |        7|          1806|       NULL|\n",
      "| 424131|complete| 3/18/2017|        NULL|       NULL|       NULL|    NULL|           NULL|          NULL|     NULL|          NULL|       NULL|\n",
      "|   NULL|     999|         1| 1.0028058E8|       NULL|       NULL|     cod|           NULL|          999 |        3|         31987|       NULL|\n",
      "| 425424|complete| 3/20/2017|        NULL|       NULL|       NULL|    NULL|           NULL|          NULL|     NULL|          NULL|       NULL|\n",
      "|   NULL|     999|         1| 1.0028128E8|       NULL|       NULL|     cod|           NULL|          999 |        3|         38108|       NULL|\n",
      "| 444217|received| 4/14/2017|        NULL|       NULL|       NULL|    NULL|           NULL|          NULL|     NULL|          NULL|       NULL|\n",
      "|   NULL|     999|         1| 1.0029196E8|       NULL|       NULL|     cod|           NULL|          999 |        4|         41058|       NULL|\n",
      "| 452510|received| 4/22/2017|        NULL|       NULL|       NULL|    NULL|           NULL|          NULL|     NULL|          NULL|       NULL|\n",
      "|   NULL|     999|         1| 1.0029666E8|       NULL|       NULL|     cod|           NULL|          999 |        4|         42289|       NULL|\n",
      "+-------+--------+----------+------------+-----------+-----------+--------+---------------+--------------+---------+--------------+-----------+\n",
      "only showing top 10 rows\n",
      "\n"
     ]
    }
   ],
   "source": [
    "df.filter('customer_id IS NULL').show(10)"
   ]
  },
  {
   "cell_type": "markdown",
   "metadata": {},
   "source": [
    "a lot of rows are empty, we can see that mostly it's because there is no valid customer data (i.e customer_id and transaction status). So we will drop these invalid rows."
   ]
  },
  {
   "cell_type": "code",
   "execution_count": 16,
   "metadata": {},
   "outputs": [],
   "source": [
    "df = df.na.drop(subset=['customer_id','status'])"
   ]
  },
  {
   "cell_type": "code",
   "execution_count": 17,
   "metadata": {},
   "outputs": [
    {
     "data": {
      "text/plain": [
       "584498"
      ]
     },
     "execution_count": 17,
     "metadata": {},
     "output_type": "execute_result"
    }
   ],
   "source": [
    "df.count()"
   ]
  },
  {
   "cell_type": "code",
   "execution_count": 18,
   "metadata": {},
   "outputs": [
    {
     "name": "stdout",
     "output_type": "stream",
     "text": [
      "NULL in item_id 0\n",
      "NULL in status 0\n",
      "NULL in created_at 0\n",
      "NULL in price 0\n",
      "NULL in qty_ordered 0\n",
      "NULL in grand_total 0\n",
      "NULL in category 164\n",
      "NULL in discount_amount 0\n",
      "NULL in payment_method 0\n",
      "NULL in bi_status 0\n",
      "NULL in customer_since 0\n",
      "NULL in customer_id 0\n"
     ]
    }
   ],
   "source": [
    "# re-check remaining missing value in columns\n",
    "for c in df.columns: print(f'NULL in {c}',df.filter(f'{c} IS NULL').count()) "
   ]
  },
  {
   "cell_type": "code",
   "execution_count": 19,
   "metadata": {},
   "outputs": [],
   "source": [
    "# handle null sku data\n",
    "tmp = df.filter('sku IS NULL').select('item_id').collect()\n",
    "tmp = [int(row['item_id']) for row in tmp]"
   ]
  },
  {
   "cell_type": "code",
   "execution_count": 20,
   "metadata": {},
   "outputs": [
    {
     "name": "stdout",
     "output_type": "stream",
     "text": [
      "+-------+-----+\n",
      "|item_id|count|\n",
      "+-------+-----+\n",
      "| 230008|    1|\n",
      "| 236830|    1|\n",
      "| 260007|    1|\n",
      "| 260006|    1|\n",
      "| 260061|    1|\n",
      "| 367292|    1|\n",
      "| 429392|    1|\n",
      "| 399798|    1|\n",
      "| 429421|    1|\n",
      "| 426105|    1|\n",
      "| 429393|    1|\n",
      "| 368362|    1|\n",
      "| 432276|    1|\n",
      "| 426302|    1|\n",
      "| 368122|    1|\n",
      "| 605954|    1|\n",
      "| 506324|    1|\n",
      "| 595858|    1|\n",
      "| 605740|    1|\n",
      "| 605726|    1|\n",
      "+-------+-----+\n",
      "\n"
     ]
    }
   ],
   "source": [
    "tmp1 = df.filter(df.item_id.isin(tmp))\n",
    "tmp1.groupBy('item_id').count().orderBy('count', ascending=False).show(30)"
   ]
  },
  {
   "cell_type": "code",
   "execution_count": 21,
   "metadata": {},
   "outputs": [],
   "source": [
    "# handle null category data\n",
    "tmp = df.filter('category IS NULL').select('item_id').collect()\n",
    "tmp = [int(row['item_id']) for row in tmp]"
   ]
  },
  {
   "cell_type": "code",
   "execution_count": 22,
   "metadata": {},
   "outputs": [
    {
     "name": "stdout",
     "output_type": "stream",
     "text": [
      "+-------+-----+\n",
      "|item_id|count|\n",
      "+-------+-----+\n",
      "| 757685|    1|\n",
      "| 731122|    1|\n",
      "| 732569|    1|\n",
      "| 733363|    1|\n",
      "| 733727|    1|\n",
      "| 737199|    1|\n",
      "| 744922|    1|\n",
      "| 725194|    1|\n",
      "| 737219|    1|\n",
      "| 732578|    1|\n",
      "| 733736|    1|\n",
      "| 744351|    1|\n",
      "| 757605|    1|\n",
      "| 732575|    1|\n",
      "| 732572|    1|\n",
      "| 733367|    1|\n",
      "| 733741|    1|\n",
      "| 829983|    1|\n",
      "| 830138|    1|\n",
      "| 829959|    1|\n",
      "| 830090|    1|\n",
      "| 833708|    1|\n",
      "| 829957|    1|\n",
      "| 830102|    1|\n",
      "| 768018|    1|\n",
      "| 833704|    1|\n",
      "| 830037|    1|\n",
      "| 830009|    1|\n",
      "| 830033|    1|\n",
      "| 829961|    1|\n",
      "+-------+-----+\n",
      "only showing top 30 rows\n",
      "\n"
     ]
    }
   ],
   "source": [
    "tmp1 = df.filter(df.item_id.isin(tmp))\n",
    "tmp1.groupBy('item_id').count().orderBy('count', ascending=False).show(30)"
   ]
  },
  {
   "cell_type": "markdown",
   "metadata": {},
   "source": [
    "because there is no other data with same item_id to category null dataframe. We can't fill the category value. So, for now we will drop all rows with invalid category "
   ]
  },
  {
   "cell_type": "code",
   "execution_count": 23,
   "metadata": {},
   "outputs": [
    {
     "name": "stdout",
     "output_type": "stream",
     "text": [
      "before drop invalid category value : 584498\n",
      "after drop invalid category value : 584334\n"
     ]
    }
   ],
   "source": [
    "print('before drop invalid category value :', df.count())\n",
    "df = df.na.drop(subset=['category'])\n",
    "print('after drop invalid category value :', df.count())"
   ]
  },
  {
   "cell_type": "markdown",
   "metadata": {},
   "source": [
    "now we need to check non-null value in categorical data that refer to invalid value"
   ]
  },
  {
   "cell_type": "markdown",
   "metadata": {},
   "source": [
    "### Enhance Data Quality"
   ]
  },
  {
   "cell_type": "markdown",
   "metadata": {},
   "source": [
    "let's check categorical data's unique value to make sure the value is correct"
   ]
  },
  {
   "cell_type": "code",
   "execution_count": 24,
   "metadata": {},
   "outputs": [
    {
     "name": "stdout",
     "output_type": "stream",
     "text": [
      "+--------------+\n",
      "|        status|\n",
      "+--------------+\n",
      "|      received|\n",
      "|        holded|\n",
      "|      canceled|\n",
      "|        refund|\n",
      "|      exchange|\n",
      "|        closed|\n",
      "|order_refunded|\n",
      "|         fraud|\n",
      "|      complete|\n",
      "|          paid|\n",
      "|pending_paypal|\n",
      "|           cod|\n",
      "|            \\N|\n",
      "|       pending|\n",
      "|    processing|\n",
      "|payment_review|\n",
      "+--------------+\n",
      "\n",
      "+---------+\n",
      "|bi_status|\n",
      "+---------+\n",
      "|    #REF!|\n",
      "|    Gross|\n",
      "|      Net|\n",
      "|    Valid|\n",
      "+---------+\n",
      "\n",
      "+-----------------+\n",
      "|   payment_method|\n",
      "+-----------------+\n",
      "|              cod|\n",
      "|  internetbanking|\n",
      "|          mcblite|\n",
      "| marketingexpense|\n",
      "|       jazzwallet|\n",
      "|        mygateway|\n",
      "|   customercredit|\n",
      "|          Payaxis|\n",
      "|financesettlement|\n",
      "|      jazzvoucher|\n",
      "|    ublcreditcard|\n",
      "|    productcredit|\n",
      "|   cashatdoorstep|\n",
      "|       Easypay_MA|\n",
      "|  easypay_voucher|\n",
      "|          Easypay|\n",
      "|      bankalfalah|\n",
      "|              apg|\n",
      "+-----------------+\n",
      "\n",
      "+------------------+\n",
      "|          category|\n",
      "+------------------+\n",
      "|School & Education|\n",
      "|       Kids & Baby|\n",
      "|     Entertainment|\n",
      "|         Computing|\n",
      "|                \\N|\n",
      "| Mobiles & Tablets|\n",
      "| Beauty & Grooming|\n",
      "|   Health & Sports|\n",
      "|           Soghaat|\n",
      "|             Books|\n",
      "|            Others|\n",
      "|        Superstore|\n",
      "|     Men's Fashion|\n",
      "|        Appliances|\n",
      "|   Women's Fashion|\n",
      "|     Home & Living|\n",
      "+------------------+\n",
      "\n"
     ]
    }
   ],
   "source": [
    "df.select('status').distinct().show()\n",
    "df.select('bi_status').distinct().show()\n",
    "df.select('payment_method').distinct().show()\n",
    "df.select('category').distinct().show()"
   ]
  },
  {
   "cell_type": "markdown",
   "metadata": {},
   "source": [
    "### RECHECK>>DROP ONLY STATUS=='\\N', cat and bi_status must fill"
   ]
  },
  {
   "cell_type": "code",
   "execution_count": 25,
   "metadata": {},
   "outputs": [
    {
     "name": "stdout",
     "output_type": "stream",
     "text": [
      "before drop invalid category value : 584334\n",
      "after drop invalid category value : 576483\n"
     ]
    }
   ],
   "source": [
    "# remove '\\N' from status and category column, remove '#REF!' from bi_status\n",
    "print('before drop invalid category value :', df.count())\n",
    "df = df.filter((df.status !='\\\\N') & (df.category !='\\\\N') & (df.bi_status != '#REF!'))\n",
    "print('after drop invalid category value :', df.count())"
   ]
  },
  {
   "cell_type": "code",
   "execution_count": 26,
   "metadata": {},
   "outputs": [
    {
     "name": "stdout",
     "output_type": "stream",
     "text": [
      "+--------------+------+\n",
      "|        status| count|\n",
      "+--------------+------+\n",
      "|      complete|230451|\n",
      "|      canceled|197974|\n",
      "|      received| 77150|\n",
      "|order_refunded| 58343|\n",
      "|        refund|  7876|\n",
      "|           cod|  2851|\n",
      "|          paid|  1156|\n",
      "|        closed|   492|\n",
      "|payment_review|    57|\n",
      "|       pending|    48|\n",
      "|    processing|    33|\n",
      "|        holded|    31|\n",
      "|         fraud|    10|\n",
      "|pending_paypal|     7|\n",
      "|      exchange|     4|\n",
      "+--------------+------+\n",
      "\n"
     ]
    }
   ],
   "source": [
    "df.groupBy('status').count().orderBy('count', ascending=False).show()"
   ]
  },
  {
   "cell_type": "markdown",
   "metadata": {},
   "source": [
    "we can see from status column unique values above that the category is too specific and unorganized.<br>\n",
    "We can make it more general and simple by grouping the status into payment_status with 3 category, that is pass, pending, and fraud"
   ]
  },
  {
   "cell_type": "code",
   "execution_count": 27,
   "metadata": {},
   "outputs": [],
   "source": [
    "# define status name will be under payment_status: pass\n",
    "pass_stat = ['complete','canceled','received','order_refunded','refund','paid','closed','exchange']\n",
    "# define status name will be under payment_status: pending\n",
    "pend_stat = ['cod','payment_review','pending','processing','holded','pending_paypal']\n",
    "# other that will be classified with payment_status: fraud"
   ]
  },
  {
   "cell_type": "code",
   "execution_count": 29,
   "metadata": {},
   "outputs": [],
   "source": [
    "df = df.withColumn('payment_status', F.when(F.col('status').isin(pass_stat),'pass')\\\n",
    "                                    .when(F.col('status').isin(pend_stat),'pending')\\\n",
    "                                    .otherwise('fraud')\n",
    "                    )"
   ]
  },
  {
   "cell_type": "code",
   "execution_count": 30,
   "metadata": {},
   "outputs": [
    {
     "name": "stdout",
     "output_type": "stream",
     "text": [
      "+--------------+--------------+------+\n",
      "|        status|payment_status| count|\n",
      "+--------------+--------------+------+\n",
      "|      complete|          pass|230451|\n",
      "|      canceled|          pass|197974|\n",
      "|      received|          pass| 77150|\n",
      "|order_refunded|          pass| 58343|\n",
      "|        refund|          pass|  7876|\n",
      "|           cod|       pending|  2851|\n",
      "|          paid|          pass|  1156|\n",
      "|        closed|          pass|   492|\n",
      "|payment_review|       pending|    57|\n",
      "|       pending|       pending|    48|\n",
      "|    processing|       pending|    33|\n",
      "|        holded|       pending|    31|\n",
      "|         fraud|         fraud|    10|\n",
      "|pending_paypal|       pending|     7|\n",
      "|      exchange|          pass|     4|\n",
      "+--------------+--------------+------+\n",
      "\n"
     ]
    }
   ],
   "source": [
    "df.groupBy('status','payment_status').count().orderBy('count', ascending=False).show()"
   ]
  },
  {
   "cell_type": "markdown",
   "metadata": {},
   "source": [
    "### Drop Duplicate Data"
   ]
  },
  {
   "cell_type": "code",
   "execution_count": 31,
   "metadata": {},
   "outputs": [
    {
     "name": "stdout",
     "output_type": "stream",
     "text": [
      "before drop invalid category value : 576483\n",
      "after drop invalid category value : 576483\n"
     ]
    }
   ],
   "source": [
    "print('before drop invalid category value :', df.count())\n",
    "df = df.drop_duplicates()\n",
    "print('after drop invalid category value :', df.count())"
   ]
  },
  {
   "cell_type": "markdown",
   "metadata": {},
   "source": [
    "### Data Type Check"
   ]
  },
  {
   "cell_type": "code",
   "execution_count": 36,
   "metadata": {},
   "outputs": [],
   "source": [
    "df = df.withColumn('created_at', F.to_date(F.unix_timestamp('created_at', 'M/d/y').cast('timestamp')))\n",
    "df = df.withColumn('customer_since', F.to_date(F.unix_timestamp('customer_since', 'y-M').cast('timestamp')))"
   ]
  },
  {
   "cell_type": "code",
   "execution_count": 38,
   "metadata": {},
   "outputs": [
    {
     "name": "stdout",
     "output_type": "stream",
     "text": [
      "root\n",
      " |-- item_id: integer (nullable = true)\n",
      " |-- status: string (nullable = true)\n",
      " |-- created_at: date (nullable = true)\n",
      " |-- price: float (nullable = true)\n",
      " |-- qty_ordered: integer (nullable = true)\n",
      " |-- grand_total: float (nullable = true)\n",
      " |-- category: string (nullable = true)\n",
      " |-- discount_amount: float (nullable = true)\n",
      " |-- payment_method: string (nullable = true)\n",
      " |-- bi_status: string (nullable = true)\n",
      " |-- customer_since: date (nullable = true)\n",
      " |-- customer_id: string (nullable = true)\n",
      " |-- payment_status: string (nullable = false)\n",
      "\n"
     ]
    }
   ],
   "source": [
    "df.printSchema()"
   ]
  },
  {
   "cell_type": "markdown",
   "metadata": {},
   "source": [
    "## EDA"
   ]
  },
  {
   "cell_type": "markdown",
   "metadata": {},
   "source": [
    "### Summary of Dataset"
   ]
  },
  {
   "cell_type": "code",
   "execution_count": 41,
   "metadata": {},
   "outputs": [
    {
     "data": {
      "text/html": [
       "<div>\n",
       "<style scoped>\n",
       "    .dataframe tbody tr th:only-of-type {\n",
       "        vertical-align: middle;\n",
       "    }\n",
       "\n",
       "    .dataframe tbody tr th {\n",
       "        vertical-align: top;\n",
       "    }\n",
       "\n",
       "    .dataframe thead th {\n",
       "        text-align: right;\n",
       "    }\n",
       "</style>\n",
       "<table border=\"1\" class=\"dataframe\">\n",
       "  <thead>\n",
       "    <tr style=\"text-align: right;\">\n",
       "      <th></th>\n",
       "      <th>count</th>\n",
       "      <th>unique</th>\n",
       "      <th>top</th>\n",
       "      <th>freq</th>\n",
       "      <th>mean</th>\n",
       "      <th>std</th>\n",
       "      <th>min</th>\n",
       "      <th>25%</th>\n",
       "      <th>50%</th>\n",
       "      <th>75%</th>\n",
       "      <th>max</th>\n",
       "    </tr>\n",
       "  </thead>\n",
       "  <tbody>\n",
       "    <tr>\n",
       "      <th>item_id</th>\n",
       "      <td>576483.0</td>\n",
       "      <td>NaN</td>\n",
       "      <td>NaN</td>\n",
       "      <td>NaN</td>\n",
       "      <td>568863.306573</td>\n",
       "      <td>199132.941748</td>\n",
       "      <td>211133.0</td>\n",
       "      <td>400808.0</td>\n",
       "      <td>572637.0</td>\n",
       "      <td>741165.5</td>\n",
       "      <td>905208.0</td>\n",
       "    </tr>\n",
       "    <tr>\n",
       "      <th>status</th>\n",
       "      <td>576483</td>\n",
       "      <td>15</td>\n",
       "      <td>complete</td>\n",
       "      <td>230451</td>\n",
       "      <td>NaN</td>\n",
       "      <td>NaN</td>\n",
       "      <td>NaN</td>\n",
       "      <td>NaN</td>\n",
       "      <td>NaN</td>\n",
       "      <td>NaN</td>\n",
       "      <td>NaN</td>\n",
       "    </tr>\n",
       "    <tr>\n",
       "      <th>created_at</th>\n",
       "      <td>576483</td>\n",
       "      <td>789</td>\n",
       "      <td>2016-11-25</td>\n",
       "      <td>14929</td>\n",
       "      <td>NaN</td>\n",
       "      <td>NaN</td>\n",
       "      <td>NaN</td>\n",
       "      <td>NaN</td>\n",
       "      <td>NaN</td>\n",
       "      <td>NaN</td>\n",
       "      <td>NaN</td>\n",
       "    </tr>\n",
       "    <tr>\n",
       "      <th>price</th>\n",
       "      <td>576483.0</td>\n",
       "      <td>NaN</td>\n",
       "      <td>NaN</td>\n",
       "      <td>NaN</td>\n",
       "      <td>6380.661133</td>\n",
       "      <td>15006.904297</td>\n",
       "      <td>0.0</td>\n",
       "      <td>360.0</td>\n",
       "      <td>900.0</td>\n",
       "      <td>4054.0</td>\n",
       "      <td>1012625.875</td>\n",
       "    </tr>\n",
       "    <tr>\n",
       "      <th>qty_ordered</th>\n",
       "      <td>576483.0</td>\n",
       "      <td>NaN</td>\n",
       "      <td>NaN</td>\n",
       "      <td>NaN</td>\n",
       "      <td>1.295216</td>\n",
       "      <td>3.997737</td>\n",
       "      <td>1.0</td>\n",
       "      <td>1.0</td>\n",
       "      <td>1.0</td>\n",
       "      <td>1.0</td>\n",
       "      <td>1000.0</td>\n",
       "    </tr>\n",
       "    <tr>\n",
       "      <th>grand_total</th>\n",
       "      <td>576483.0</td>\n",
       "      <td>NaN</td>\n",
       "      <td>NaN</td>\n",
       "      <td>NaN</td>\n",
       "      <td>8586.782227</td>\n",
       "      <td>61731.695312</td>\n",
       "      <td>-1594.0</td>\n",
       "      <td>952.100006</td>\n",
       "      <td>1986.455444</td>\n",
       "      <td>6998.399902</td>\n",
       "      <td>17888000.0</td>\n",
       "    </tr>\n",
       "    <tr>\n",
       "      <th>category</th>\n",
       "      <td>576483</td>\n",
       "      <td>15</td>\n",
       "      <td>Mobiles &amp; Tablets</td>\n",
       "      <td>115709</td>\n",
       "      <td>NaN</td>\n",
       "      <td>NaN</td>\n",
       "      <td>NaN</td>\n",
       "      <td>NaN</td>\n",
       "      <td>NaN</td>\n",
       "      <td>NaN</td>\n",
       "      <td>NaN</td>\n",
       "    </tr>\n",
       "    <tr>\n",
       "      <th>discount_amount</th>\n",
       "      <td>576483.0</td>\n",
       "      <td>NaN</td>\n",
       "      <td>NaN</td>\n",
       "      <td>NaN</td>\n",
       "      <td>503.298645</td>\n",
       "      <td>1510.668579</td>\n",
       "      <td>-599.5</td>\n",
       "      <td>0.0</td>\n",
       "      <td>0.0</td>\n",
       "      <td>164.949997</td>\n",
       "      <td>90300.0</td>\n",
       "    </tr>\n",
       "    <tr>\n",
       "      <th>payment_method</th>\n",
       "      <td>576483</td>\n",
       "      <td>18</td>\n",
       "      <td>cod</td>\n",
       "      <td>267762</td>\n",
       "      <td>NaN</td>\n",
       "      <td>NaN</td>\n",
       "      <td>NaN</td>\n",
       "      <td>NaN</td>\n",
       "      <td>NaN</td>\n",
       "      <td>NaN</td>\n",
       "      <td>NaN</td>\n",
       "    </tr>\n",
       "    <tr>\n",
       "      <th>bi_status</th>\n",
       "      <td>576483</td>\n",
       "      <td>3</td>\n",
       "      <td>Net</td>\n",
       "      <td>230943</td>\n",
       "      <td>NaN</td>\n",
       "      <td>NaN</td>\n",
       "      <td>NaN</td>\n",
       "      <td>NaN</td>\n",
       "      <td>NaN</td>\n",
       "      <td>NaN</td>\n",
       "      <td>NaN</td>\n",
       "    </tr>\n",
       "    <tr>\n",
       "      <th>customer_since</th>\n",
       "      <td>576472</td>\n",
       "      <td>26</td>\n",
       "      <td>2016-11-01</td>\n",
       "      <td>80888</td>\n",
       "      <td>NaN</td>\n",
       "      <td>NaN</td>\n",
       "      <td>NaN</td>\n",
       "      <td>NaN</td>\n",
       "      <td>NaN</td>\n",
       "      <td>NaN</td>\n",
       "      <td>NaN</td>\n",
       "    </tr>\n",
       "    <tr>\n",
       "      <th>customer_id</th>\n",
       "      <td>576483</td>\n",
       "      <td>114214</td>\n",
       "      <td>85775</td>\n",
       "      <td>2524</td>\n",
       "      <td>NaN</td>\n",
       "      <td>NaN</td>\n",
       "      <td>NaN</td>\n",
       "      <td>NaN</td>\n",
       "      <td>NaN</td>\n",
       "      <td>NaN</td>\n",
       "      <td>NaN</td>\n",
       "    </tr>\n",
       "    <tr>\n",
       "      <th>payment_status</th>\n",
       "      <td>576483</td>\n",
       "      <td>3</td>\n",
       "      <td>pass</td>\n",
       "      <td>573446</td>\n",
       "      <td>NaN</td>\n",
       "      <td>NaN</td>\n",
       "      <td>NaN</td>\n",
       "      <td>NaN</td>\n",
       "      <td>NaN</td>\n",
       "      <td>NaN</td>\n",
       "      <td>NaN</td>\n",
       "    </tr>\n",
       "  </tbody>\n",
       "</table>\n",
       "</div>"
      ],
      "text/plain": [
       "                    count  unique                top    freq           mean  \\\n",
       "item_id          576483.0     NaN                NaN     NaN  568863.306573   \n",
       "status             576483      15           complete  230451            NaN   \n",
       "created_at         576483     789         2016-11-25   14929            NaN   \n",
       "price            576483.0     NaN                NaN     NaN    6380.661133   \n",
       "qty_ordered      576483.0     NaN                NaN     NaN       1.295216   \n",
       "grand_total      576483.0     NaN                NaN     NaN    8586.782227   \n",
       "category           576483      15  Mobiles & Tablets  115709            NaN   \n",
       "discount_amount  576483.0     NaN                NaN     NaN     503.298645   \n",
       "payment_method     576483      18                cod  267762            NaN   \n",
       "bi_status          576483       3                Net  230943            NaN   \n",
       "customer_since     576472      26         2016-11-01   80888            NaN   \n",
       "customer_id        576483  114214              85775    2524            NaN   \n",
       "payment_status     576483       3               pass  573446            NaN   \n",
       "\n",
       "                           std       min         25%          50%  \\\n",
       "item_id          199132.941748  211133.0    400808.0     572637.0   \n",
       "status                     NaN       NaN         NaN          NaN   \n",
       "created_at                 NaN       NaN         NaN          NaN   \n",
       "price             15006.904297       0.0       360.0        900.0   \n",
       "qty_ordered           3.997737       1.0         1.0          1.0   \n",
       "grand_total       61731.695312   -1594.0  952.100006  1986.455444   \n",
       "category                   NaN       NaN         NaN          NaN   \n",
       "discount_amount    1510.668579    -599.5         0.0          0.0   \n",
       "payment_method             NaN       NaN         NaN          NaN   \n",
       "bi_status                  NaN       NaN         NaN          NaN   \n",
       "customer_since             NaN       NaN         NaN          NaN   \n",
       "customer_id                NaN       NaN         NaN          NaN   \n",
       "payment_status             NaN       NaN         NaN          NaN   \n",
       "\n",
       "                         75%          max  \n",
       "item_id             741165.5     905208.0  \n",
       "status                   NaN          NaN  \n",
       "created_at               NaN          NaN  \n",
       "price                 4054.0  1012625.875  \n",
       "qty_ordered              1.0       1000.0  \n",
       "grand_total      6998.399902   17888000.0  \n",
       "category                 NaN          NaN  \n",
       "discount_amount   164.949997      90300.0  \n",
       "payment_method           NaN          NaN  \n",
       "bi_status                NaN          NaN  \n",
       "customer_since           NaN          NaN  \n",
       "customer_id              NaN          NaN  \n",
       "payment_status           NaN          NaN  "
      ]
     },
     "execution_count": 41,
     "metadata": {},
     "output_type": "execute_result"
    }
   ],
   "source": [
    "df.toPandas().describe(include='all').T"
   ]
  },
  {
   "cell_type": "code",
   "execution_count": 39,
   "metadata": {},
   "outputs": [
    {
     "name": "stdout",
     "output_type": "stream",
     "text": [
      "dataset shape : (576483, 13)\n"
     ]
    }
   ],
   "source": [
    "print('dataset shape :', (df.count(), len(df.columns)))"
   ]
  },
  {
   "cell_type": "markdown",
   "metadata": {},
   "source": [
    "### Data Distribution"
   ]
  },
  {
   "cell_type": "code",
   "execution_count": 54,
   "metadata": {},
   "outputs": [
    {
     "name": "stdout",
     "output_type": "stream",
     "text": [
      "root\n",
      " |-- item_id: integer (nullable = true)\n",
      " |-- status: string (nullable = true)\n",
      " |-- created_at: date (nullable = true)\n",
      " |-- price: float (nullable = true)\n",
      " |-- qty_ordered: integer (nullable = true)\n",
      " |-- grand_total: float (nullable = true)\n",
      " |-- category: string (nullable = true)\n",
      " |-- discount_amount: float (nullable = true)\n",
      " |-- payment_method: string (nullable = true)\n",
      " |-- bi_status: string (nullable = true)\n",
      " |-- customer_since: date (nullable = true)\n",
      " |-- customer_id: string (nullable = true)\n",
      " |-- payment_status: string (nullable = false)\n",
      "\n"
     ]
    }
   ],
   "source": [
    "df.printSchema()"
   ]
  },
  {
   "cell_type": "code",
   "execution_count": 55,
   "metadata": {},
   "outputs": [],
   "source": [
    "tmp = df.select('created_at','qty_ordered','price','discount_amount','grand_total').toPandas()"
   ]
  },
  {
   "cell_type": "code",
   "execution_count": 56,
   "metadata": {},
   "outputs": [
    {
     "data": {
      "text/html": [
       "<div>\n",
       "<style scoped>\n",
       "    .dataframe tbody tr th:only-of-type {\n",
       "        vertical-align: middle;\n",
       "    }\n",
       "\n",
       "    .dataframe tbody tr th {\n",
       "        vertical-align: top;\n",
       "    }\n",
       "\n",
       "    .dataframe thead th {\n",
       "        text-align: right;\n",
       "    }\n",
       "</style>\n",
       "<table border=\"1\" class=\"dataframe\">\n",
       "  <thead>\n",
       "    <tr style=\"text-align: right;\">\n",
       "      <th></th>\n",
       "      <th>created_at</th>\n",
       "      <th>qty_ordered</th>\n",
       "      <th>price</th>\n",
       "      <th>discount_amount</th>\n",
       "      <th>grand_total</th>\n",
       "    </tr>\n",
       "  </thead>\n",
       "  <tbody>\n",
       "    <tr>\n",
       "      <th>0</th>\n",
       "      <td>2016-07-01</td>\n",
       "      <td>1</td>\n",
       "      <td>240.0</td>\n",
       "      <td>0.0</td>\n",
       "      <td>240.0</td>\n",
       "    </tr>\n",
       "    <tr>\n",
       "      <th>1</th>\n",
       "      <td>2016-07-03</td>\n",
       "      <td>1</td>\n",
       "      <td>925.0</td>\n",
       "      <td>0.0</td>\n",
       "      <td>925.0</td>\n",
       "    </tr>\n",
       "    <tr>\n",
       "      <th>2</th>\n",
       "      <td>2016-07-03</td>\n",
       "      <td>1</td>\n",
       "      <td>299.0</td>\n",
       "      <td>0.0</td>\n",
       "      <td>299.0</td>\n",
       "    </tr>\n",
       "    <tr>\n",
       "      <th>3</th>\n",
       "      <td>2016-07-04</td>\n",
       "      <td>1</td>\n",
       "      <td>350.0</td>\n",
       "      <td>0.0</td>\n",
       "      <td>350.0</td>\n",
       "    </tr>\n",
       "    <tr>\n",
       "      <th>4</th>\n",
       "      <td>2016-07-05</td>\n",
       "      <td>1</td>\n",
       "      <td>470.0</td>\n",
       "      <td>0.0</td>\n",
       "      <td>9250.0</td>\n",
       "    </tr>\n",
       "    <tr>\n",
       "      <th>...</th>\n",
       "      <td>...</td>\n",
       "      <td>...</td>\n",
       "      <td>...</td>\n",
       "      <td>...</td>\n",
       "      <td>...</td>\n",
       "    </tr>\n",
       "    <tr>\n",
       "      <th>576478</th>\n",
       "      <td>2018-08-24</td>\n",
       "      <td>1</td>\n",
       "      <td>649.0</td>\n",
       "      <td>0.0</td>\n",
       "      <td>1979.0</td>\n",
       "    </tr>\n",
       "    <tr>\n",
       "      <th>576479</th>\n",
       "      <td>2018-08-24</td>\n",
       "      <td>1</td>\n",
       "      <td>1399.0</td>\n",
       "      <td>0.0</td>\n",
       "      <td>3048.0</td>\n",
       "    </tr>\n",
       "    <tr>\n",
       "      <th>576480</th>\n",
       "      <td>2018-08-25</td>\n",
       "      <td>1</td>\n",
       "      <td>57.0</td>\n",
       "      <td>0.0</td>\n",
       "      <td>5555.0</td>\n",
       "    </tr>\n",
       "    <tr>\n",
       "      <th>576481</th>\n",
       "      <td>2018-08-25</td>\n",
       "      <td>1</td>\n",
       "      <td>324.0</td>\n",
       "      <td>0.0</td>\n",
       "      <td>804.0</td>\n",
       "    </tr>\n",
       "    <tr>\n",
       "      <th>576482</th>\n",
       "      <td>2018-08-26</td>\n",
       "      <td>1</td>\n",
       "      <td>2000.0</td>\n",
       "      <td>0.0</td>\n",
       "      <td>2250.0</td>\n",
       "    </tr>\n",
       "  </tbody>\n",
       "</table>\n",
       "<p>576483 rows × 5 columns</p>\n",
       "</div>"
      ],
      "text/plain": [
       "        created_at  qty_ordered   price  discount_amount  grand_total\n",
       "0       2016-07-01            1   240.0              0.0        240.0\n",
       "1       2016-07-03            1   925.0              0.0        925.0\n",
       "2       2016-07-03            1   299.0              0.0        299.0\n",
       "3       2016-07-04            1   350.0              0.0        350.0\n",
       "4       2016-07-05            1   470.0              0.0       9250.0\n",
       "...            ...          ...     ...              ...          ...\n",
       "576478  2018-08-24            1   649.0              0.0       1979.0\n",
       "576479  2018-08-24            1  1399.0              0.0       3048.0\n",
       "576480  2018-08-25            1    57.0              0.0       5555.0\n",
       "576481  2018-08-25            1   324.0              0.0        804.0\n",
       "576482  2018-08-26            1  2000.0              0.0       2250.0\n",
       "\n",
       "[576483 rows x 5 columns]"
      ]
     },
     "execution_count": 56,
     "metadata": {},
     "output_type": "execute_result"
    }
   ],
   "source": [
    "tmp"
   ]
  },
  {
   "cell_type": "code",
   "execution_count": 67,
   "metadata": {},
   "outputs": [],
   "source": [
    "tmp1= tmp.head(50000).copy()"
   ]
  },
  {
   "cell_type": "code",
   "execution_count": 68,
   "metadata": {},
   "outputs": [
    {
     "data": {
      "image/png": "[encoded data removed]",
      "text/plain": [
       "<Figure size 1600x1000 with 4 Axes>"
      ]
     },
     "metadata": {},
     "output_type": "display_data"
    }
   ],
   "source": [
    "f, ax = plt.subplots(2,2, figsize=(16,10))\n",
    "sns.histplot(tmp1['grand_total'], ax=ax[0,0])\n",
    "sns.histplot(tmp1['price'], ax=ax[0,1])\n",
    "sns.histplot(tmp1['qty_ordered'], ax=ax[1,0])\n",
    "sns.histplot(tmp1['discount_amount'], ax=ax[1,1])\n",
    "plt.show()\n"
   ]
  },
  {
   "cell_type": "markdown",
   "metadata": {},
   "source": [
    "#### Categorical Data Visualization"
   ]
  },
  {
   "cell_type": "code",
   "execution_count": 69,
   "metadata": {},
   "outputs": [],
   "source": [
    "tmp = df.select('created_at','status','payment_status','category','payment_method','bi_status').toPandas()"
   ]
  },
  {
   "cell_type": "code",
   "execution_count": 86,
   "metadata": {},
   "outputs": [],
   "source": [
    "tmp1 = tmp.status.value_counts()#.sort_values(ascending=True)\n",
    "# tmp1 =pd.DataFrame.from_dict(tmp1)"
   ]
  },
  {
   "cell_type": "code",
   "execution_count": 80,
   "metadata": {},
   "outputs": [
    {
     "data": {
      "text/plain": [
       "<Axes: ylabel='status'>"
      ]
     },
     "execution_count": 80,
     "metadata": {},
     "output_type": "execute_result"
    },
    {
     "data": {
      "image/png": "[encoded data removed]",
      "text/plain": [
       "<Figure size 640x480 with 1 Axes>"
      ]
     },
     "metadata": {},
     "output_type": "display_data"
    }
   ],
   "source": [
    "tmp1.plot(kind='barh')"
   ]
  },
  {
   "cell_type": "code",
   "execution_count": 87,
   "metadata": {},
   "outputs": [
    {
     "data": {
      "text/plain": [
       "status\n",
       "complete          230451\n",
       "canceled          197974\n",
       "received           77150\n",
       "order_refunded     58343\n",
       "refund              7876\n",
       "cod                 2851\n",
       "paid                1156\n",
       "closed               492\n",
       "payment_review        57\n",
       "pending               48\n",
       "processing            33\n",
       "holded                31\n",
       "fraud                 10\n",
       "pending_paypal         7\n",
       "exchange               4\n",
       "Name: count, dtype: int64"
      ]
     },
     "execution_count": 87,
     "metadata": {},
     "output_type": "execute_result"
    }
   ],
   "source": [
    "tmp1"
   ]
  },
  {
   "cell_type": "code",
   "execution_count": 95,
   "metadata": {},
   "outputs": [
    {
     "data": {
      "text/plain": [
       "<Axes: ylabel='status'>"
      ]
     },
     "execution_count": 95,
     "metadata": {},
     "output_type": "execute_result"
    },
    {
     "data": {
      "image/png": "[encoded data removed]",
      "text/plain": [
       "<Figure size 640x480 with 1 Axes>"
      ]
     },
     "metadata": {},
     "output_type": "display_data"
    }
   ],
   "source": [
    "sns.barplot(x=tmp1.values/1000, y=tmp1.index, orient='h')"
   ]
  },
  {
   "cell_type": "code",
   "execution_count": 97,
   "metadata": {},
   "outputs": [
    {
     "data": {
      "image/png": "[encoded data removed]",
      "text/plain": [
       "<Figure size 1600x1000 with 4 Axes>"
      ]
     },
     "metadata": {},
     "output_type": "display_data"
    }
   ],
   "source": [
    "f, ax = plt.subplots(2,2, figsize=(16,10))\n",
    "ax[0,0] = sns.barplot(x=tmp1.values/10000, y=tmp1.index, orient='h', ax=ax[0,0])\n",
    "ax[0,0].set_xlabel('Count/10000')\n",
    "ax[0,0] = sns.barplot(x=tmp1.values/10000, y=tmp1.index, orient='h', ax=ax[0,0])\n",
    "ax[0,0].set_xlabel('Count/10000')\n",
    "plt.show()\n"
   ]
  },
  {
   "cell_type": "code",
   "execution_count": null,
   "metadata": {},
   "outputs": [],
   "source": []
  }
 ],
 "metadata": {
  "kernelspec": {
   "display_name": "airflow",
   "language": "python",
   "name": "python3"
  },
  "language_info": {
   "codemirror_mode": {
    "name": "ipython",
    "version": 3
   },
   "file_extension": ".py",
   "mimetype": "text/x-python",
   "name": "python",
   "nbconvert_exporter": "python",
   "pygments_lexer": "ipython3",
   "version": "3.10.13"
  }
 },
 "nbformat": 4,
 "nbformat_minor": 2
}
